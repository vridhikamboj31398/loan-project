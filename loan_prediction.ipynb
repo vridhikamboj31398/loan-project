{
 "cells": [
  {
   "cell_type": "code",
   "execution_count": 56,
   "id": "20c0af9f",
   "metadata": {},
   "outputs": [],
   "source": [
    "# 1. Data Manipulation\n",
    "import numpy as np\n",
    "import pandas as pd\n",
    "\n",
    "# 2. Data Vizualisation\n",
    "from matplotlib import style\n",
    "import matplotlib.pyplot as plt\n",
    "import seaborn as sns\n",
    "\n",
    "\n",
    "\n",
    "# 3. Algorithms\n",
    "from sklearn.naive_bayes import GaussianNB as GNB\n",
    "from sklearn.linear_model import LogisticRegression as LR\n",
    "from sklearn.ensemble import RandomForestClassifier as RFC\n",
    "from sklearn.svm import SVC\n",
    "\n",
    "\n",
    "# 4. Metrics\n",
    "from sklearn import metrics, model_selection\n",
    "\n",
    "# 5. Feature Encoding\n",
    "from sklearn.preprocessing import LabelEncoder\n",
    "\n",
    "# 6. Hyperparameter Tuning\n",
    "from sklearn.model_selection import GridSearchCV\n",
    "\n",
    "%matplotlib inline\n",
    "style.use('dark_background')"
   ]
  },
  {
   "cell_type": "code",
   "execution_count": 2,
   "id": "50a8597e",
   "metadata": {},
   "outputs": [],
   "source": [
    "finance_train = pd.read_csv(\"finance_train_data.csv\")"
   ]
  },
  {
   "cell_type": "code",
   "execution_count": 3,
   "id": "b3f929dd",
   "metadata": {},
   "outputs": [
    {
     "data": {
      "text/html": [
       "<div>\n",
       "<style scoped>\n",
       "    .dataframe tbody tr th:only-of-type {\n",
       "        vertical-align: middle;\n",
       "    }\n",
       "\n",
       "    .dataframe tbody tr th {\n",
       "        vertical-align: top;\n",
       "    }\n",
       "\n",
       "    .dataframe thead th {\n",
       "        text-align: right;\n",
       "    }\n",
       "</style>\n",
       "<table border=\"1\" class=\"dataframe\">\n",
       "  <thead>\n",
       "    <tr style=\"text-align: right;\">\n",
       "      <th></th>\n",
       "      <th>column</th>\n",
       "      <th>column_type</th>\n",
       "      <th>null_count</th>\n",
       "      <th>unique_count</th>\n",
       "      <th>null_percent</th>\n",
       "      <th>unique_values</th>\n",
       "    </tr>\n",
       "  </thead>\n",
       "  <tbody>\n",
       "    <tr>\n",
       "      <th>0</th>\n",
       "      <td>Loan_ID</td>\n",
       "      <td>&lt;class 'str'&gt;</td>\n",
       "      <td>0</td>\n",
       "      <td>614</td>\n",
       "      <td>0.000000</td>\n",
       "      <td>[LP001002, LP001003, LP001005, LP001006, LP001...</td>\n",
       "    </tr>\n",
       "    <tr>\n",
       "      <th>1</th>\n",
       "      <td>Gender</td>\n",
       "      <td>&lt;class 'str'&gt;</td>\n",
       "      <td>13</td>\n",
       "      <td>2</td>\n",
       "      <td>2.117264</td>\n",
       "      <td>[Male, Female, nan]</td>\n",
       "    </tr>\n",
       "    <tr>\n",
       "      <th>2</th>\n",
       "      <td>Married</td>\n",
       "      <td>&lt;class 'str'&gt;</td>\n",
       "      <td>3</td>\n",
       "      <td>2</td>\n",
       "      <td>0.488599</td>\n",
       "      <td>[No, Yes, nan]</td>\n",
       "    </tr>\n",
       "    <tr>\n",
       "      <th>3</th>\n",
       "      <td>Dependents</td>\n",
       "      <td>&lt;class 'str'&gt;</td>\n",
       "      <td>15</td>\n",
       "      <td>4</td>\n",
       "      <td>2.442997</td>\n",
       "      <td>[0, 1, 2, 3+, nan]</td>\n",
       "    </tr>\n",
       "    <tr>\n",
       "      <th>4</th>\n",
       "      <td>Education</td>\n",
       "      <td>&lt;class 'str'&gt;</td>\n",
       "      <td>0</td>\n",
       "      <td>2</td>\n",
       "      <td>0.000000</td>\n",
       "      <td>[Graduate, Not Graduate]</td>\n",
       "    </tr>\n",
       "    <tr>\n",
       "      <th>5</th>\n",
       "      <td>Self_Employed</td>\n",
       "      <td>&lt;class 'str'&gt;</td>\n",
       "      <td>32</td>\n",
       "      <td>2</td>\n",
       "      <td>5.211726</td>\n",
       "      <td>[No, Yes, nan]</td>\n",
       "    </tr>\n",
       "    <tr>\n",
       "      <th>6</th>\n",
       "      <td>ApplicantIncome</td>\n",
       "      <td>&lt;class 'numpy.int64'&gt;</td>\n",
       "      <td>0</td>\n",
       "      <td>505</td>\n",
       "      <td>0.000000</td>\n",
       "      <td>[5849, 4583, 3000, 2583, 6000, 5417, 2333, 303...</td>\n",
       "    </tr>\n",
       "    <tr>\n",
       "      <th>7</th>\n",
       "      <td>CoapplicantIncome</td>\n",
       "      <td>&lt;class 'numpy.float64'&gt;</td>\n",
       "      <td>0</td>\n",
       "      <td>287</td>\n",
       "      <td>0.000000</td>\n",
       "      <td>[0.0, 1508.0, 2358.0, 4196.0, 1516.0, 2504.0, ...</td>\n",
       "    </tr>\n",
       "    <tr>\n",
       "      <th>8</th>\n",
       "      <td>LoanAmount</td>\n",
       "      <td>&lt;class 'numpy.float64'&gt;</td>\n",
       "      <td>22</td>\n",
       "      <td>203</td>\n",
       "      <td>3.583062</td>\n",
       "      <td>[nan, 128.0, 66.0, 120.0, 141.0, 267.0, 95.0, ...</td>\n",
       "    </tr>\n",
       "    <tr>\n",
       "      <th>9</th>\n",
       "      <td>Loan_Amount_Term</td>\n",
       "      <td>&lt;class 'numpy.float64'&gt;</td>\n",
       "      <td>14</td>\n",
       "      <td>10</td>\n",
       "      <td>2.280130</td>\n",
       "      <td>[360.0, 120.0, 240.0, nan, 180.0, 60.0, 300.0,...</td>\n",
       "    </tr>\n",
       "    <tr>\n",
       "      <th>10</th>\n",
       "      <td>Credit_History</td>\n",
       "      <td>&lt;class 'numpy.float64'&gt;</td>\n",
       "      <td>50</td>\n",
       "      <td>2</td>\n",
       "      <td>8.143322</td>\n",
       "      <td>[1.0, 0.0, nan]</td>\n",
       "    </tr>\n",
       "    <tr>\n",
       "      <th>11</th>\n",
       "      <td>Property_Area</td>\n",
       "      <td>&lt;class 'str'&gt;</td>\n",
       "      <td>0</td>\n",
       "      <td>3</td>\n",
       "      <td>0.000000</td>\n",
       "      <td>[Urban, Rural, Semiurban]</td>\n",
       "    </tr>\n",
       "    <tr>\n",
       "      <th>12</th>\n",
       "      <td>Loan_Status</td>\n",
       "      <td>&lt;class 'str'&gt;</td>\n",
       "      <td>0</td>\n",
       "      <td>2</td>\n",
       "      <td>0.000000</td>\n",
       "      <td>[Y, N]</td>\n",
       "    </tr>\n",
       "  </tbody>\n",
       "</table>\n",
       "</div>"
      ],
      "text/plain": [
       "               column              column_type  null_count  unique_count  \\\n",
       "0             Loan_ID            <class 'str'>           0           614   \n",
       "1              Gender            <class 'str'>          13             2   \n",
       "2             Married            <class 'str'>           3             2   \n",
       "3          Dependents            <class 'str'>          15             4   \n",
       "4           Education            <class 'str'>           0             2   \n",
       "5       Self_Employed            <class 'str'>          32             2   \n",
       "6     ApplicantIncome    <class 'numpy.int64'>           0           505   \n",
       "7   CoapplicantIncome  <class 'numpy.float64'>           0           287   \n",
       "8          LoanAmount  <class 'numpy.float64'>          22           203   \n",
       "9    Loan_Amount_Term  <class 'numpy.float64'>          14            10   \n",
       "10     Credit_History  <class 'numpy.float64'>          50             2   \n",
       "11      Property_Area            <class 'str'>           0             3   \n",
       "12        Loan_Status            <class 'str'>           0             2   \n",
       "\n",
       "    null_percent                                      unique_values  \n",
       "0       0.000000  [LP001002, LP001003, LP001005, LP001006, LP001...  \n",
       "1       2.117264                                [Male, Female, nan]  \n",
       "2       0.488599                                     [No, Yes, nan]  \n",
       "3       2.442997                                 [0, 1, 2, 3+, nan]  \n",
       "4       0.000000                           [Graduate, Not Graduate]  \n",
       "5       5.211726                                     [No, Yes, nan]  \n",
       "6       0.000000  [5849, 4583, 3000, 2583, 6000, 5417, 2333, 303...  \n",
       "7       0.000000  [0.0, 1508.0, 2358.0, 4196.0, 1516.0, 2504.0, ...  \n",
       "8       3.583062  [nan, 128.0, 66.0, 120.0, 141.0, 267.0, 95.0, ...  \n",
       "9       2.280130  [360.0, 120.0, 240.0, nan, 180.0, 60.0, 300.0,...  \n",
       "10      8.143322                                    [1.0, 0.0, nan]  \n",
       "11      0.000000                          [Urban, Rural, Semiurban]  \n",
       "12      0.000000                                             [Y, N]  "
      ]
     },
     "execution_count": 3,
     "metadata": {},
     "output_type": "execute_result"
    }
   ],
   "source": [
    "# function to get all relevant information about the dataframe\n",
    "\n",
    "def get_df_info(df, include_unique=True):\n",
    "    column = [col for col in df.columns]\n",
    "    column_type = [type(cell) for cell in df.loc[0,:]]\n",
    "    null_count = [df[col].isna().sum() for col in df.columns]\n",
    "    null_percent = [((df[col].isna().sum()/df.shape[0])*100) for col in df.columns]\n",
    "    if include_unique:\n",
    "        unique = [df[col].unique() for col in df.columns]\n",
    "        unique_count = [df[col].nunique() for col in df.columns]\n",
    "        df_info = pd.DataFrame({'column': column, 'column_type': column_type,\n",
    "                                'null_count': null_count, 'unique_count': unique_count,\n",
    "                                'null_percent': null_percent, 'unique_values': unique})\n",
    "    else:\n",
    "        df_info = pd.DataFrame({'column': column, 'column_type': column_type,\n",
    "                                'null_count': null_count, 'null_percent': null_percent})\n",
    "        \n",
    "    return df_info\n",
    "    \n",
    "\n",
    "get_df_info(finance_train)"
   ]
  },
  {
   "cell_type": "markdown",
   "id": "135938ce",
   "metadata": {},
   "source": [
    "To perform our Data Analysis, let's create an empty DataFrame to which we will keep adding the features one by one."
   ]
  },
  {
   "cell_type": "code",
   "execution_count": 4,
   "id": "d9d2100e",
   "metadata": {},
   "outputs": [],
   "source": [
    "df_finance = pd.DataFrame()"
   ]
  },
  {
   "cell_type": "markdown",
   "id": "2f601f44",
   "metadata": {},
   "source": [
    "Let's explore each feature individually"
   ]
  },
  {
   "cell_type": "code",
   "execution_count": 5,
   "id": "d10224f2",
   "metadata": {},
   "outputs": [],
   "source": [
    "# Function to make distribution and count plots\n",
    "\n",
    "def plot_(data, col, figsize=(20,2), hue=False):\n",
    "    if hue:\n",
    "        sns.displot(x=col, data=data, hue='Loan_Status', height=8)\n",
    "    else:\n",
    "        plt.figure(figsize=figsize)\n",
    "        sns.countplot(y=col, data=data)"
   ]
  },
  {
   "cell_type": "code",
   "execution_count": 6,
   "id": "c71d95c1",
   "metadata": {},
   "outputs": [],
   "source": [
    "#Function to calculate the proportion of \"Yes\" values for features with binary output against Loan_status\n",
    "\n",
    "def feature_approval_proportion(df, col, yes=1, no=0, label='Loan_Status'):\n",
    "    \n",
    "    yes_count, no_count = df[col].value_counts()[yes], df[col].value_counts()[no]\n",
    "\n",
    "    yes_prop = (df[df[label] == 1][col] == yes).sum()/ yes_count\n",
    "    no_prop = (df[df[label] == 1][col] == no).sum()/ no_count\n",
    "\n",
    "    return yes_prop*100, no_prop*100"
   ]
  },
  {
   "cell_type": "markdown",
   "id": "d946079f",
   "metadata": {},
   "source": [
    "Target Feature: Loan_Status (whether the loan was approved or not)\n",
    "This is what we want out model to predict."
   ]
  },
  {
   "cell_type": "code",
   "execution_count": 7,
   "id": "bad5bfd0",
   "metadata": {},
   "outputs": [
    {
     "data": {
      "image/png": "[encoded data removed]",
      "text/plain": [
       "<Figure size 1440x144 with 1 Axes>"
      ]
     },
     "metadata": {
      "needs_background": "light"
     },
     "output_type": "display_data"
    }
   ],
   "source": [
    "plot_(data=finance_train, col='Loan_Status')"
   ]
  },
  {
   "cell_type": "code",
   "execution_count": 8,
   "id": "4b153937",
   "metadata": {},
   "outputs": [],
   "source": [
    "# Let's encode 1 for Loan Approved, 0 for not approved and add this feature to out new dataframe\n",
    "\n",
    "df_finance['Loan_Status'] = finance_train['Loan_Status']\n",
    "df_finance['Loan_Status'] = np.where(df_finance['Loan_Status'] == 'Y', 1, 0)"
   ]
  },
  {
   "cell_type": "markdown",
   "id": "35fb0115",
   "metadata": {},
   "source": [
    "Feature-1: Loan_ID\n",
    "We have 601 unique values for this feature indicating that there is no underlying pattern behind its occurence and hence we do not add it to out new DataFrame"
   ]
  },
  {
   "cell_type": "markdown",
   "id": "68f08c96",
   "metadata": {},
   "source": [
    "Feature-2: Married (Y/N)"
   ]
  },
  {
   "cell_type": "code",
   "execution_count": 9,
   "id": "032f181f",
   "metadata": {},
   "outputs": [
    {
     "data": {
      "image/png": "[encoded data removed]",
      "text/plain": [
       "<Figure size 1440x144 with 1 Axes>"
      ]
     },
     "metadata": {
      "needs_background": "light"
     },
     "output_type": "display_data"
    }
   ],
   "source": [
    "# Let's look at the distribution of Married\n",
    "\n",
    "plot_(finance_train, col='Married')"
   ]
  },
  {
   "cell_type": "markdown",
   "id": "e0ee27ad",
   "metadata": {},
   "source": [
    "Married does not have any missing values. Therefore, let's encode 1 if an individual is married, 0 otherwise and add it to out new DataFrame"
   ]
  },
  {
   "cell_type": "code",
   "execution_count": 10,
   "id": "b6865d42",
   "metadata": {},
   "outputs": [
    {
     "data": {
      "text/html": [
       "<div>\n",
       "<style scoped>\n",
       "    .dataframe tbody tr th:only-of-type {\n",
       "        vertical-align: middle;\n",
       "    }\n",
       "\n",
       "    .dataframe tbody tr th {\n",
       "        vertical-align: top;\n",
       "    }\n",
       "\n",
       "    .dataframe thead th {\n",
       "        text-align: right;\n",
       "    }\n",
       "</style>\n",
       "<table border=\"1\" class=\"dataframe\">\n",
       "  <thead>\n",
       "    <tr style=\"text-align: right;\">\n",
       "      <th></th>\n",
       "      <th>Loan_Status</th>\n",
       "      <th>Married</th>\n",
       "    </tr>\n",
       "  </thead>\n",
       "  <tbody>\n",
       "    <tr>\n",
       "      <th>0</th>\n",
       "      <td>1</td>\n",
       "      <td>0</td>\n",
       "    </tr>\n",
       "    <tr>\n",
       "      <th>1</th>\n",
       "      <td>0</td>\n",
       "      <td>1</td>\n",
       "    </tr>\n",
       "    <tr>\n",
       "      <th>2</th>\n",
       "      <td>1</td>\n",
       "      <td>1</td>\n",
       "    </tr>\n",
       "    <tr>\n",
       "      <th>3</th>\n",
       "      <td>1</td>\n",
       "      <td>1</td>\n",
       "    </tr>\n",
       "    <tr>\n",
       "      <th>4</th>\n",
       "      <td>1</td>\n",
       "      <td>0</td>\n",
       "    </tr>\n",
       "  </tbody>\n",
       "</table>\n",
       "</div>"
      ],
      "text/plain": [
       "   Loan_Status  Married\n",
       "0            1        0\n",
       "1            0        1\n",
       "2            1        1\n",
       "3            1        1\n",
       "4            1        0"
      ]
     },
     "execution_count": 10,
     "metadata": {},
     "output_type": "execute_result"
    }
   ],
   "source": [
    "df_finance['Married'] = finance_train['Married']\n",
    "df_finance['Married'] = np.where(df_finance['Married'] == 'Yes', 1, 0)\n",
    "df_finance.head()"
   ]
  },
  {
   "cell_type": "markdown",
   "id": "ff1e0028",
   "metadata": {},
   "source": [
    "How does the Marital Status look when compared to Loan_Status ?"
   ]
  },
  {
   "cell_type": "code",
   "execution_count": 11,
   "id": "68b38811",
   "metadata": {},
   "outputs": [
    {
     "data": {
      "image/png": "[encoded data removed]",
      "text/plain": [
       "<Figure size 644.625x576 with 1 Axes>"
      ]
     },
     "metadata": {
      "needs_background": "light"
     },
     "output_type": "display_data"
    }
   ],
   "source": [
    "plot_(data=finance_train, col='Married', hue=True)"
   ]
  },
  {
   "cell_type": "markdown",
   "id": "237ed06a",
   "metadata": {},
   "source": [
    "From the plot, it looks like, Married individual is more likely to get approved. Let's verify this numerically. We will use the function that we created above."
   ]
  },
  {
   "cell_type": "code",
   "execution_count": 12,
   "id": "7b8092e0",
   "metadata": {},
   "outputs": [
    {
     "name": "stdout",
     "output_type": "stream",
     "text": [
      "71.60804020100502% married and 63.42592592592593% unmarried got approved\n"
     ]
    }
   ],
   "source": [
    "#Percent of married and unmarried whose status was YES\n",
    "\n",
    "marr, unmarr = feature_approval_proportion(df_finance, col='Married')\n",
    "\n",
    "print(\"{}% married and {}% unmarried got approved\".format(marr, unmarr))"
   ]
  },
  {
   "cell_type": "markdown",
   "id": "c9a8a23f",
   "metadata": {},
   "source": [
    "Hence, our hypothesis that a married individual is more likely to get approved seems correct."
   ]
  },
  {
   "cell_type": "markdown",
   "id": "0167b607",
   "metadata": {},
   "source": [
    "Feature-3: Education (Graduate/Not Graduate)"
   ]
  },
  {
   "cell_type": "code",
   "execution_count": 13,
   "id": "e8f03a3e",
   "metadata": {},
   "outputs": [
    {
     "data": {
      "image/png": "[encoded data removed]",
      "text/plain": [
       "<Figure size 1440x144 with 1 Axes>"
      ]
     },
     "metadata": {
      "needs_background": "light"
     },
     "output_type": "display_data"
    }
   ],
   "source": [
    "# Distribution of Married\n",
    "\n",
    "plot_(finance_train, col='Education')"
   ]
  },
  {
   "cell_type": "markdown",
   "id": "76c72d16",
   "metadata": {},
   "source": [
    "Education has 0 missing values. Encoding 1 for Graduate, 0 for Not Graduate and adding it to our new DataFrame."
   ]
  },
  {
   "cell_type": "code",
   "execution_count": 14,
   "id": "95e15cb1",
   "metadata": {},
   "outputs": [
    {
     "data": {
      "text/html": [
       "<div>\n",
       "<style scoped>\n",
       "    .dataframe tbody tr th:only-of-type {\n",
       "        vertical-align: middle;\n",
       "    }\n",
       "\n",
       "    .dataframe tbody tr th {\n",
       "        vertical-align: top;\n",
       "    }\n",
       "\n",
       "    .dataframe thead th {\n",
       "        text-align: right;\n",
       "    }\n",
       "</style>\n",
       "<table border=\"1\" class=\"dataframe\">\n",
       "  <thead>\n",
       "    <tr style=\"text-align: right;\">\n",
       "      <th></th>\n",
       "      <th>Loan_Status</th>\n",
       "      <th>Married</th>\n",
       "      <th>Graduate</th>\n",
       "    </tr>\n",
       "  </thead>\n",
       "  <tbody>\n",
       "    <tr>\n",
       "      <th>0</th>\n",
       "      <td>1</td>\n",
       "      <td>0</td>\n",
       "      <td>1</td>\n",
       "    </tr>\n",
       "    <tr>\n",
       "      <th>1</th>\n",
       "      <td>0</td>\n",
       "      <td>1</td>\n",
       "      <td>1</td>\n",
       "    </tr>\n",
       "    <tr>\n",
       "      <th>2</th>\n",
       "      <td>1</td>\n",
       "      <td>1</td>\n",
       "      <td>1</td>\n",
       "    </tr>\n",
       "    <tr>\n",
       "      <th>3</th>\n",
       "      <td>1</td>\n",
       "      <td>1</td>\n",
       "      <td>0</td>\n",
       "    </tr>\n",
       "    <tr>\n",
       "      <th>4</th>\n",
       "      <td>1</td>\n",
       "      <td>0</td>\n",
       "      <td>1</td>\n",
       "    </tr>\n",
       "  </tbody>\n",
       "</table>\n",
       "</div>"
      ],
      "text/plain": [
       "   Loan_Status  Married  Graduate\n",
       "0            1        0         1\n",
       "1            0        1         1\n",
       "2            1        1         1\n",
       "3            1        1         0\n",
       "4            1        0         1"
      ]
     },
     "execution_count": 14,
     "metadata": {},
     "output_type": "execute_result"
    }
   ],
   "source": [
    "df_finance['Graduate'] = finance_train['Education']\n",
    "df_finance['Graduate'] = np.where(df_finance['Graduate'] == 'Graduate', 1, 0)\n",
    "df_finance.head()"
   ]
  },
  {
   "cell_type": "markdown",
   "id": "21b608dd",
   "metadata": {},
   "source": [
    "Feature-4: Property_Area"
   ]
  },
  {
   "cell_type": "code",
   "execution_count": 15,
   "id": "d354a14a",
   "metadata": {},
   "outputs": [
    {
     "data": {
      "image/png": "[encoded data removed]",
      "text/plain": [
       "<Figure size 1440x216 with 1 Axes>"
      ]
     },
     "metadata": {
      "needs_background": "light"
     },
     "output_type": "display_data"
    }
   ],
   "source": [
    "plot_(data=finance_train, col='Property_Area', hue=False, figsize=(20,3))"
   ]
  },
  {
   "cell_type": "code",
   "execution_count": 16,
   "id": "702faef8",
   "metadata": {},
   "outputs": [
    {
     "data": {
      "image/png": "[encoded data removed]",
      "text/plain": [
       "<Figure size 644.625x576 with 1 Axes>"
      ]
     },
     "metadata": {
      "needs_background": "light"
     },
     "output_type": "display_data"
    }
   ],
   "source": [
    "plot_(data=finance_train, col='Property_Area', hue=True, figsize=(20,3))"
   ]
  },
  {
   "cell_type": "markdown",
   "id": "6a0cb707",
   "metadata": {},
   "source": [
    "From the above graph, we observe that people from Semiurban area have a greater chance of Loan_approval. Therefore, while encoding Property_Area into numbers, we can give the most weight to Semiurban."
   ]
  },
  {
   "cell_type": "code",
   "execution_count": 17,
   "id": "9445703f",
   "metadata": {},
   "outputs": [
    {
     "data": {
      "text/html": [
       "<div>\n",
       "<style scoped>\n",
       "    .dataframe tbody tr th:only-of-type {\n",
       "        vertical-align: middle;\n",
       "    }\n",
       "\n",
       "    .dataframe tbody tr th {\n",
       "        vertical-align: top;\n",
       "    }\n",
       "\n",
       "    .dataframe thead th {\n",
       "        text-align: right;\n",
       "    }\n",
       "</style>\n",
       "<table border=\"1\" class=\"dataframe\">\n",
       "  <thead>\n",
       "    <tr style=\"text-align: right;\">\n",
       "      <th></th>\n",
       "      <th>Loan_Status</th>\n",
       "      <th>Married</th>\n",
       "      <th>Graduate</th>\n",
       "      <th>Property_Area</th>\n",
       "    </tr>\n",
       "  </thead>\n",
       "  <tbody>\n",
       "    <tr>\n",
       "      <th>0</th>\n",
       "      <td>1</td>\n",
       "      <td>0</td>\n",
       "      <td>1</td>\n",
       "      <td>2</td>\n",
       "    </tr>\n",
       "    <tr>\n",
       "      <th>1</th>\n",
       "      <td>0</td>\n",
       "      <td>1</td>\n",
       "      <td>1</td>\n",
       "      <td>1</td>\n",
       "    </tr>\n",
       "    <tr>\n",
       "      <th>2</th>\n",
       "      <td>1</td>\n",
       "      <td>1</td>\n",
       "      <td>1</td>\n",
       "      <td>2</td>\n",
       "    </tr>\n",
       "    <tr>\n",
       "      <th>3</th>\n",
       "      <td>1</td>\n",
       "      <td>1</td>\n",
       "      <td>0</td>\n",
       "      <td>2</td>\n",
       "    </tr>\n",
       "    <tr>\n",
       "      <th>4</th>\n",
       "      <td>1</td>\n",
       "      <td>0</td>\n",
       "      <td>1</td>\n",
       "      <td>2</td>\n",
       "    </tr>\n",
       "  </tbody>\n",
       "</table>\n",
       "</div>"
      ],
      "text/plain": [
       "   Loan_Status  Married  Graduate  Property_Area\n",
       "0            1        0         1              2\n",
       "1            0        1         1              1\n",
       "2            1        1         1              2\n",
       "3            1        1         0              2\n",
       "4            1        0         1              2"
      ]
     },
     "execution_count": 17,
     "metadata": {},
     "output_type": "execute_result"
    }
   ],
   "source": [
    "# Encoding 1 for Rural, 2 for Urban and 3 for Semiurban and adding it to the new DataFrame\n",
    "\n",
    "df_finance['Property_Area'] = finance_train['Property_Area'].replace({'Semiurban': 3,\n",
    "                                                                     'Urban': 2,\n",
    "                                                                     'Rural': 1})\n",
    "df_finance.head()"
   ]
  },
  {
   "cell_type": "markdown",
   "id": "fd3ac39f",
   "metadata": {},
   "source": [
    "Feature-5: ApplicantIncome"
   ]
  },
  {
   "cell_type": "code",
   "execution_count": 18,
   "id": "5cb03870",
   "metadata": {
    "scrolled": true
   },
   "outputs": [
    {
     "data": {
      "text/plain": [
       "<AxesSubplot:xlabel='ApplicantIncome', ylabel='Loan_Status'>"
      ]
     },
     "execution_count": 18,
     "metadata": {},
     "output_type": "execute_result"
    },
    {
     "data": {
      "image/png": "[encoded data removed]",
      "text/plain": [
       "<Figure size 1008x504 with 1 Axes>"
      ]
     },
     "metadata": {
      "needs_background": "light"
     },
     "output_type": "display_data"
    }
   ],
   "source": [
    "plt.figure(figsize=(14,7))\n",
    "sns.scatterplot(x='ApplicantIncome', y='Loan_Status', data=finance_train, hue='Loan_Amount_Term', palette='gray', marker=\"D\")"
   ]
  },
  {
   "cell_type": "code",
   "execution_count": 19,
   "id": "9111e825",
   "metadata": {},
   "outputs": [
    {
     "data": {
      "text/plain": [
       "<AxesSubplot:ylabel='Frequency'>"
      ]
     },
     "execution_count": 19,
     "metadata": {},
     "output_type": "execute_result"
    },
    {
     "data": {
      "image/png": "[encoded data removed]",
      "text/plain": [
       "<Figure size 1008x432 with 1 Axes>"
      ]
     },
     "metadata": {
      "needs_background": "light"
     },
     "output_type": "display_data"
    }
   ],
   "source": [
    "finance_train.ApplicantIncome.plot(kind='hist', figsize=(14,6))"
   ]
  },
  {
   "cell_type": "markdown",
   "id": "b87d7eb8",
   "metadata": {},
   "source": [
    "Applicant Income is skewed towards the right (+vely)"
   ]
  },
  {
   "cell_type": "code",
   "execution_count": 20,
   "id": "f4293fb3",
   "metadata": {},
   "outputs": [
    {
     "data": {
      "text/plain": [
       "count      614.000000\n",
       "mean      5403.459283\n",
       "std       6109.041673\n",
       "min        150.000000\n",
       "25%       2877.500000\n",
       "50%       3812.500000\n",
       "75%       5795.000000\n",
       "max      81000.000000\n",
       "Name: ApplicantIncome, dtype: float64"
      ]
     },
     "execution_count": 20,
     "metadata": {},
     "output_type": "execute_result"
    }
   ],
   "source": [
    "finance_train.ApplicantIncome.describe()"
   ]
  },
  {
   "cell_type": "markdown",
   "id": "e2478a11",
   "metadata": {},
   "source": [
    "75% of the Applicants have an income <5780. The maximum income is 81000 indicating a possibility of outliers with respect to the Loan_Status. Therefore, we can discretize the ApplicantIncome by dividing it into 5 categories where Category 1 is the lowest income group and Category 5 is the highest income group."
   ]
  },
  {
   "cell_type": "code",
   "execution_count": 24,
   "id": "28bd6336",
   "metadata": {},
   "outputs": [
    {
     "data": {
      "text/html": [
       "<div>\n",
       "<style scoped>\n",
       "    .dataframe tbody tr th:only-of-type {\n",
       "        vertical-align: middle;\n",
       "    }\n",
       "\n",
       "    .dataframe tbody tr th {\n",
       "        vertical-align: top;\n",
       "    }\n",
       "\n",
       "    .dataframe thead th {\n",
       "        text-align: right;\n",
       "    }\n",
       "</style>\n",
       "<table border=\"1\" class=\"dataframe\">\n",
       "  <thead>\n",
       "    <tr style=\"text-align: right;\">\n",
       "      <th></th>\n",
       "      <th>Loan_Status</th>\n",
       "      <th>Married</th>\n",
       "      <th>Graduate</th>\n",
       "      <th>Property_Area</th>\n",
       "      <th>Applicant_Income_Category</th>\n",
       "    </tr>\n",
       "  </thead>\n",
       "  <tbody>\n",
       "    <tr>\n",
       "      <th>0</th>\n",
       "      <td>1</td>\n",
       "      <td>0</td>\n",
       "      <td>1</td>\n",
       "      <td>2</td>\n",
       "      <td>4</td>\n",
       "    </tr>\n",
       "    <tr>\n",
       "      <th>1</th>\n",
       "      <td>0</td>\n",
       "      <td>1</td>\n",
       "      <td>1</td>\n",
       "      <td>1</td>\n",
       "      <td>4</td>\n",
       "    </tr>\n",
       "    <tr>\n",
       "      <th>2</th>\n",
       "      <td>1</td>\n",
       "      <td>1</td>\n",
       "      <td>1</td>\n",
       "      <td>2</td>\n",
       "      <td>2</td>\n",
       "    </tr>\n",
       "    <tr>\n",
       "      <th>3</th>\n",
       "      <td>1</td>\n",
       "      <td>1</td>\n",
       "      <td>0</td>\n",
       "      <td>2</td>\n",
       "      <td>1</td>\n",
       "    </tr>\n",
       "    <tr>\n",
       "      <th>4</th>\n",
       "      <td>1</td>\n",
       "      <td>0</td>\n",
       "      <td>1</td>\n",
       "      <td>2</td>\n",
       "      <td>4</td>\n",
       "    </tr>\n",
       "  </tbody>\n",
       "</table>\n",
       "</div>"
      ],
      "text/plain": [
       "   Loan_Status  Married  Graduate  Property_Area Applicant_Income_Category\n",
       "0            1        0         1              2                         4\n",
       "1            0        1         1              1                         4\n",
       "2            1        1         1              2                         2\n",
       "3            1        1         0              2                         1\n",
       "4            1        0         1              2                         4"
      ]
     },
     "execution_count": 24,
     "metadata": {},
     "output_type": "execute_result"
    }
   ],
   "source": [
    "# Discretizing the Applicant_Income into 5 categories and adding it to our new DataFrame\n",
    "\n",
    "df_finance['Applicant_Income_Category'] = pd.qcut(finance_train.ApplicantIncome, 5, labels=[1,2,3,4,5])\n",
    "df_finance.head()"
   ]
  },
  {
   "cell_type": "markdown",
   "id": "b69f8de3",
   "metadata": {},
   "source": [
    "Feature-6: CoapplicantIncome\n",
    "We have a lot of unique values for CoapplicantIncome. Let's try to see the impact on Loan_Status"
   ]
  },
  {
   "cell_type": "code",
   "execution_count": 25,
   "id": "20daa45f",
   "metadata": {},
   "outputs": [
    {
     "data": {
      "image/png": "[encoded data removed]",
      "text/plain": [
       "<Figure size 644.625x576 with 1 Axes>"
      ]
     },
     "metadata": {
      "needs_background": "light"
     },
     "output_type": "display_data"
    }
   ],
   "source": [
    "plot_(data=finance_train, col='CoapplicantIncome', figsize=(25,15), hue=True)"
   ]
  },
  {
   "cell_type": "code",
   "execution_count": 26,
   "id": "bb949958",
   "metadata": {},
   "outputs": [
    {
     "data": {
      "text/plain": [
       "0.0       0.444625\n",
       "2500.0    0.008143\n",
       "2083.0    0.008143\n",
       "1666.0    0.008143\n",
       "2250.0    0.004886\n",
       "1750.0    0.004886\n",
       "1800.0    0.004886\n",
       "1625.0    0.004886\n",
       "2333.0    0.004886\n",
       "1459.0    0.004886\n",
       "Name: CoapplicantIncome, dtype: float64"
      ]
     },
     "execution_count": 26,
     "metadata": {},
     "output_type": "execute_result"
    }
   ],
   "source": [
    "finance_train.CoapplicantIncome.value_counts(normalize=True).head(10)"
   ]
  },
  {
   "cell_type": "markdown",
   "id": "15add939",
   "metadata": {},
   "source": [
    "44% of the values in CoapplicantIncome are 0. Let's dig deep to see if there's any significant difference between 0 and non-zero CoapplicantIncome"
   ]
  },
  {
   "cell_type": "code",
   "execution_count": 27,
   "id": "39146dc2",
   "metadata": {},
   "outputs": [
    {
     "name": "stdout",
     "output_type": "stream",
     "text": [
      " Coapplicant Income is zero:      0.6483516483516484\n",
      " Coapplicant Income is non-zero:  0.718475073313783\n"
     ]
    }
   ],
   "source": [
    "# Proportion of Approved when CoapplicantIncome is 0\n",
    "print(\" Coapplicant Income is zero:   \", end=\"   \")\n",
    "\n",
    "coapp_zero = finance_train[finance_train.CoapplicantIncome == 0].shape[0]            # number of rows with 0 copp income\n",
    "print(finance_train[(finance_train['CoapplicantIncome'] == 0) & (finance_train['Loan_Status'] == 'Y')].shape[0] / coapp_zero) \n",
    "\n",
    "\n",
    "# Proportion of Approved when CoapplicantIncome is non-zero\n",
    "print(\" Coapplicant Income is non-zero: \", end=\" \")\n",
    "\n",
    "coapp_non_zero = finance_train[finance_train.CoapplicantIncome != 0].shape[0]        # number of rows with non-zero coapp income\n",
    "print(finance_train[(finance_train['CoapplicantIncome'] != 0) & (finance_train['Loan_Status'] == 'Y')].shape[0] / coapp_non_zero)"
   ]
  },
  {
   "cell_type": "markdown",
   "id": "cde2f8ec",
   "metadata": {},
   "source": [
    "There does seem to be a higher proportion of people who get approval if their Coapplicant's Income is non-zero. Is there a relation between higher Coapplicant Income and Loan_Status? Let's check."
   ]
  },
  {
   "cell_type": "code",
   "execution_count": 28,
   "id": "d75b2cb1",
   "metadata": {},
   "outputs": [
    {
     "data": {
      "text/plain": [
       "<AxesSubplot:xlabel='Loan_Status', ylabel='CoapplicantIncome'>"
      ]
     },
     "execution_count": 28,
     "metadata": {},
     "output_type": "execute_result"
    },
    {
     "data": {
      "image/png": "[encoded data removed]",
      "text/plain": [
       "<Figure size 864x360 with 1 Axes>"
      ]
     },
     "metadata": {
      "needs_background": "light"
     },
     "output_type": "display_data"
    }
   ],
   "source": [
    "plt.figure(figsize=(12,5))\n",
    "sns.stripplot(y='CoapplicantIncome', x='Loan_Status', data=finance_train)"
   ]
  },
  {
   "cell_type": "markdown",
   "id": "6c6af16f",
   "metadata": {},
   "source": [
    "Feature_Engineering : There doesn't seem to be much increase in the probability of Loan getting approved as the CoapplicantIncome increases. Therefore, we create a new feature which is 1 if CoapplicantIncome is non-zero, 0 otherwise."
   ]
  },
  {
   "cell_type": "code",
   "execution_count": 29,
   "id": "1eb4e83b",
   "metadata": {},
   "outputs": [
    {
     "data": {
      "text/html": [
       "<div>\n",
       "<style scoped>\n",
       "    .dataframe tbody tr th:only-of-type {\n",
       "        vertical-align: middle;\n",
       "    }\n",
       "\n",
       "    .dataframe tbody tr th {\n",
       "        vertical-align: top;\n",
       "    }\n",
       "\n",
       "    .dataframe thead th {\n",
       "        text-align: right;\n",
       "    }\n",
       "</style>\n",
       "<table border=\"1\" class=\"dataframe\">\n",
       "  <thead>\n",
       "    <tr style=\"text-align: right;\">\n",
       "      <th></th>\n",
       "      <th>Loan_Status</th>\n",
       "      <th>Married</th>\n",
       "      <th>Graduate</th>\n",
       "      <th>Property_Area</th>\n",
       "      <th>Applicant_Income_Category</th>\n",
       "      <th>Coapplicant_Income_exists</th>\n",
       "    </tr>\n",
       "  </thead>\n",
       "  <tbody>\n",
       "    <tr>\n",
       "      <th>0</th>\n",
       "      <td>1</td>\n",
       "      <td>0</td>\n",
       "      <td>1</td>\n",
       "      <td>2</td>\n",
       "      <td>4</td>\n",
       "      <td>0</td>\n",
       "    </tr>\n",
       "    <tr>\n",
       "      <th>1</th>\n",
       "      <td>0</td>\n",
       "      <td>1</td>\n",
       "      <td>1</td>\n",
       "      <td>1</td>\n",
       "      <td>4</td>\n",
       "      <td>1</td>\n",
       "    </tr>\n",
       "    <tr>\n",
       "      <th>2</th>\n",
       "      <td>1</td>\n",
       "      <td>1</td>\n",
       "      <td>1</td>\n",
       "      <td>2</td>\n",
       "      <td>2</td>\n",
       "      <td>0</td>\n",
       "    </tr>\n",
       "    <tr>\n",
       "      <th>3</th>\n",
       "      <td>1</td>\n",
       "      <td>1</td>\n",
       "      <td>0</td>\n",
       "      <td>2</td>\n",
       "      <td>1</td>\n",
       "      <td>1</td>\n",
       "    </tr>\n",
       "    <tr>\n",
       "      <th>4</th>\n",
       "      <td>1</td>\n",
       "      <td>0</td>\n",
       "      <td>1</td>\n",
       "      <td>2</td>\n",
       "      <td>4</td>\n",
       "      <td>0</td>\n",
       "    </tr>\n",
       "  </tbody>\n",
       "</table>\n",
       "</div>"
      ],
      "text/plain": [
       "   Loan_Status  Married  Graduate  Property_Area Applicant_Income_Category  \\\n",
       "0            1        0         1              2                         4   \n",
       "1            0        1         1              1                         4   \n",
       "2            1        1         1              2                         2   \n",
       "3            1        1         0              2                         1   \n",
       "4            1        0         1              2                         4   \n",
       "\n",
       "   Coapplicant_Income_exists  \n",
       "0                          0  \n",
       "1                          1  \n",
       "2                          0  \n",
       "3                          1  \n",
       "4                          0  "
      ]
     },
     "execution_count": 29,
     "metadata": {},
     "output_type": "execute_result"
    }
   ],
   "source": [
    "df_finance['Coapplicant_Income_exists'] = finance_train['CoapplicantIncome']\n",
    "df_finance['Coapplicant_Income_exists'] = np.where(df_finance.Coapplicant_Income_exists == 0, 0, 1)\n",
    "df_finance.head()"
   ]
  },
  {
   "cell_type": "markdown",
   "id": "ae1d51ea",
   "metadata": {},
   "source": [
    "Feature-7: Gender"
   ]
  },
  {
   "cell_type": "code",
   "execution_count": 30,
   "id": "3744e821",
   "metadata": {},
   "outputs": [
    {
     "data": {
      "image/png": "[encoded data removed]",
      "text/plain": [
       "<Figure size 1440x144 with 1 Axes>"
      ]
     },
     "metadata": {
      "needs_background": "light"
     },
     "output_type": "display_data"
    }
   ],
   "source": [
    "plot_(data=finance_train, hue=False, col='Gender')"
   ]
  },
  {
   "cell_type": "code",
   "execution_count": 31,
   "id": "36841d4a",
   "metadata": {},
   "outputs": [
    {
     "data": {
      "text/plain": [
       "Male      489\n",
       "Female    112\n",
       "NaN        13\n",
       "Name: Gender, dtype: int64"
      ]
     },
     "execution_count": 31,
     "metadata": {},
     "output_type": "execute_result"
    }
   ],
   "source": [
    "finance_train.Gender.value_counts(dropna=False)"
   ]
  },
  {
   "cell_type": "markdown",
   "id": "bc38f2d7",
   "metadata": {},
   "source": [
    "About 80% of applicants are Males. Therefore, we will try to keep approximately the same ratio while filling the missing values."
   ]
  },
  {
   "cell_type": "code",
   "execution_count": 32,
   "id": "75547f0c",
   "metadata": {},
   "outputs": [
    {
     "data": {
      "text/plain": [
       "Male      499\n",
       "Female    115\n",
       "Name: Gender, dtype: int64"
      ]
     },
     "execution_count": 32,
     "metadata": {},
     "output_type": "execute_result"
    }
   ],
   "source": [
    "np.random.seed(23)\n",
    "finance_train.Gender = finance_train.Gender.fillna(pd.Series(np.random.choice(['Male', 'Female'], p=[0.8,0.2], size=len(finance_train))))\n",
    "finance_train.Gender.value_counts(dropna=False)"
   ]
  },
  {
   "cell_type": "code",
   "execution_count": 33,
   "id": "bba50817",
   "metadata": {},
   "outputs": [
    {
     "data": {
      "text/html": [
       "<div>\n",
       "<style scoped>\n",
       "    .dataframe tbody tr th:only-of-type {\n",
       "        vertical-align: middle;\n",
       "    }\n",
       "\n",
       "    .dataframe tbody tr th {\n",
       "        vertical-align: top;\n",
       "    }\n",
       "\n",
       "    .dataframe thead th {\n",
       "        text-align: right;\n",
       "    }\n",
       "</style>\n",
       "<table border=\"1\" class=\"dataframe\">\n",
       "  <thead>\n",
       "    <tr style=\"text-align: right;\">\n",
       "      <th></th>\n",
       "      <th>Loan_Status</th>\n",
       "      <th>Married</th>\n",
       "      <th>Graduate</th>\n",
       "      <th>Property_Area</th>\n",
       "      <th>Applicant_Income_Category</th>\n",
       "      <th>Coapplicant_Income_exists</th>\n",
       "      <th>Male</th>\n",
       "    </tr>\n",
       "  </thead>\n",
       "  <tbody>\n",
       "    <tr>\n",
       "      <th>0</th>\n",
       "      <td>1</td>\n",
       "      <td>0</td>\n",
       "      <td>1</td>\n",
       "      <td>2</td>\n",
       "      <td>4</td>\n",
       "      <td>0</td>\n",
       "      <td>1</td>\n",
       "    </tr>\n",
       "    <tr>\n",
       "      <th>1</th>\n",
       "      <td>0</td>\n",
       "      <td>1</td>\n",
       "      <td>1</td>\n",
       "      <td>1</td>\n",
       "      <td>4</td>\n",
       "      <td>1</td>\n",
       "      <td>1</td>\n",
       "    </tr>\n",
       "    <tr>\n",
       "      <th>2</th>\n",
       "      <td>1</td>\n",
       "      <td>1</td>\n",
       "      <td>1</td>\n",
       "      <td>2</td>\n",
       "      <td>2</td>\n",
       "      <td>0</td>\n",
       "      <td>1</td>\n",
       "    </tr>\n",
       "    <tr>\n",
       "      <th>3</th>\n",
       "      <td>1</td>\n",
       "      <td>1</td>\n",
       "      <td>0</td>\n",
       "      <td>2</td>\n",
       "      <td>1</td>\n",
       "      <td>1</td>\n",
       "      <td>1</td>\n",
       "    </tr>\n",
       "    <tr>\n",
       "      <th>4</th>\n",
       "      <td>1</td>\n",
       "      <td>0</td>\n",
       "      <td>1</td>\n",
       "      <td>2</td>\n",
       "      <td>4</td>\n",
       "      <td>0</td>\n",
       "      <td>1</td>\n",
       "    </tr>\n",
       "    <tr>\n",
       "      <th>5</th>\n",
       "      <td>1</td>\n",
       "      <td>1</td>\n",
       "      <td>1</td>\n",
       "      <td>2</td>\n",
       "      <td>4</td>\n",
       "      <td>1</td>\n",
       "      <td>1</td>\n",
       "    </tr>\n",
       "  </tbody>\n",
       "</table>\n",
       "</div>"
      ],
      "text/plain": [
       "   Loan_Status  Married  Graduate  Property_Area Applicant_Income_Category  \\\n",
       "0            1        0         1              2                         4   \n",
       "1            0        1         1              1                         4   \n",
       "2            1        1         1              2                         2   \n",
       "3            1        1         0              2                         1   \n",
       "4            1        0         1              2                         4   \n",
       "5            1        1         1              2                         4   \n",
       "\n",
       "   Coapplicant_Income_exists  Male  \n",
       "0                          0     1  \n",
       "1                          1     1  \n",
       "2                          0     1  \n",
       "3                          1     1  \n",
       "4                          0     1  \n",
       "5                          1     1  "
      ]
     },
     "execution_count": 33,
     "metadata": {},
     "output_type": "execute_result"
    }
   ],
   "source": [
    "# Encoding 1 for Males, 0 for Females and adding it to our new DataFrame\n",
    "\n",
    "df_finance['Male'] = finance_train['Gender']\n",
    "df_finance['Male'] = np.where(df_finance['Male'] == 'Male', 1, 0)\n",
    "df_finance.head(6)"
   ]
  },
  {
   "cell_type": "code",
   "execution_count": 34,
   "id": "8691709b",
   "metadata": {},
   "outputs": [
    {
     "data": {
      "image/png": "[encoded data removed]",
      "text/plain": [
       "<Figure size 644.625x576 with 1 Axes>"
      ]
     },
     "metadata": {
      "needs_background": "light"
     },
     "output_type": "display_data"
    }
   ],
   "source": [
    "plot_(data=finance_train, col='Gender', hue=True, figsize=(10,8))"
   ]
  },
  {
   "cell_type": "markdown",
   "id": "640ab619",
   "metadata": {},
   "source": [
    "Looks like almost same proportion of Male, Females get approved. Let's check"
   ]
  },
  {
   "cell_type": "code",
   "execution_count": 35,
   "id": "874fee95",
   "metadata": {},
   "outputs": [
    {
     "name": "stdout",
     "output_type": "stream",
     "text": [
      "Males approved: 69.13827655310621 %\n",
      "Females  approved: 66.95652173913044 %\n"
     ]
    }
   ],
   "source": [
    "male_approve, female_approve = feature_approval_proportion(df_finance, col='Male')\n",
    "print(\"Males approved: {} %\\nFemales  approved: {} %\".format(male_approve, female_approve))"
   ]
  },
  {
   "cell_type": "markdown",
   "id": "74703d57",
   "metadata": {},
   "source": [
    "Therefore, Loan_Status is not very dependent on Gender. 'Advantage:' Even if the actual null values are in a different proportion from what we imputed it wouldn't make much of a differenc"
   ]
  },
  {
   "cell_type": "markdown",
   "id": "9c81a37e",
   "metadata": {},
   "source": [
    "Feature-8 : Dependents"
   ]
  },
  {
   "cell_type": "code",
   "execution_count": 36,
   "id": "cc1087b6",
   "metadata": {},
   "outputs": [
    {
     "data": {
      "image/png": "[encoded data removed]",
      "text/plain": [
       "<Figure size 1440x216 with 1 Axes>"
      ]
     },
     "metadata": {
      "needs_background": "light"
     },
     "output_type": "display_data"
    }
   ],
   "source": [
    "plot_(finance_train, col='Dependents', figsize=(20,3), hue=False)"
   ]
  },
  {
   "cell_type": "code",
   "execution_count": 37,
   "id": "f284e48e",
   "metadata": {},
   "outputs": [
    {
     "data": {
      "text/plain": [
       "0      345\n",
       "1      102\n",
       "2      101\n",
       "3       51\n",
       "NaN     15\n",
       "Name: Dependents, dtype: int64"
      ]
     },
     "execution_count": 37,
     "metadata": {},
     "output_type": "execute_result"
    }
   ],
   "source": [
    "finance_train.Dependents = finance_train.Dependents.replace('3+','3')\n",
    "finance_train.Dependents.value_counts(dropna=False)"
   ]
  },
  {
   "cell_type": "markdown",
   "id": "1070d505",
   "metadata": {},
   "source": [
    "Imputing the missing values with 0,1,2 and 3 in the same proportion as they occur in the rest of the data."
   ]
  },
  {
   "cell_type": "code",
   "execution_count": 38,
   "id": "45320c39",
   "metadata": {},
   "outputs": [
    {
     "data": {
      "text/plain": [
       "0    357\n",
       "1    103\n",
       "2    103\n",
       "3     51\n",
       "Name: Dependents, dtype: int64"
      ]
     },
     "execution_count": 38,
     "metadata": {},
     "output_type": "execute_result"
    }
   ],
   "source": [
    "np.random.seed(23)\n",
    "finance_train.Dependents = finance_train.Dependents.fillna(pd.Series(np.random.choice(['0', '1', '2', '3'], p=[0.58, 0.17, 0.17, 0.08], size=len(finance_train))))\n",
    "finance_train.Dependents.value_counts()"
   ]
  },
  {
   "cell_type": "code",
   "execution_count": 39,
   "id": "f0e725f9",
   "metadata": {},
   "outputs": [
    {
     "data": {
      "image/png": "[encoded data removed]",
      "text/plain": [
       "<Figure size 644.625x576 with 1 Axes>"
      ]
     },
     "metadata": {
      "needs_background": "light"
     },
     "output_type": "display_data"
    }
   ],
   "source": [
    "plot_(finance_train, col='Dependents', hue=True)"
   ]
  },
  {
   "cell_type": "markdown",
   "id": "8829e7d6",
   "metadata": {},
   "source": [
    "Individuals having 3 or more Dependents have the least chance of getting their loans approved. "
   ]
  },
  {
   "cell_type": "code",
   "execution_count": 41,
   "id": "e6fb4134",
   "metadata": {},
   "outputs": [],
   "source": [
    "zero, two  = finance_train.Dependents.value_counts()[0], finance_train.Dependents.value_counts()[1]\n",
    "one, three = finance_train.Dependents.value_counts()[2], finance_train.Dependents.value_counts()[3]\n",
    "\n",
    "zero_p = (finance_train[(finance_train.Dependents == '0')]['Loan_Status'] == 'Y').sum() / zero\n",
    "two_p = (finance_train[(finance_train.Dependents == '1')]['Loan_Status'] == 'Y').sum() / two\n",
    "one_p = (finance_train[(finance_train.Dependents == '2')]['Loan_Status'] == 'Y').sum() / one\n",
    "three_p = (finance_train[(finance_train.Dependents == '3')]['Loan_Status'] == 'Y').sum() / three\n",
    "\n"
   ]
  },
  {
   "cell_type": "code",
   "execution_count": 42,
   "id": "253a1db9",
   "metadata": {},
   "outputs": [
    {
     "data": {
      "text/plain": [
       "0.6862745098039216"
      ]
     },
     "execution_count": 42,
     "metadata": {},
     "output_type": "execute_result"
    }
   ],
   "source": [
    "zero_p"
   ]
  },
  {
   "cell_type": "code",
   "execution_count": 43,
   "id": "1f9e9473",
   "metadata": {},
   "outputs": [
    {
     "data": {
      "text/plain": [
       "0.6504854368932039"
      ]
     },
     "execution_count": 43,
     "metadata": {},
     "output_type": "execute_result"
    }
   ],
   "source": [
    "two_p"
   ]
  },
  {
   "cell_type": "code",
   "execution_count": 44,
   "id": "6f31b5f6",
   "metadata": {},
   "outputs": [
    {
     "data": {
      "text/plain": [
       "0.7475728155339806"
      ]
     },
     "execution_count": 44,
     "metadata": {},
     "output_type": "execute_result"
    }
   ],
   "source": [
    "one_p"
   ]
  },
  {
   "cell_type": "code",
   "execution_count": 45,
   "id": "4f105c97",
   "metadata": {},
   "outputs": [
    {
     "data": {
      "text/plain": [
       "0.6470588235294118"
      ]
     },
     "execution_count": 45,
     "metadata": {},
     "output_type": "execute_result"
    }
   ],
   "source": [
    "three_p"
   ]
  },
  {
   "cell_type": "markdown",
   "id": "b9b57592",
   "metadata": {},
   "source": [
    "Therefore, we need to encode the Dependents accordingly giving most weight to 1 dependent followed by 0, 2 and 3."
   ]
  },
  {
   "cell_type": "code",
   "execution_count": 46,
   "id": "bd2d226d",
   "metadata": {},
   "outputs": [
    {
     "data": {
      "text/html": [
       "<div>\n",
       "<style scoped>\n",
       "    .dataframe tbody tr th:only-of-type {\n",
       "        vertical-align: middle;\n",
       "    }\n",
       "\n",
       "    .dataframe tbody tr th {\n",
       "        vertical-align: top;\n",
       "    }\n",
       "\n",
       "    .dataframe thead th {\n",
       "        text-align: right;\n",
       "    }\n",
       "</style>\n",
       "<table border=\"1\" class=\"dataframe\">\n",
       "  <thead>\n",
       "    <tr style=\"text-align: right;\">\n",
       "      <th></th>\n",
       "      <th>Loan_Status</th>\n",
       "      <th>Married</th>\n",
       "      <th>Graduate</th>\n",
       "      <th>Property_Area</th>\n",
       "      <th>Applicant_Income_Category</th>\n",
       "      <th>Coapplicant_Income_exists</th>\n",
       "      <th>Male</th>\n",
       "      <th>Dependents</th>\n",
       "    </tr>\n",
       "  </thead>\n",
       "  <tbody>\n",
       "    <tr>\n",
       "      <th>0</th>\n",
       "      <td>1</td>\n",
       "      <td>0</td>\n",
       "      <td>1</td>\n",
       "      <td>2</td>\n",
       "      <td>4</td>\n",
       "      <td>0</td>\n",
       "      <td>1</td>\n",
       "      <td>2</td>\n",
       "    </tr>\n",
       "    <tr>\n",
       "      <th>1</th>\n",
       "      <td>0</td>\n",
       "      <td>1</td>\n",
       "      <td>1</td>\n",
       "      <td>1</td>\n",
       "      <td>4</td>\n",
       "      <td>1</td>\n",
       "      <td>1</td>\n",
       "      <td>3</td>\n",
       "    </tr>\n",
       "    <tr>\n",
       "      <th>2</th>\n",
       "      <td>1</td>\n",
       "      <td>1</td>\n",
       "      <td>1</td>\n",
       "      <td>2</td>\n",
       "      <td>2</td>\n",
       "      <td>0</td>\n",
       "      <td>1</td>\n",
       "      <td>2</td>\n",
       "    </tr>\n",
       "    <tr>\n",
       "      <th>3</th>\n",
       "      <td>1</td>\n",
       "      <td>1</td>\n",
       "      <td>0</td>\n",
       "      <td>2</td>\n",
       "      <td>1</td>\n",
       "      <td>1</td>\n",
       "      <td>1</td>\n",
       "      <td>2</td>\n",
       "    </tr>\n",
       "    <tr>\n",
       "      <th>4</th>\n",
       "      <td>1</td>\n",
       "      <td>0</td>\n",
       "      <td>1</td>\n",
       "      <td>2</td>\n",
       "      <td>4</td>\n",
       "      <td>0</td>\n",
       "      <td>1</td>\n",
       "      <td>2</td>\n",
       "    </tr>\n",
       "  </tbody>\n",
       "</table>\n",
       "</div>"
      ],
      "text/plain": [
       "   Loan_Status  Married  Graduate  Property_Area Applicant_Income_Category  \\\n",
       "0            1        0         1              2                         4   \n",
       "1            0        1         1              1                         4   \n",
       "2            1        1         1              2                         2   \n",
       "3            1        1         0              2                         1   \n",
       "4            1        0         1              2                         4   \n",
       "\n",
       "   Coapplicant_Income_exists  Male  Dependents  \n",
       "0                          0     1           2  \n",
       "1                          1     1           3  \n",
       "2                          0     1           2  \n",
       "3                          1     1           2  \n",
       "4                          0     1           2  "
      ]
     },
     "execution_count": 46,
     "metadata": {},
     "output_type": "execute_result"
    }
   ],
   "source": [
    "df_finance['Dependents'] = finance_train['Dependents']\n",
    "df_finance['Dependents'] = df_finance.Dependents.replace({'1': 3, '0': 2, '2': 1, '3': 0})\n",
    "df_finance.head()"
   ]
  },
  {
   "cell_type": "markdown",
   "id": "136dc678",
   "metadata": {},
   "source": [
    "Feature-9 : Loan_Amount_Term"
   ]
  },
  {
   "cell_type": "code",
   "execution_count": 47,
   "id": "eb159036",
   "metadata": {},
   "outputs": [
    {
     "data": {
      "image/png": "[encoded data removed]",
      "text/plain": [
       "<Figure size 1800x432 with 1 Axes>"
      ]
     },
     "metadata": {
      "needs_background": "light"
     },
     "output_type": "display_data"
    }
   ],
   "source": [
    "plot_(finance_train, col='Loan_Amount_Term', figsize=(25,6),hue=False)"
   ]
  },
  {
   "cell_type": "code",
   "execution_count": 48,
   "id": "e86d1da8",
   "metadata": {},
   "outputs": [
    {
     "data": {
      "text/plain": [
       "360.0    0.833876\n",
       "180.0    0.071661\n",
       "480.0    0.024430\n",
       "NaN      0.022801\n",
       "300.0    0.021173\n",
       "240.0    0.006515\n",
       "84.0     0.006515\n",
       "120.0    0.004886\n",
       "60.0     0.003257\n",
       "36.0     0.003257\n",
       "12.0     0.001629\n",
       "Name: Loan_Amount_Term, dtype: float64"
      ]
     },
     "execution_count": 48,
     "metadata": {},
     "output_type": "execute_result"
    }
   ],
   "source": [
    "finance_train.Loan_Amount_Term.value_counts(normalize=True, dropna=False)"
   ]
  },
  {
   "cell_type": "markdown",
   "id": "832bd146",
   "metadata": {},
   "source": [
    "The Loan_Amount_Term column is highly skewed towards 360.0. We can choose 360.0 and 180.0 to impute the missing values in proportions of 0.84, 0.16"
   ]
  },
  {
   "cell_type": "code",
   "execution_count": 133,
   "id": "bd273aa2",
   "metadata": {},
   "outputs": [],
   "source": [
    "np.random.seed(23)\n",
    "finance_train['Loan_Amount_Term'] = finance_train.Loan_Amount_Term.fillna(pd.Series(np.random.choice([360.0, 180.0], p=[0.84, 0.16], size=len(finance_train))))"
   ]
  },
  {
   "cell_type": "markdown",
   "id": "b7d97145",
   "metadata": {},
   "source": [
    "Converting the term from months into years."
   ]
  },
  {
   "cell_type": "code",
   "execution_count": 53,
   "id": "7b628dcc",
   "metadata": {},
   "outputs": [
    {
     "data": {
      "text/plain": [
       "30.0    512\n",
       "15.0     44\n",
       "40.0     15\n",
       "25.0     13\n",
       "20.0      4\n",
       "7.0       4\n",
       "10.0      3\n",
       "5.0       2\n",
       "3.0       2\n",
       "1.0       1\n",
       "Name: Loan_Term_Years, dtype: int64"
      ]
     },
     "execution_count": 53,
     "metadata": {},
     "output_type": "execute_result"
    }
   ],
   "source": [
    "finance_train['Loan_Term_Years'] = finance_train['Loan_Amount_Term'].apply(lambda x: x//12)\n",
    "finance_train.Loan_Term_Years.value_counts()"
   ]
  },
  {
   "cell_type": "markdown",
   "id": "20254aa3",
   "metadata": {},
   "source": [
    "Let's check the impact of Loan term on the approval status"
   ]
  },
  {
   "cell_type": "code",
   "execution_count": 54,
   "id": "dcdeaa9b",
   "metadata": {},
   "outputs": [
    {
     "data": {
      "image/png": "[encoded data removed]",
      "text/plain": [
       "<Figure size 644.625x576 with 1 Axes>"
      ]
     },
     "metadata": {
      "needs_background": "light"
     },
     "output_type": "display_data"
    }
   ],
   "source": [
    "plot_(col='Loan_Term_Years', data=finance_train, hue='Loan_Status')"
   ]
  },
  {
   "cell_type": "markdown",
   "id": "0a96960a",
   "metadata": {},
   "source": [
    " in the top two bars, there is again no significant difference between the status of Loan approval."
   ]
  },
  {
   "cell_type": "markdown",
   "id": "7a0af56c",
   "metadata": {},
   "source": [
    "Label Encoding the Loan_Term"
   ]
  },
  {
   "cell_type": "code",
   "execution_count": 57,
   "id": "6c601c42",
   "metadata": {},
   "outputs": [
    {
     "data": {
      "text/html": [
       "<div>\n",
       "<style scoped>\n",
       "    .dataframe tbody tr th:only-of-type {\n",
       "        vertical-align: middle;\n",
       "    }\n",
       "\n",
       "    .dataframe tbody tr th {\n",
       "        vertical-align: top;\n",
       "    }\n",
       "\n",
       "    .dataframe thead th {\n",
       "        text-align: right;\n",
       "    }\n",
       "</style>\n",
       "<table border=\"1\" class=\"dataframe\">\n",
       "  <thead>\n",
       "    <tr style=\"text-align: right;\">\n",
       "      <th></th>\n",
       "      <th>Loan_Status</th>\n",
       "      <th>Married</th>\n",
       "      <th>Graduate</th>\n",
       "      <th>Property_Area</th>\n",
       "      <th>Applicant_Income_Category</th>\n",
       "      <th>Coapplicant_Income_exists</th>\n",
       "      <th>Male</th>\n",
       "      <th>Dependents</th>\n",
       "      <th>Loan_Term_Years_encoded</th>\n",
       "    </tr>\n",
       "  </thead>\n",
       "  <tbody>\n",
       "    <tr>\n",
       "      <th>0</th>\n",
       "      <td>1</td>\n",
       "      <td>0</td>\n",
       "      <td>1</td>\n",
       "      <td>2</td>\n",
       "      <td>4</td>\n",
       "      <td>0</td>\n",
       "      <td>1</td>\n",
       "      <td>2</td>\n",
       "      <td>8</td>\n",
       "    </tr>\n",
       "    <tr>\n",
       "      <th>1</th>\n",
       "      <td>0</td>\n",
       "      <td>1</td>\n",
       "      <td>1</td>\n",
       "      <td>1</td>\n",
       "      <td>4</td>\n",
       "      <td>1</td>\n",
       "      <td>1</td>\n",
       "      <td>3</td>\n",
       "      <td>8</td>\n",
       "    </tr>\n",
       "    <tr>\n",
       "      <th>2</th>\n",
       "      <td>1</td>\n",
       "      <td>1</td>\n",
       "      <td>1</td>\n",
       "      <td>2</td>\n",
       "      <td>2</td>\n",
       "      <td>0</td>\n",
       "      <td>1</td>\n",
       "      <td>2</td>\n",
       "      <td>8</td>\n",
       "    </tr>\n",
       "  </tbody>\n",
       "</table>\n",
       "</div>"
      ],
      "text/plain": [
       "   Loan_Status  Married  Graduate  Property_Area Applicant_Income_Category  \\\n",
       "0            1        0         1              2                         4   \n",
       "1            0        1         1              1                         4   \n",
       "2            1        1         1              2                         2   \n",
       "\n",
       "   Coapplicant_Income_exists  Male  Dependents  Loan_Term_Years_encoded  \n",
       "0                          0     1           2                        8  \n",
       "1                          1     1           3                        8  \n",
       "2                          0     1           2                        8  "
      ]
     },
     "execution_count": 57,
     "metadata": {},
     "output_type": "execute_result"
    }
   ],
   "source": [
    "encode = LabelEncoder()\n",
    "df_finance['Loan_Term_Years_encoded'] = pd.Series(encode.fit_transform(finance_train['Loan_Term_Years']))\n",
    "df_finance.head(3)"
   ]
  },
  {
   "cell_type": "markdown",
   "id": "f9696f97",
   "metadata": {},
   "source": [
    "Feature-10 : LoanAmount\n",
    "Loan_Amount is a continous feature and hence we make a scatterplot"
   ]
  },
  {
   "cell_type": "code",
   "execution_count": 58,
   "id": "e77e7d89",
   "metadata": {},
   "outputs": [
    {
     "data": {
      "text/plain": [
       "<AxesSubplot:xlabel='LoanAmount', ylabel='Loan_Status'>"
      ]
     },
     "execution_count": 58,
     "metadata": {},
     "output_type": "execute_result"
    },
    {
     "data": {
      "image/png": "[encoded data removed]",
      "text/plain": [
       "<Figure size 1080x576 with 1 Axes>"
      ]
     },
     "metadata": {},
     "output_type": "display_data"
    }
   ],
   "source": [
    "plt.figure(figsize=(15,8))\n",
    "sns.scatterplot(x='LoanAmount', y='Loan_Status', data=finance_train)"
   ]
  },
  {
   "cell_type": "code",
   "execution_count": 59,
   "id": "1fb5b3d2",
   "metadata": {},
   "outputs": [
    {
     "data": {
      "text/plain": [
       "count    592.000000\n",
       "mean     146.412162\n",
       "std       85.587325\n",
       "min        9.000000\n",
       "25%      100.000000\n",
       "50%      128.000000\n",
       "75%      168.000000\n",
       "max      700.000000\n",
       "Name: LoanAmount, dtype: float64"
      ]
     },
     "execution_count": 59,
     "metadata": {},
     "output_type": "execute_result"
    }
   ],
   "source": [
    "finance_train.LoanAmount.describe()"
   ]
  },
  {
   "cell_type": "code",
   "execution_count": 60,
   "id": "323a392d",
   "metadata": {},
   "outputs": [
    {
     "data": {
      "text/plain": [
       "NaN      22\n",
       "120.0    20\n",
       "110.0    17\n",
       "100.0    15\n",
       "160.0    12\n",
       "         ..\n",
       "240.0     1\n",
       "214.0     1\n",
       "59.0      1\n",
       "166.0     1\n",
       "253.0     1\n",
       "Name: LoanAmount, Length: 204, dtype: int64"
      ]
     },
     "execution_count": 60,
     "metadata": {},
     "output_type": "execute_result"
    }
   ],
   "source": [
    "finance_train.LoanAmount.value_counts(dropna=False)"
   ]
  },
  {
   "cell_type": "code",
   "execution_count": 61,
   "id": "8faa176b",
   "metadata": {},
   "outputs": [
    {
     "data": {
      "text/plain": [
       "<AxesSubplot:ylabel='Frequency'>"
      ]
     },
     "execution_count": 61,
     "metadata": {},
     "output_type": "execute_result"
    },
    {
     "data": {
      "image/png": "[encoded data removed]",
      "text/plain": [
       "<Figure size 1008x432 with 1 Axes>"
      ]
     },
     "metadata": {},
     "output_type": "display_data"
    }
   ],
   "source": [
    "finance_train.LoanAmount.plot(kind='hist', figsize=(14,6))"
   ]
  },
  {
   "cell_type": "markdown",
   "id": "0faf49cf",
   "metadata": {},
   "source": [
    "The distribution of LoanAmount has got a long tail. Therefore, we can replace the missing values with the median of the distribution."
   ]
  },
  {
   "cell_type": "code",
   "execution_count": 62,
   "id": "49ac8ff1",
   "metadata": {},
   "outputs": [
    {
     "data": {
      "text/html": [
       "<div>\n",
       "<style scoped>\n",
       "    .dataframe tbody tr th:only-of-type {\n",
       "        vertical-align: middle;\n",
       "    }\n",
       "\n",
       "    .dataframe tbody tr th {\n",
       "        vertical-align: top;\n",
       "    }\n",
       "\n",
       "    .dataframe thead th {\n",
       "        text-align: right;\n",
       "    }\n",
       "</style>\n",
       "<table border=\"1\" class=\"dataframe\">\n",
       "  <thead>\n",
       "    <tr style=\"text-align: right;\">\n",
       "      <th></th>\n",
       "      <th>Loan_ID</th>\n",
       "      <th>Gender</th>\n",
       "      <th>Married</th>\n",
       "      <th>Dependents</th>\n",
       "      <th>Education</th>\n",
       "      <th>Self_Employed</th>\n",
       "      <th>ApplicantIncome</th>\n",
       "      <th>CoapplicantIncome</th>\n",
       "      <th>LoanAmount</th>\n",
       "      <th>Loan_Amount_Term</th>\n",
       "      <th>Credit_History</th>\n",
       "      <th>Property_Area</th>\n",
       "      <th>Loan_Status</th>\n",
       "      <th>Loan_Term_Years</th>\n",
       "    </tr>\n",
       "  </thead>\n",
       "  <tbody>\n",
       "    <tr>\n",
       "      <th>0</th>\n",
       "      <td>LP001002</td>\n",
       "      <td>Male</td>\n",
       "      <td>No</td>\n",
       "      <td>0</td>\n",
       "      <td>Graduate</td>\n",
       "      <td>No</td>\n",
       "      <td>5849</td>\n",
       "      <td>0.0</td>\n",
       "      <td>128.0</td>\n",
       "      <td>360.0</td>\n",
       "      <td>1.0</td>\n",
       "      <td>Urban</td>\n",
       "      <td>Y</td>\n",
       "      <td>30.0</td>\n",
       "    </tr>\n",
       "    <tr>\n",
       "      <th>1</th>\n",
       "      <td>LP001003</td>\n",
       "      <td>Male</td>\n",
       "      <td>Yes</td>\n",
       "      <td>1</td>\n",
       "      <td>Graduate</td>\n",
       "      <td>No</td>\n",
       "      <td>4583</td>\n",
       "      <td>1508.0</td>\n",
       "      <td>128.0</td>\n",
       "      <td>360.0</td>\n",
       "      <td>1.0</td>\n",
       "      <td>Rural</td>\n",
       "      <td>N</td>\n",
       "      <td>30.0</td>\n",
       "    </tr>\n",
       "    <tr>\n",
       "      <th>2</th>\n",
       "      <td>LP001005</td>\n",
       "      <td>Male</td>\n",
       "      <td>Yes</td>\n",
       "      <td>0</td>\n",
       "      <td>Graduate</td>\n",
       "      <td>Yes</td>\n",
       "      <td>3000</td>\n",
       "      <td>0.0</td>\n",
       "      <td>66.0</td>\n",
       "      <td>360.0</td>\n",
       "      <td>1.0</td>\n",
       "      <td>Urban</td>\n",
       "      <td>Y</td>\n",
       "      <td>30.0</td>\n",
       "    </tr>\n",
       "  </tbody>\n",
       "</table>\n",
       "</div>"
      ],
      "text/plain": [
       "    Loan_ID Gender Married Dependents Education Self_Employed  \\\n",
       "0  LP001002   Male      No          0  Graduate            No   \n",
       "1  LP001003   Male     Yes          1  Graduate            No   \n",
       "2  LP001005   Male     Yes          0  Graduate           Yes   \n",
       "\n",
       "   ApplicantIncome  CoapplicantIncome  LoanAmount  Loan_Amount_Term  \\\n",
       "0             5849                0.0       128.0             360.0   \n",
       "1             4583             1508.0       128.0             360.0   \n",
       "2             3000                0.0        66.0             360.0   \n",
       "\n",
       "   Credit_History Property_Area Loan_Status  Loan_Term_Years  \n",
       "0             1.0         Urban           Y             30.0  \n",
       "1             1.0         Rural           N             30.0  \n",
       "2             1.0         Urban           Y             30.0  "
      ]
     },
     "execution_count": 62,
     "metadata": {},
     "output_type": "execute_result"
    }
   ],
   "source": [
    "finance_train.LoanAmount.fillna(finance_train.LoanAmount.median(), inplace=True)\n",
    "finance_train.head(3)"
   ]
  },
  {
   "cell_type": "markdown",
   "id": "ba60aa0c",
   "metadata": {},
   "source": [
    "Because of the possible existence of outliers, we will also discretize the Loan Amount and cut it into 5 categories."
   ]
  },
  {
   "cell_type": "code",
   "execution_count": 63,
   "id": "6a1868b1",
   "metadata": {},
   "outputs": [
    {
     "data": {
      "text/html": [
       "<div>\n",
       "<style scoped>\n",
       "    .dataframe tbody tr th:only-of-type {\n",
       "        vertical-align: middle;\n",
       "    }\n",
       "\n",
       "    .dataframe tbody tr th {\n",
       "        vertical-align: top;\n",
       "    }\n",
       "\n",
       "    .dataframe thead th {\n",
       "        text-align: right;\n",
       "    }\n",
       "</style>\n",
       "<table border=\"1\" class=\"dataframe\">\n",
       "  <thead>\n",
       "    <tr style=\"text-align: right;\">\n",
       "      <th></th>\n",
       "      <th>Loan_Status</th>\n",
       "      <th>Married</th>\n",
       "      <th>Graduate</th>\n",
       "      <th>Property_Area</th>\n",
       "      <th>Applicant_Income_Category</th>\n",
       "      <th>Coapplicant_Income_exists</th>\n",
       "      <th>Male</th>\n",
       "      <th>Dependents</th>\n",
       "      <th>Loan_Term_Years_encoded</th>\n",
       "      <th>Loan_Amount</th>\n",
       "    </tr>\n",
       "  </thead>\n",
       "  <tbody>\n",
       "    <tr>\n",
       "      <th>0</th>\n",
       "      <td>1</td>\n",
       "      <td>0</td>\n",
       "      <td>1</td>\n",
       "      <td>2</td>\n",
       "      <td>4</td>\n",
       "      <td>0</td>\n",
       "      <td>1</td>\n",
       "      <td>2</td>\n",
       "      <td>8</td>\n",
       "      <td>3</td>\n",
       "    </tr>\n",
       "    <tr>\n",
       "      <th>1</th>\n",
       "      <td>0</td>\n",
       "      <td>1</td>\n",
       "      <td>1</td>\n",
       "      <td>1</td>\n",
       "      <td>4</td>\n",
       "      <td>1</td>\n",
       "      <td>1</td>\n",
       "      <td>3</td>\n",
       "      <td>8</td>\n",
       "      <td>3</td>\n",
       "    </tr>\n",
       "    <tr>\n",
       "      <th>2</th>\n",
       "      <td>1</td>\n",
       "      <td>1</td>\n",
       "      <td>1</td>\n",
       "      <td>2</td>\n",
       "      <td>2</td>\n",
       "      <td>0</td>\n",
       "      <td>1</td>\n",
       "      <td>2</td>\n",
       "      <td>8</td>\n",
       "      <td>1</td>\n",
       "    </tr>\n",
       "  </tbody>\n",
       "</table>\n",
       "</div>"
      ],
      "text/plain": [
       "   Loan_Status  Married  Graduate  Property_Area Applicant_Income_Category  \\\n",
       "0            1        0         1              2                         4   \n",
       "1            0        1         1              1                         4   \n",
       "2            1        1         1              2                         2   \n",
       "\n",
       "   Coapplicant_Income_exists  Male  Dependents  Loan_Term_Years_encoded  \\\n",
       "0                          0     1           2                        8   \n",
       "1                          1     1           3                        8   \n",
       "2                          0     1           2                        8   \n",
       "\n",
       "  Loan_Amount  \n",
       "0           3  \n",
       "1           3  \n",
       "2           1  "
      ]
     },
     "execution_count": 63,
     "metadata": {},
     "output_type": "execute_result"
    }
   ],
   "source": [
    "df_finance['Loan_Amount'] = pd.qcut(finance_train.LoanAmount, 5, labels=[1,2,3,4,5])\n",
    "df_finance.head(3)"
   ]
  },
  {
   "cell_type": "markdown",
   "id": "5b9a1e0d",
   "metadata": {},
   "source": [
    "\n",
    "Feature-11 : Self_Employed"
   ]
  },
  {
   "cell_type": "code",
   "execution_count": 64,
   "id": "4392e774",
   "metadata": {},
   "outputs": [
    {
     "data": {
      "image/png": "[encoded data removed]",
      "text/plain": [
       "<Figure size 1440x72 with 1 Axes>"
      ]
     },
     "metadata": {},
     "output_type": "display_data"
    }
   ],
   "source": [
    "plot_(data=finance_train, col='Self_Employed', figsize=(20,1), hue=False)"
   ]
  },
  {
   "cell_type": "code",
   "execution_count": 65,
   "id": "3798ed15",
   "metadata": {},
   "outputs": [
    {
     "data": {
      "text/plain": [
       "No     500\n",
       "Yes     82\n",
       "NaN     32\n",
       "Name: Self_Employed, dtype: int64"
      ]
     },
     "execution_count": 65,
     "metadata": {},
     "output_type": "execute_result"
    }
   ],
   "source": [
    "finance_train.Self_Employed.value_counts(dropna=False)"
   ]
  },
  {
   "cell_type": "code",
   "execution_count": 66,
   "id": "49741a3a",
   "metadata": {},
   "outputs": [
    {
     "data": {
      "text/plain": [
       "No     0.859107\n",
       "Yes    0.140893\n",
       "Name: Self_Employed, dtype: float64"
      ]
     },
     "execution_count": 66,
     "metadata": {},
     "output_type": "execute_result"
    }
   ],
   "source": [
    "finance_train.Self_Employed.value_counts(normalize=True)"
   ]
  },
  {
   "cell_type": "markdown",
   "id": "39cb25e6",
   "metadata": {},
   "source": [
    "Self_Employed has 25 missing values. Let's impute them in the same proportions as seen in the available data"
   ]
  },
  {
   "cell_type": "code",
   "execution_count": 67,
   "id": "72840549",
   "metadata": {},
   "outputs": [
    {
     "data": {
      "text/plain": [
       "No     526\n",
       "Yes     88\n",
       "Name: Self_Employed, dtype: int64"
      ]
     },
     "execution_count": 67,
     "metadata": {},
     "output_type": "execute_result"
    }
   ],
   "source": [
    "np.random.seed(23)\n",
    "finance_train['Self_Employed'] = finance_train.Self_Employed.fillna(pd.Series(np.random.choice(['Yes', 'No'], p=[0.14, 0.86], size=len(finance_train))))\n",
    "finance_train.Self_Employed.value_counts(dropna=False)"
   ]
  },
  {
   "cell_type": "markdown",
   "id": "a276614d",
   "metadata": {},
   "source": [
    "Visualising the impact of Self_Employed on Loan_status"
   ]
  },
  {
   "cell_type": "code",
   "execution_count": 69,
   "id": "63b3edc1",
   "metadata": {},
   "outputs": [
    {
     "data": {
      "image/png": "[encoded data removed]",
      "text/plain": [
       "<Figure size 644.625x576 with 1 Axes>"
      ]
     },
     "metadata": {},
     "output_type": "display_data"
    }
   ],
   "source": [
    "plot_(data=finance_train, col='Self_Employed', hue=True)"
   ]
  },
  {
   "cell_type": "code",
   "execution_count": 70,
   "id": "e7be5427",
   "metadata": {},
   "outputs": [
    {
     "data": {
      "text/html": [
       "<div>\n",
       "<style scoped>\n",
       "    .dataframe tbody tr th:only-of-type {\n",
       "        vertical-align: middle;\n",
       "    }\n",
       "\n",
       "    .dataframe tbody tr th {\n",
       "        vertical-align: top;\n",
       "    }\n",
       "\n",
       "    .dataframe thead th {\n",
       "        text-align: right;\n",
       "    }\n",
       "</style>\n",
       "<table border=\"1\" class=\"dataframe\">\n",
       "  <thead>\n",
       "    <tr style=\"text-align: right;\">\n",
       "      <th></th>\n",
       "      <th>Loan_Status</th>\n",
       "      <th>Married</th>\n",
       "      <th>Graduate</th>\n",
       "      <th>Property_Area</th>\n",
       "      <th>Applicant_Income_Category</th>\n",
       "      <th>Coapplicant_Income_exists</th>\n",
       "      <th>Male</th>\n",
       "      <th>Dependents</th>\n",
       "      <th>Loan_Term_Years_encoded</th>\n",
       "      <th>Loan_Amount</th>\n",
       "      <th>Self_Employed</th>\n",
       "    </tr>\n",
       "  </thead>\n",
       "  <tbody>\n",
       "    <tr>\n",
       "      <th>0</th>\n",
       "      <td>1</td>\n",
       "      <td>0</td>\n",
       "      <td>1</td>\n",
       "      <td>2</td>\n",
       "      <td>4</td>\n",
       "      <td>0</td>\n",
       "      <td>1</td>\n",
       "      <td>2</td>\n",
       "      <td>8</td>\n",
       "      <td>3</td>\n",
       "      <td>0</td>\n",
       "    </tr>\n",
       "    <tr>\n",
       "      <th>1</th>\n",
       "      <td>0</td>\n",
       "      <td>1</td>\n",
       "      <td>1</td>\n",
       "      <td>1</td>\n",
       "      <td>4</td>\n",
       "      <td>1</td>\n",
       "      <td>1</td>\n",
       "      <td>3</td>\n",
       "      <td>8</td>\n",
       "      <td>3</td>\n",
       "      <td>0</td>\n",
       "    </tr>\n",
       "    <tr>\n",
       "      <th>2</th>\n",
       "      <td>1</td>\n",
       "      <td>1</td>\n",
       "      <td>1</td>\n",
       "      <td>2</td>\n",
       "      <td>2</td>\n",
       "      <td>0</td>\n",
       "      <td>1</td>\n",
       "      <td>2</td>\n",
       "      <td>8</td>\n",
       "      <td>1</td>\n",
       "      <td>1</td>\n",
       "    </tr>\n",
       "    <tr>\n",
       "      <th>3</th>\n",
       "      <td>1</td>\n",
       "      <td>1</td>\n",
       "      <td>0</td>\n",
       "      <td>2</td>\n",
       "      <td>1</td>\n",
       "      <td>1</td>\n",
       "      <td>1</td>\n",
       "      <td>2</td>\n",
       "      <td>8</td>\n",
       "      <td>3</td>\n",
       "      <td>0</td>\n",
       "    </tr>\n",
       "    <tr>\n",
       "      <th>4</th>\n",
       "      <td>1</td>\n",
       "      <td>0</td>\n",
       "      <td>1</td>\n",
       "      <td>2</td>\n",
       "      <td>4</td>\n",
       "      <td>0</td>\n",
       "      <td>1</td>\n",
       "      <td>2</td>\n",
       "      <td>8</td>\n",
       "      <td>4</td>\n",
       "      <td>0</td>\n",
       "    </tr>\n",
       "    <tr>\n",
       "      <th>5</th>\n",
       "      <td>1</td>\n",
       "      <td>1</td>\n",
       "      <td>1</td>\n",
       "      <td>2</td>\n",
       "      <td>4</td>\n",
       "      <td>1</td>\n",
       "      <td>1</td>\n",
       "      <td>1</td>\n",
       "      <td>8</td>\n",
       "      <td>5</td>\n",
       "      <td>1</td>\n",
       "    </tr>\n",
       "  </tbody>\n",
       "</table>\n",
       "</div>"
      ],
      "text/plain": [
       "   Loan_Status  Married  Graduate  Property_Area Applicant_Income_Category  \\\n",
       "0            1        0         1              2                         4   \n",
       "1            0        1         1              1                         4   \n",
       "2            1        1         1              2                         2   \n",
       "3            1        1         0              2                         1   \n",
       "4            1        0         1              2                         4   \n",
       "5            1        1         1              2                         4   \n",
       "\n",
       "   Coapplicant_Income_exists  Male  Dependents  Loan_Term_Years_encoded  \\\n",
       "0                          0     1           2                        8   \n",
       "1                          1     1           3                        8   \n",
       "2                          0     1           2                        8   \n",
       "3                          1     1           2                        8   \n",
       "4                          0     1           2                        8   \n",
       "5                          1     1           1                        8   \n",
       "\n",
       "  Loan_Amount  Self_Employed  \n",
       "0           3              0  \n",
       "1           3              0  \n",
       "2           1              1  \n",
       "3           3              0  \n",
       "4           4              0  \n",
       "5           5              1  "
      ]
     },
     "execution_count": 70,
     "metadata": {},
     "output_type": "execute_result"
    }
   ],
   "source": [
    "# Adding Self_Employed to our new DataFrame after encoding 1 for \"YES\" and 0 for \"NO\"\n",
    "\n",
    "df_finance['Self_Employed'] = finance_train['Self_Employed']\n",
    "df_finance['Self_Employed'] = np.where(df_finance.Self_Employed == 'Yes', 1, 0)\n",
    "df_finance.head(6)"
   ]
  },
  {
   "cell_type": "code",
   "execution_count": 71,
   "id": "86e8dc3e",
   "metadata": {},
   "outputs": [
    {
     "name": "stdout",
     "output_type": "stream",
     "text": [
      "68.18181818181817 % people who were Self-Employed were approved\n",
      "68.8212927756654 % people who were not Self-Employed were approved\n"
     ]
    }
   ],
   "source": [
    "# Let's see the proportion of Self_employed people whose loan status was approved.\n",
    "\n",
    "self_approve, not_self_approve = feature_approval_proportion(df_finance, col='Self_Employed')\n",
    "print(\"{} % people who were Self-Employed were approved\\n{} % people who were not Self-Employed were approved\".format(self_approve, not_self_approve))"
   ]
  },
  {
   "cell_type": "markdown",
   "id": "8606286a",
   "metadata": {},
   "source": [
    "Feature-12 : Credit_History"
   ]
  },
  {
   "cell_type": "code",
   "execution_count": 72,
   "id": "4f2084c5",
   "metadata": {},
   "outputs": [
    {
     "data": {
      "image/png": "[encoded data removed]",
      "text/plain": [
       "<Figure size 1440x144 with 1 Axes>"
      ]
     },
     "metadata": {},
     "output_type": "display_data"
    }
   ],
   "source": [
    "plot_(finance_train, col='Credit_History', hue=False)"
   ]
  },
  {
   "cell_type": "code",
   "execution_count": 73,
   "id": "b2a148cd",
   "metadata": {},
   "outputs": [
    {
     "data": {
      "text/plain": [
       "1.0    475\n",
       "0.0     89\n",
       "NaN     50\n",
       "Name: Credit_History, dtype: int64"
      ]
     },
     "execution_count": 73,
     "metadata": {},
     "output_type": "execute_result"
    }
   ],
   "source": [
    "finance_train.Credit_History.value_counts(dropna=False)"
   ]
  },
  {
   "cell_type": "markdown",
   "id": "21965b52",
   "metadata": {},
   "source": [
    "Is credit History an important feauture to predict the Loan_Status?\n",
    "Let's compute the correlation coefficient to get an idea of the importance of this feature after filling the missing values with both 0 and 1 one by one."
   ]
  },
  {
   "cell_type": "code",
   "execution_count": 74,
   "id": "3d3f9c3c",
   "metadata": {},
   "outputs": [
    {
     "name": "stdout",
     "output_type": "stream",
     "text": [
      "After filling with 0:  0.4326\n",
      "After filling with 1:  0.5406\n"
     ]
    }
   ],
   "source": [
    "print(\"After filling with 0: \",np.corrcoef(finance_train.Credit_History.fillna(0), df_finance.Loan_Status)[0][1].round(4))\n",
    "\n",
    "print(\"After filling with 1: \",np.corrcoef(finance_train.Credit_History.fillna(1), df_finance.Loan_Status)[0][1].round(4))"
   ]
  },
  {
   "cell_type": "markdown",
   "id": "0545ed8b",
   "metadata": {},
   "source": [
    "From the correlation values we see that Credit_History has a big impact on Loan_Status and hence we will not make random allocations to fill the null values. Instead we will drop the rows altogether."
   ]
  },
  {
   "cell_type": "code",
   "execution_count": 75,
   "id": "4235adf2",
   "metadata": {},
   "outputs": [
    {
     "data": {
      "text/plain": [
       "Loan_Status                  0\n",
       "Married                      0\n",
       "Graduate                     0\n",
       "Property_Area                0\n",
       "Applicant_Income_Category    0\n",
       "Coapplicant_Income_exists    0\n",
       "Male                         0\n",
       "Dependents                   0\n",
       "Loan_Term_Years_encoded      0\n",
       "Loan_Amount                  0\n",
       "Self_Employed                0\n",
       "Credit_History               0\n",
       "dtype: int64"
      ]
     },
     "execution_count": 75,
     "metadata": {},
     "output_type": "execute_result"
    }
   ],
   "source": [
    "df_finance['Credit_History'] = finance_train.Credit_History\n",
    "df_finance.dropna(subset=['Credit_History'], inplace=True)\n",
    "\n",
    "#Checking the null values one last time\n",
    "df_finance.isna().sum()"
   ]
  },
  {
   "cell_type": "markdown",
   "id": "5fa55e7f",
   "metadata": {},
   "source": [
    "Start Building Machine Learning models.\n",
    "Now that we have cleaned our data, we can start fitting various Machine Learning models to see which one performs the best."
   ]
  },
  {
   "cell_type": "code",
   "execution_count": 76,
   "id": "2b14f32d",
   "metadata": {},
   "outputs": [
    {
     "name": "stdout",
     "output_type": "stream",
     "text": [
      "(564, 11) (564,)\n"
     ]
    }
   ],
   "source": [
    "# CREATING A COPY OF THE DATAFRAME\n",
    "\n",
    "df_finance_copy = df_finance.copy()\n",
    "\n",
    "#Seperating the features and labels\n",
    "\n",
    "df_finance_train = df_finance.drop('Loan_Status', axis=1)\n",
    "label = df_finance['Loan_Status']\n",
    "\n",
    "print(df_finance_train.shape, label.shape)"
   ]
  },
  {
   "cell_type": "markdown",
   "id": "ba2ad50b",
   "metadata": {},
   "source": [
    "Evaluation parameters:  Balanced Accuracy(BAC), Recall(REC)"
   ]
  },
  {
   "cell_type": "code",
   "execution_count": 87,
   "id": "f295e772",
   "metadata": {},
   "outputs": [],
   "source": [
    "eval = {\n",
    "'model_name': [],\n",
    "'feature_count': [],\n",
    "'features': [],\n",
    "'ACC': [],\n",
    "'BAC': [],\n",
    "'REC': [],\n",
    "'AUC': [],\n",
    "}"
   ]
  },
  {
   "cell_type": "code",
   "execution_count": 88,
   "id": "834b609b",
   "metadata": {},
   "outputs": [],
   "source": [
    "# Function to create a DataFrame out of model evaluations \n",
    "\n",
    "def model_evaluation(model, fc, f, acc, bac, rec, auc):\n",
    "    eval['model_name'].append(model)\n",
    "    eval['feature_count'].append(fc)\n",
    "    eval['features'].append(f)\n",
    "    eval['ACC'].append(acc)\n",
    "    eval['BAC'].append(bac)\n",
    "    eval['REC'].append(rec)\n",
    "    eval['AUC'].append(auc)\n",
    "    \n",
    "    df_eval = pd.DataFrame({'model_name': eval['model_name'],\n",
    "                            'feature_count': eval['feature_count'],\n",
    "                            'feature_names': eval['features'],\n",
    "                            'ACC': eval['ACC'],\n",
    "                            'BAC': eval['BAC'],\n",
    "                            'REC': eval['REC'],\n",
    "                            'AUC': eval['AUC'] \n",
    "                           })\n",
    "    return df_eval.sort_values(by='BAC', ascending=False).round(3)"
   ]
  },
  {
   "cell_type": "markdown",
   "id": "eccfd385",
   "metadata": {},
   "source": [
    "Define a function to fit machine learning algorithms\n",
    "We will be using the algorithms from the scikit-learn library, and almost all algorithms take similar inputs and produce similar outputs.\n",
    "\n",
    "To prevent writing code multiple times, we will create a function that fits the model and returns the evaluation scores."
   ]
  },
  {
   "cell_type": "code",
   "execution_count": 89,
   "id": "258b1d7f",
   "metadata": {},
   "outputs": [],
   "source": [
    "def fit_algo(algorithm, x_train, label, cv=10):\n",
    "    \n",
    "    # Cross-Validation prediction\n",
    "    training_predictions = model_selection.cross_val_predict(algorithm,\n",
    "                                                             x_train,\n",
    "                                                             label,\n",
    "                                                             cv=cv,\n",
    "                                                             n_jobs=-1)\n",
    "    \n",
    "    # Evaluating necessary metrics\n",
    "    acc = metrics.accuracy_score(label, training_predictions)\n",
    "    bac = metrics.balanced_accuracy_score(label, training_predictions)\n",
    "    rec = metrics.recall_score(label, training_predictions)\n",
    "    auc = metrics.roc_auc_score(label, training_predictions)\n",
    "    \n",
    "    return acc, bac, rec, auc"
   ]
  },
  {
   "cell_type": "code",
   "execution_count": 85,
   "id": "2eff7599",
   "metadata": {},
   "outputs": [
    {
     "data": {
      "text/plain": [
       "['Married',\n",
       " 'Graduate',\n",
       " 'Property_Area',\n",
       " 'Applicant_Income_Category',\n",
       " 'Coapplicant_Income_exists',\n",
       " 'Male',\n",
       " 'Dependents',\n",
       " 'Loan_Term_Years_encoded',\n",
       " 'Loan_Amount',\n",
       " 'Self_Employed',\n",
       " 'Credit_History']"
      ]
     },
     "execution_count": 85,
     "metadata": {},
     "output_type": "execute_result"
    }
   ],
   "source": [
    "feature_set_1 = df_finance_train.columns.tolist()         #Contains all the 11 features\n",
    "feature_set_1"
   ]
  },
  {
   "cell_type": "markdown",
   "id": "0579a057",
   "metadata": {},
   "source": [
    "Gaussian NaiveBayes with feature_set_1"
   ]
  },
  {
   "cell_type": "code",
   "execution_count": 90,
   "id": "dc4215db",
   "metadata": {},
   "outputs": [
    {
     "data": {
      "text/html": [
       "<div>\n",
       "<style scoped>\n",
       "    .dataframe tbody tr th:only-of-type {\n",
       "        vertical-align: middle;\n",
       "    }\n",
       "\n",
       "    .dataframe tbody tr th {\n",
       "        vertical-align: top;\n",
       "    }\n",
       "\n",
       "    .dataframe thead th {\n",
       "        text-align: right;\n",
       "    }\n",
       "</style>\n",
       "<table border=\"1\" class=\"dataframe\">\n",
       "  <thead>\n",
       "    <tr style=\"text-align: right;\">\n",
       "      <th></th>\n",
       "      <th>model_name</th>\n",
       "      <th>feature_count</th>\n",
       "      <th>feature_names</th>\n",
       "      <th>ACC</th>\n",
       "      <th>BAC</th>\n",
       "      <th>REC</th>\n",
       "      <th>AUC</th>\n",
       "    </tr>\n",
       "  </thead>\n",
       "  <tbody>\n",
       "    <tr>\n",
       "      <th>0</th>\n",
       "      <td>GNB_f1</td>\n",
       "      <td>11</td>\n",
       "      <td>[Married, Graduate, Property_Area, Applicant_I...</td>\n",
       "      <td>0.812</td>\n",
       "      <td>0.719</td>\n",
       "      <td>0.974</td>\n",
       "      <td>0.719</td>\n",
       "    </tr>\n",
       "  </tbody>\n",
       "</table>\n",
       "</div>"
      ],
      "text/plain": [
       "  model_name  feature_count  \\\n",
       "0     GNB_f1             11   \n",
       "\n",
       "                                       feature_names    ACC    BAC    REC  \\\n",
       "0  [Married, Graduate, Property_Area, Applicant_I...  0.812  0.719  0.974   \n",
       "\n",
       "     AUC  \n",
       "0  0.719  "
      ]
     },
     "execution_count": 90,
     "metadata": {},
     "output_type": "execute_result"
    }
   ],
   "source": [
    "acc_nb_f1, bac_nb_f1, rec_nb_f1, auc_nb_f1 = fit_algo(GNB(), x_train=df_finance_train[feature_set_1], label=label)\n",
    "model_evaluation('GNB_f1', len(feature_set_1), feature_set_1, acc_nb_f1, bac_nb_f1, rec_nb_f1, auc_nb_f1)"
   ]
  },
  {
   "cell_type": "markdown",
   "id": "a78cca3b",
   "metadata": {},
   "source": [
    "Logistic Regression with feature_set_1"
   ]
  },
  {
   "cell_type": "code",
   "execution_count": 91,
   "id": "d2fe4a9b",
   "metadata": {},
   "outputs": [
    {
     "data": {
      "text/html": [
       "<div>\n",
       "<style scoped>\n",
       "    .dataframe tbody tr th:only-of-type {\n",
       "        vertical-align: middle;\n",
       "    }\n",
       "\n",
       "    .dataframe tbody tr th {\n",
       "        vertical-align: top;\n",
       "    }\n",
       "\n",
       "    .dataframe thead th {\n",
       "        text-align: right;\n",
       "    }\n",
       "</style>\n",
       "<table border=\"1\" class=\"dataframe\">\n",
       "  <thead>\n",
       "    <tr style=\"text-align: right;\">\n",
       "      <th></th>\n",
       "      <th>model_name</th>\n",
       "      <th>feature_count</th>\n",
       "      <th>feature_names</th>\n",
       "      <th>ACC</th>\n",
       "      <th>BAC</th>\n",
       "      <th>REC</th>\n",
       "      <th>AUC</th>\n",
       "    </tr>\n",
       "  </thead>\n",
       "  <tbody>\n",
       "    <tr>\n",
       "      <th>0</th>\n",
       "      <td>GNB_f1</td>\n",
       "      <td>11</td>\n",
       "      <td>[Married, Graduate, Property_Area, Applicant_I...</td>\n",
       "      <td>0.812</td>\n",
       "      <td>0.719</td>\n",
       "      <td>0.974</td>\n",
       "      <td>0.719</td>\n",
       "    </tr>\n",
       "    <tr>\n",
       "      <th>1</th>\n",
       "      <td>LRC_f1</td>\n",
       "      <td>11</td>\n",
       "      <td>[Married, Graduate, Property_Area, Applicant_I...</td>\n",
       "      <td>0.814</td>\n",
       "      <td>0.719</td>\n",
       "      <td>0.979</td>\n",
       "      <td>0.719</td>\n",
       "    </tr>\n",
       "  </tbody>\n",
       "</table>\n",
       "</div>"
      ],
      "text/plain": [
       "  model_name  feature_count  \\\n",
       "0     GNB_f1             11   \n",
       "1     LRC_f1             11   \n",
       "\n",
       "                                       feature_names    ACC    BAC    REC  \\\n",
       "0  [Married, Graduate, Property_Area, Applicant_I...  0.812  0.719  0.974   \n",
       "1  [Married, Graduate, Property_Area, Applicant_I...  0.814  0.719  0.979   \n",
       "\n",
       "     AUC  \n",
       "0  0.719  \n",
       "1  0.719  "
      ]
     },
     "execution_count": 91,
     "metadata": {},
     "output_type": "execute_result"
    }
   ],
   "source": [
    "acc_lr_f1, bac_lr_f1, rec_lr_f1, auc_lr_f1 = fit_algo(LR(random_state=23, solver='liblinear'), df_finance_train[feature_set_1], label)\n",
    "model_evaluation('LRC_f1', len(feature_set_1), feature_set_1, acc_lr_f1, bac_lr_f1, rec_lr_f1, auc_lr_f1)"
   ]
  },
  {
   "cell_type": "markdown",
   "id": "3ad724cf",
   "metadata": {},
   "source": [
    "Random Forest Classifier with feature_set_1"
   ]
  },
  {
   "cell_type": "code",
   "execution_count": 92,
   "id": "d9bdfc66",
   "metadata": {},
   "outputs": [
    {
     "data": {
      "text/html": [
       "<div>\n",
       "<style scoped>\n",
       "    .dataframe tbody tr th:only-of-type {\n",
       "        vertical-align: middle;\n",
       "    }\n",
       "\n",
       "    .dataframe tbody tr th {\n",
       "        vertical-align: top;\n",
       "    }\n",
       "\n",
       "    .dataframe thead th {\n",
       "        text-align: right;\n",
       "    }\n",
       "</style>\n",
       "<table border=\"1\" class=\"dataframe\">\n",
       "  <thead>\n",
       "    <tr style=\"text-align: right;\">\n",
       "      <th></th>\n",
       "      <th>model_name</th>\n",
       "      <th>feature_count</th>\n",
       "      <th>feature_names</th>\n",
       "      <th>ACC</th>\n",
       "      <th>BAC</th>\n",
       "      <th>REC</th>\n",
       "      <th>AUC</th>\n",
       "    </tr>\n",
       "  </thead>\n",
       "  <tbody>\n",
       "    <tr>\n",
       "      <th>0</th>\n",
       "      <td>GNB_f1</td>\n",
       "      <td>11</td>\n",
       "      <td>[Married, Graduate, Property_Area, Applicant_I...</td>\n",
       "      <td>0.812</td>\n",
       "      <td>0.719</td>\n",
       "      <td>0.974</td>\n",
       "      <td>0.719</td>\n",
       "    </tr>\n",
       "    <tr>\n",
       "      <th>1</th>\n",
       "      <td>LRC_f1</td>\n",
       "      <td>11</td>\n",
       "      <td>[Married, Graduate, Property_Area, Applicant_I...</td>\n",
       "      <td>0.814</td>\n",
       "      <td>0.719</td>\n",
       "      <td>0.979</td>\n",
       "      <td>0.719</td>\n",
       "    </tr>\n",
       "    <tr>\n",
       "      <th>2</th>\n",
       "      <td>RFC_f1</td>\n",
       "      <td>11</td>\n",
       "      <td>[Married, Graduate, Property_Area, Applicant_I...</td>\n",
       "      <td>0.754</td>\n",
       "      <td>0.685</td>\n",
       "      <td>0.873</td>\n",
       "      <td>0.685</td>\n",
       "    </tr>\n",
       "  </tbody>\n",
       "</table>\n",
       "</div>"
      ],
      "text/plain": [
       "  model_name  feature_count  \\\n",
       "0     GNB_f1             11   \n",
       "1     LRC_f1             11   \n",
       "2     RFC_f1             11   \n",
       "\n",
       "                                       feature_names    ACC    BAC    REC  \\\n",
       "0  [Married, Graduate, Property_Area, Applicant_I...  0.812  0.719  0.974   \n",
       "1  [Married, Graduate, Property_Area, Applicant_I...  0.814  0.719  0.979   \n",
       "2  [Married, Graduate, Property_Area, Applicant_I...  0.754  0.685  0.873   \n",
       "\n",
       "     AUC  \n",
       "0  0.719  \n",
       "1  0.719  \n",
       "2  0.685  "
      ]
     },
     "execution_count": 92,
     "metadata": {},
     "output_type": "execute_result"
    }
   ],
   "source": [
    "acc_rf_f1, bac_rf_f1, rec_rf_f1, auc_rf_f1 = fit_algo(RFC(random_state=23), df_finance_train[feature_set_1], label)\n",
    "model_evaluation('RFC_f1', len(feature_set_1), feature_set_1, acc_rf_f1, bac_rf_f1, rec_rf_f1, auc_rf_f1)"
   ]
  },
  {
   "cell_type": "markdown",
   "id": "73bd74d7",
   "metadata": {},
   "source": [
    "Support Vector Classifier feature_set_1"
   ]
  },
  {
   "cell_type": "code",
   "execution_count": 93,
   "id": "60268db7",
   "metadata": {},
   "outputs": [
    {
     "data": {
      "text/html": [
       "<div>\n",
       "<style scoped>\n",
       "    .dataframe tbody tr th:only-of-type {\n",
       "        vertical-align: middle;\n",
       "    }\n",
       "\n",
       "    .dataframe tbody tr th {\n",
       "        vertical-align: top;\n",
       "    }\n",
       "\n",
       "    .dataframe thead th {\n",
       "        text-align: right;\n",
       "    }\n",
       "</style>\n",
       "<table border=\"1\" class=\"dataframe\">\n",
       "  <thead>\n",
       "    <tr style=\"text-align: right;\">\n",
       "      <th></th>\n",
       "      <th>model_name</th>\n",
       "      <th>feature_count</th>\n",
       "      <th>feature_names</th>\n",
       "      <th>ACC</th>\n",
       "      <th>BAC</th>\n",
       "      <th>REC</th>\n",
       "      <th>AUC</th>\n",
       "    </tr>\n",
       "  </thead>\n",
       "  <tbody>\n",
       "    <tr>\n",
       "      <th>3</th>\n",
       "      <td>SVC_f1</td>\n",
       "      <td>11</td>\n",
       "      <td>[Married, Graduate, Property_Area, Applicant_I...</td>\n",
       "      <td>0.816</td>\n",
       "      <td>0.720</td>\n",
       "      <td>0.982</td>\n",
       "      <td>0.720</td>\n",
       "    </tr>\n",
       "    <tr>\n",
       "      <th>0</th>\n",
       "      <td>GNB_f1</td>\n",
       "      <td>11</td>\n",
       "      <td>[Married, Graduate, Property_Area, Applicant_I...</td>\n",
       "      <td>0.812</td>\n",
       "      <td>0.719</td>\n",
       "      <td>0.974</td>\n",
       "      <td>0.719</td>\n",
       "    </tr>\n",
       "    <tr>\n",
       "      <th>1</th>\n",
       "      <td>LRC_f1</td>\n",
       "      <td>11</td>\n",
       "      <td>[Married, Graduate, Property_Area, Applicant_I...</td>\n",
       "      <td>0.814</td>\n",
       "      <td>0.719</td>\n",
       "      <td>0.979</td>\n",
       "      <td>0.719</td>\n",
       "    </tr>\n",
       "    <tr>\n",
       "      <th>2</th>\n",
       "      <td>RFC_f1</td>\n",
       "      <td>11</td>\n",
       "      <td>[Married, Graduate, Property_Area, Applicant_I...</td>\n",
       "      <td>0.754</td>\n",
       "      <td>0.685</td>\n",
       "      <td>0.873</td>\n",
       "      <td>0.685</td>\n",
       "    </tr>\n",
       "  </tbody>\n",
       "</table>\n",
       "</div>"
      ],
      "text/plain": [
       "  model_name  feature_count  \\\n",
       "3     SVC_f1             11   \n",
       "0     GNB_f1             11   \n",
       "1     LRC_f1             11   \n",
       "2     RFC_f1             11   \n",
       "\n",
       "                                       feature_names    ACC    BAC    REC  \\\n",
       "3  [Married, Graduate, Property_Area, Applicant_I...  0.816  0.720  0.982   \n",
       "0  [Married, Graduate, Property_Area, Applicant_I...  0.812  0.719  0.974   \n",
       "1  [Married, Graduate, Property_Area, Applicant_I...  0.814  0.719  0.979   \n",
       "2  [Married, Graduate, Property_Area, Applicant_I...  0.754  0.685  0.873   \n",
       "\n",
       "     AUC  \n",
       "3  0.720  \n",
       "0  0.719  \n",
       "1  0.719  \n",
       "2  0.685  "
      ]
     },
     "execution_count": 93,
     "metadata": {},
     "output_type": "execute_result"
    }
   ],
   "source": [
    "\n",
    "acc_svc_f1, bac_svc_f1, rec_svc_f1, auc_svc_f1 = fit_algo(SVC(random_state=23, kernel='linear'), df_finance_train[feature_set_1], label)\n",
    "model_evaluation('SVC_f1', len(feature_set_1), feature_set_1, acc_svc_f1, bac_svc_f1, rec_svc_f1, auc_svc_f1)"
   ]
  },
  {
   "cell_type": "markdown",
   "id": "2f98ec62",
   "metadata": {},
   "source": [
    "Since, Logistic Regression and Support Vector classifier are the best performing model, let's try to find their feature importanes"
   ]
  },
  {
   "cell_type": "markdown",
   "id": "d5ee6545",
   "metadata": {},
   "source": [
    "i) Logistic Regression"
   ]
  },
  {
   "cell_type": "code",
   "execution_count": 94,
   "id": "7a1df523",
   "metadata": {},
   "outputs": [
    {
     "data": {
      "text/html": [
       "<div>\n",
       "<style scoped>\n",
       "    .dataframe tbody tr th:only-of-type {\n",
       "        vertical-align: middle;\n",
       "    }\n",
       "\n",
       "    .dataframe tbody tr th {\n",
       "        vertical-align: top;\n",
       "    }\n",
       "\n",
       "    .dataframe thead th {\n",
       "        text-align: right;\n",
       "    }\n",
       "</style>\n",
       "<table border=\"1\" class=\"dataframe\">\n",
       "  <thead>\n",
       "    <tr style=\"text-align: right;\">\n",
       "      <th></th>\n",
       "      <th>importance_magnitude_lr</th>\n",
       "    </tr>\n",
       "    <tr>\n",
       "      <th>features</th>\n",
       "      <th></th>\n",
       "    </tr>\n",
       "  </thead>\n",
       "  <tbody>\n",
       "    <tr>\n",
       "      <th>Credit_History</th>\n",
       "      <td>3.2810</td>\n",
       "    </tr>\n",
       "    <tr>\n",
       "      <th>Property_Area</th>\n",
       "      <td>0.4152</td>\n",
       "    </tr>\n",
       "    <tr>\n",
       "      <th>Coapplicant_Income_exists</th>\n",
       "      <td>0.4033</td>\n",
       "    </tr>\n",
       "    <tr>\n",
       "      <th>Graduate</th>\n",
       "      <td>0.3303</td>\n",
       "    </tr>\n",
       "    <tr>\n",
       "      <th>Dependents</th>\n",
       "      <td>0.2499</td>\n",
       "    </tr>\n",
       "    <tr>\n",
       "      <th>Married</th>\n",
       "      <td>0.2321</td>\n",
       "    </tr>\n",
       "    <tr>\n",
       "      <th>Loan_Term_Years_encoded</th>\n",
       "      <td>0.1100</td>\n",
       "    </tr>\n",
       "    <tr>\n",
       "      <th>Self_Employed</th>\n",
       "      <td>0.0813</td>\n",
       "    </tr>\n",
       "    <tr>\n",
       "      <th>Male</th>\n",
       "      <td>0.0686</td>\n",
       "    </tr>\n",
       "    <tr>\n",
       "      <th>Loan_Amount</th>\n",
       "      <td>0.0599</td>\n",
       "    </tr>\n",
       "    <tr>\n",
       "      <th>Applicant_Income_Category</th>\n",
       "      <td>0.0276</td>\n",
       "    </tr>\n",
       "  </tbody>\n",
       "</table>\n",
       "</div>"
      ],
      "text/plain": [
       "                           importance_magnitude_lr\n",
       "features                                          \n",
       "Credit_History                              3.2810\n",
       "Property_Area                               0.4152\n",
       "Coapplicant_Income_exists                   0.4033\n",
       "Graduate                                    0.3303\n",
       "Dependents                                  0.2499\n",
       "Married                                     0.2321\n",
       "Loan_Term_Years_encoded                     0.1100\n",
       "Self_Employed                               0.0813\n",
       "Male                                        0.0686\n",
       "Loan_Amount                                 0.0599\n",
       "Applicant_Income_Category                   0.0276"
      ]
     },
     "execution_count": 94,
     "metadata": {},
     "output_type": "execute_result"
    }
   ],
   "source": [
    "lr_feature_imp = pd.DataFrame(abs((LR(solver='liblinear', random_state=23).fit(df_finance_train, label).coef_).round(4)).reshape(-1,1))\n",
    "\n",
    "# giving the column a meaningful name\n",
    "lr_feature_imp.columns = ['importance_magnitude_lr']\n",
    "\n",
    "# Adding the features column\n",
    "lr_feature_imp['features'] = pd.Series(df_finance_train.iloc[:,lr_feature_imp.index.tolist()].columns.to_list())\n",
    "\n",
    "# Changing the index to features\n",
    "lr_feature_imp =lr_feature_imp.set_index('features').sort_values(by='importance_magnitude_lr', ascending=False)\n",
    "lr_feature_imp"
   ]
  },
  {
   "cell_type": "code",
   "execution_count": 95,
   "id": "72d40d35",
   "metadata": {},
   "outputs": [
    {
     "data": {
      "text/plain": [
       "['Credit_History',\n",
       " 'Property_Area',\n",
       " 'Coapplicant_Income_exists',\n",
       " 'Graduate',\n",
       " 'Dependents',\n",
       " 'Married',\n",
       " 'Loan_Term_Years_encoded']"
      ]
     },
     "execution_count": 95,
     "metadata": {},
     "output_type": "execute_result"
    }
   ],
   "source": [
    "# Choosing the Top 7 features\n",
    "\n",
    "feature_set_2 = lr_feature_imp.index[0:7].to_list()\n",
    "feature_set_2"
   ]
  },
  {
   "cell_type": "markdown",
   "id": "7c47013d",
   "metadata": {},
   "source": [
    "ii) Support Vector Classifier"
   ]
  },
  {
   "cell_type": "code",
   "execution_count": 96,
   "id": "cf13ed97",
   "metadata": {},
   "outputs": [
    {
     "data": {
      "text/html": [
       "<div>\n",
       "<style scoped>\n",
       "    .dataframe tbody tr th:only-of-type {\n",
       "        vertical-align: middle;\n",
       "    }\n",
       "\n",
       "    .dataframe tbody tr th {\n",
       "        vertical-align: top;\n",
       "    }\n",
       "\n",
       "    .dataframe thead th {\n",
       "        text-align: right;\n",
       "    }\n",
       "</style>\n",
       "<table border=\"1\" class=\"dataframe\">\n",
       "  <thead>\n",
       "    <tr style=\"text-align: right;\">\n",
       "      <th></th>\n",
       "      <th>importance_magnitude_svc</th>\n",
       "    </tr>\n",
       "    <tr>\n",
       "      <th>features</th>\n",
       "      <th></th>\n",
       "    </tr>\n",
       "  </thead>\n",
       "  <tbody>\n",
       "    <tr>\n",
       "      <th>Credit_History</th>\n",
       "      <td>2.0000</td>\n",
       "    </tr>\n",
       "    <tr>\n",
       "      <th>Graduate</th>\n",
       "      <td>0.0002</td>\n",
       "    </tr>\n",
       "    <tr>\n",
       "      <th>Self_Employed</th>\n",
       "      <td>0.0001</td>\n",
       "    </tr>\n",
       "    <tr>\n",
       "      <th>Married</th>\n",
       "      <td>0.0001</td>\n",
       "    </tr>\n",
       "    <tr>\n",
       "      <th>Applicant_Income_Category</th>\n",
       "      <td>0.0001</td>\n",
       "    </tr>\n",
       "    <tr>\n",
       "      <th>Male</th>\n",
       "      <td>0.0001</td>\n",
       "    </tr>\n",
       "    <tr>\n",
       "      <th>Coapplicant_Income_exists</th>\n",
       "      <td>0.0000</td>\n",
       "    </tr>\n",
       "    <tr>\n",
       "      <th>Loan_Term_Years_encoded</th>\n",
       "      <td>0.0000</td>\n",
       "    </tr>\n",
       "    <tr>\n",
       "      <th>Loan_Amount</th>\n",
       "      <td>0.0000</td>\n",
       "    </tr>\n",
       "    <tr>\n",
       "      <th>Dependents</th>\n",
       "      <td>0.0000</td>\n",
       "    </tr>\n",
       "    <tr>\n",
       "      <th>Property_Area</th>\n",
       "      <td>0.0000</td>\n",
       "    </tr>\n",
       "  </tbody>\n",
       "</table>\n",
       "</div>"
      ],
      "text/plain": [
       "                           importance_magnitude_svc\n",
       "features                                           \n",
       "Credit_History                               2.0000\n",
       "Graduate                                     0.0002\n",
       "Self_Employed                                0.0001\n",
       "Married                                      0.0001\n",
       "Applicant_Income_Category                    0.0001\n",
       "Male                                         0.0001\n",
       "Coapplicant_Income_exists                    0.0000\n",
       "Loan_Term_Years_encoded                      0.0000\n",
       "Loan_Amount                                  0.0000\n",
       "Dependents                                   0.0000\n",
       "Property_Area                                0.0000"
      ]
     },
     "execution_count": 96,
     "metadata": {},
     "output_type": "execute_result"
    }
   ],
   "source": [
    "svc_feature_imp = pd.DataFrame(abs(SVC(random_state=23, kernel='linear').fit(df_finance_train[feature_set_1], label).coef_).reshape(-1,1))\n",
    "svc_feature_imp.columns = ['importance_magnitude_svc']\n",
    "svc_feature_imp['features'] = pd.Series(df_finance_train.iloc[:,svc_feature_imp.index.to_list()].columns.to_list())\n",
    "svc_feature_imp = svc_feature_imp.set_index('features').sort_values(by='importance_magnitude_svc', ascending=False).round(4)\n",
    "svc_feature_imp"
   ]
  },
  {
   "cell_type": "markdown",
   "id": "40034e45",
   "metadata": {},
   "source": [
    "Checking the correlation analysis to create some more feature sets."
   ]
  },
  {
   "cell_type": "code",
   "execution_count": 97,
   "id": "ab81a05a",
   "metadata": {},
   "outputs": [
    {
     "data": {
      "text/plain": [
       "<AxesSubplot:>"
      ]
     },
     "execution_count": 97,
     "metadata": {},
     "output_type": "execute_result"
    },
    {
     "data": {
      "image/png": "[encoded data removed]",
      "text/plain": [
       "<Figure size 1152x576 with 2 Axes>"
      ]
     },
     "metadata": {},
     "output_type": "display_data"
    }
   ],
   "source": [
    "plt.figure(figsize=(16,8))\n",
    "sns.heatmap(df_finance.corr(), vmin=-1, vmax=1, annot=True, cmap='Spectral')"
   ]
  },
  {
   "cell_type": "code",
   "execution_count": 98,
   "id": "74cb3f09",
   "metadata": {},
   "outputs": [
    {
     "data": {
      "text/plain": [
       "['Graduate',\n",
       " 'Property_Area',\n",
       " 'Applicant_Income_Category',\n",
       " 'Coapplicant_Income_exists',\n",
       " 'Loan_Amount',\n",
       " 'Self_Employed',\n",
       " 'Credit_History']"
      ]
     },
     "execution_count": 98,
     "metadata": {},
     "output_type": "execute_result"
    }
   ],
   "source": [
    "# Removing less correlated and non-linear features\n",
    "feature_set_3 = df_finance_train.drop(columns=['Loan_Term_Years_encoded', 'Married', 'Male', 'Dependents']).columns.to_list()\n",
    "feature_set_3"
   ]
  },
  {
   "cell_type": "markdown",
   "id": "0613cfd1",
   "metadata": {},
   "source": [
    "Gaussian NaiveBayes with f2 and f3"
   ]
  },
  {
   "cell_type": "code",
   "execution_count": 99,
   "id": "0e7d1c71",
   "metadata": {},
   "outputs": [
    {
     "data": {
      "text/html": [
       "<div>\n",
       "<style scoped>\n",
       "    .dataframe tbody tr th:only-of-type {\n",
       "        vertical-align: middle;\n",
       "    }\n",
       "\n",
       "    .dataframe tbody tr th {\n",
       "        vertical-align: top;\n",
       "    }\n",
       "\n",
       "    .dataframe thead th {\n",
       "        text-align: right;\n",
       "    }\n",
       "</style>\n",
       "<table border=\"1\" class=\"dataframe\">\n",
       "  <thead>\n",
       "    <tr style=\"text-align: right;\">\n",
       "      <th></th>\n",
       "      <th>model_name</th>\n",
       "      <th>feature_count</th>\n",
       "      <th>feature_names</th>\n",
       "      <th>ACC</th>\n",
       "      <th>BAC</th>\n",
       "      <th>REC</th>\n",
       "      <th>AUC</th>\n",
       "    </tr>\n",
       "  </thead>\n",
       "  <tbody>\n",
       "    <tr>\n",
       "      <th>3</th>\n",
       "      <td>SVC_f1</td>\n",
       "      <td>11</td>\n",
       "      <td>[Married, Graduate, Property_Area, Applicant_I...</td>\n",
       "      <td>0.816</td>\n",
       "      <td>0.720</td>\n",
       "      <td>0.982</td>\n",
       "      <td>0.720</td>\n",
       "    </tr>\n",
       "    <tr>\n",
       "      <th>0</th>\n",
       "      <td>GNB_f1</td>\n",
       "      <td>11</td>\n",
       "      <td>[Married, Graduate, Property_Area, Applicant_I...</td>\n",
       "      <td>0.812</td>\n",
       "      <td>0.719</td>\n",
       "      <td>0.974</td>\n",
       "      <td>0.719</td>\n",
       "    </tr>\n",
       "    <tr>\n",
       "      <th>4</th>\n",
       "      <td>GNB_f2</td>\n",
       "      <td>7</td>\n",
       "      <td>[Credit_History, Property_Area, Coapplicant_In...</td>\n",
       "      <td>0.812</td>\n",
       "      <td>0.719</td>\n",
       "      <td>0.974</td>\n",
       "      <td>0.719</td>\n",
       "    </tr>\n",
       "    <tr>\n",
       "      <th>1</th>\n",
       "      <td>LRC_f1</td>\n",
       "      <td>11</td>\n",
       "      <td>[Married, Graduate, Property_Area, Applicant_I...</td>\n",
       "      <td>0.814</td>\n",
       "      <td>0.719</td>\n",
       "      <td>0.979</td>\n",
       "      <td>0.719</td>\n",
       "    </tr>\n",
       "    <tr>\n",
       "      <th>2</th>\n",
       "      <td>RFC_f1</td>\n",
       "      <td>11</td>\n",
       "      <td>[Married, Graduate, Property_Area, Applicant_I...</td>\n",
       "      <td>0.754</td>\n",
       "      <td>0.685</td>\n",
       "      <td>0.873</td>\n",
       "      <td>0.685</td>\n",
       "    </tr>\n",
       "  </tbody>\n",
       "</table>\n",
       "</div>"
      ],
      "text/plain": [
       "  model_name  feature_count  \\\n",
       "3     SVC_f1             11   \n",
       "0     GNB_f1             11   \n",
       "4     GNB_f2              7   \n",
       "1     LRC_f1             11   \n",
       "2     RFC_f1             11   \n",
       "\n",
       "                                       feature_names    ACC    BAC    REC  \\\n",
       "3  [Married, Graduate, Property_Area, Applicant_I...  0.816  0.720  0.982   \n",
       "0  [Married, Graduate, Property_Area, Applicant_I...  0.812  0.719  0.974   \n",
       "4  [Credit_History, Property_Area, Coapplicant_In...  0.812  0.719  0.974   \n",
       "1  [Married, Graduate, Property_Area, Applicant_I...  0.814  0.719  0.979   \n",
       "2  [Married, Graduate, Property_Area, Applicant_I...  0.754  0.685  0.873   \n",
       "\n",
       "     AUC  \n",
       "3  0.720  \n",
       "0  0.719  \n",
       "4  0.719  \n",
       "1  0.719  \n",
       "2  0.685  "
      ]
     },
     "execution_count": 99,
     "metadata": {},
     "output_type": "execute_result"
    }
   ],
   "source": [
    "acc_nb_f2, bac_nb_f2, rec_nb_f2, auc_nb_f2 = fit_algo(GNB(), x_train=df_finance_train[feature_set_2], label=label)\n",
    "model_evaluation('GNB_f2', len(feature_set_2), feature_set_2, acc_nb_f2, bac_nb_f2, rec_nb_f2, auc_nb_f2)"
   ]
  },
  {
   "cell_type": "code",
   "execution_count": 100,
   "id": "7aaffb8c",
   "metadata": {},
   "outputs": [
    {
     "data": {
      "text/html": [
       "<div>\n",
       "<style scoped>\n",
       "    .dataframe tbody tr th:only-of-type {\n",
       "        vertical-align: middle;\n",
       "    }\n",
       "\n",
       "    .dataframe tbody tr th {\n",
       "        vertical-align: top;\n",
       "    }\n",
       "\n",
       "    .dataframe thead th {\n",
       "        text-align: right;\n",
       "    }\n",
       "</style>\n",
       "<table border=\"1\" class=\"dataframe\">\n",
       "  <thead>\n",
       "    <tr style=\"text-align: right;\">\n",
       "      <th></th>\n",
       "      <th>model_name</th>\n",
       "      <th>feature_count</th>\n",
       "      <th>feature_names</th>\n",
       "      <th>ACC</th>\n",
       "      <th>BAC</th>\n",
       "      <th>REC</th>\n",
       "      <th>AUC</th>\n",
       "    </tr>\n",
       "  </thead>\n",
       "  <tbody>\n",
       "    <tr>\n",
       "      <th>3</th>\n",
       "      <td>SVC_f1</td>\n",
       "      <td>11</td>\n",
       "      <td>[Married, Graduate, Property_Area, Applicant_I...</td>\n",
       "      <td>0.816</td>\n",
       "      <td>0.720</td>\n",
       "      <td>0.982</td>\n",
       "      <td>0.720</td>\n",
       "    </tr>\n",
       "    <tr>\n",
       "      <th>5</th>\n",
       "      <td>GNB_f3</td>\n",
       "      <td>7</td>\n",
       "      <td>[Graduate, Property_Area, Applicant_Income_Cat...</td>\n",
       "      <td>0.816</td>\n",
       "      <td>0.720</td>\n",
       "      <td>0.982</td>\n",
       "      <td>0.720</td>\n",
       "    </tr>\n",
       "    <tr>\n",
       "      <th>0</th>\n",
       "      <td>GNB_f1</td>\n",
       "      <td>11</td>\n",
       "      <td>[Married, Graduate, Property_Area, Applicant_I...</td>\n",
       "      <td>0.812</td>\n",
       "      <td>0.719</td>\n",
       "      <td>0.974</td>\n",
       "      <td>0.719</td>\n",
       "    </tr>\n",
       "    <tr>\n",
       "      <th>4</th>\n",
       "      <td>GNB_f2</td>\n",
       "      <td>7</td>\n",
       "      <td>[Credit_History, Property_Area, Coapplicant_In...</td>\n",
       "      <td>0.812</td>\n",
       "      <td>0.719</td>\n",
       "      <td>0.974</td>\n",
       "      <td>0.719</td>\n",
       "    </tr>\n",
       "    <tr>\n",
       "      <th>1</th>\n",
       "      <td>LRC_f1</td>\n",
       "      <td>11</td>\n",
       "      <td>[Married, Graduate, Property_Area, Applicant_I...</td>\n",
       "      <td>0.814</td>\n",
       "      <td>0.719</td>\n",
       "      <td>0.979</td>\n",
       "      <td>0.719</td>\n",
       "    </tr>\n",
       "    <tr>\n",
       "      <th>2</th>\n",
       "      <td>RFC_f1</td>\n",
       "      <td>11</td>\n",
       "      <td>[Married, Graduate, Property_Area, Applicant_I...</td>\n",
       "      <td>0.754</td>\n",
       "      <td>0.685</td>\n",
       "      <td>0.873</td>\n",
       "      <td>0.685</td>\n",
       "    </tr>\n",
       "  </tbody>\n",
       "</table>\n",
       "</div>"
      ],
      "text/plain": [
       "  model_name  feature_count  \\\n",
       "3     SVC_f1             11   \n",
       "5     GNB_f3              7   \n",
       "0     GNB_f1             11   \n",
       "4     GNB_f2              7   \n",
       "1     LRC_f1             11   \n",
       "2     RFC_f1             11   \n",
       "\n",
       "                                       feature_names    ACC    BAC    REC  \\\n",
       "3  [Married, Graduate, Property_Area, Applicant_I...  0.816  0.720  0.982   \n",
       "5  [Graduate, Property_Area, Applicant_Income_Cat...  0.816  0.720  0.982   \n",
       "0  [Married, Graduate, Property_Area, Applicant_I...  0.812  0.719  0.974   \n",
       "4  [Credit_History, Property_Area, Coapplicant_In...  0.812  0.719  0.974   \n",
       "1  [Married, Graduate, Property_Area, Applicant_I...  0.814  0.719  0.979   \n",
       "2  [Married, Graduate, Property_Area, Applicant_I...  0.754  0.685  0.873   \n",
       "\n",
       "     AUC  \n",
       "3  0.720  \n",
       "5  0.720  \n",
       "0  0.719  \n",
       "4  0.719  \n",
       "1  0.719  \n",
       "2  0.685  "
      ]
     },
     "execution_count": 100,
     "metadata": {},
     "output_type": "execute_result"
    }
   ],
   "source": [
    "acc_nb_f3, bac_nb_f3, rec_nb_f3, auc_nb_f3 = fit_algo(GNB(), x_train=df_finance_train[feature_set_3], label=label)\n",
    "model_evaluation('GNB_f3', len(feature_set_3), feature_set_3, acc_nb_f3, bac_nb_f3, rec_nb_f3, auc_nb_f3)"
   ]
  },
  {
   "cell_type": "markdown",
   "id": "59985a10",
   "metadata": {},
   "source": [
    "Logistic Regression with f2 and f3"
   ]
  },
  {
   "cell_type": "code",
   "execution_count": 101,
   "id": "51d42712",
   "metadata": {},
   "outputs": [
    {
     "data": {
      "text/html": [
       "<div>\n",
       "<style scoped>\n",
       "    .dataframe tbody tr th:only-of-type {\n",
       "        vertical-align: middle;\n",
       "    }\n",
       "\n",
       "    .dataframe tbody tr th {\n",
       "        vertical-align: top;\n",
       "    }\n",
       "\n",
       "    .dataframe thead th {\n",
       "        text-align: right;\n",
       "    }\n",
       "</style>\n",
       "<table border=\"1\" class=\"dataframe\">\n",
       "  <thead>\n",
       "    <tr style=\"text-align: right;\">\n",
       "      <th></th>\n",
       "      <th>model_name</th>\n",
       "      <th>feature_count</th>\n",
       "      <th>feature_names</th>\n",
       "      <th>ACC</th>\n",
       "      <th>BAC</th>\n",
       "      <th>REC</th>\n",
       "      <th>AUC</th>\n",
       "    </tr>\n",
       "  </thead>\n",
       "  <tbody>\n",
       "    <tr>\n",
       "      <th>6</th>\n",
       "      <td>LRC_f2</td>\n",
       "      <td>7</td>\n",
       "      <td>[Credit_History, Property_Area, Coapplicant_In...</td>\n",
       "      <td>0.817</td>\n",
       "      <td>0.723</td>\n",
       "      <td>0.982</td>\n",
       "      <td>0.723</td>\n",
       "    </tr>\n",
       "    <tr>\n",
       "      <th>3</th>\n",
       "      <td>SVC_f1</td>\n",
       "      <td>11</td>\n",
       "      <td>[Married, Graduate, Property_Area, Applicant_I...</td>\n",
       "      <td>0.816</td>\n",
       "      <td>0.720</td>\n",
       "      <td>0.982</td>\n",
       "      <td>0.720</td>\n",
       "    </tr>\n",
       "    <tr>\n",
       "      <th>5</th>\n",
       "      <td>GNB_f3</td>\n",
       "      <td>7</td>\n",
       "      <td>[Graduate, Property_Area, Applicant_Income_Cat...</td>\n",
       "      <td>0.816</td>\n",
       "      <td>0.720</td>\n",
       "      <td>0.982</td>\n",
       "      <td>0.720</td>\n",
       "    </tr>\n",
       "    <tr>\n",
       "      <th>0</th>\n",
       "      <td>GNB_f1</td>\n",
       "      <td>11</td>\n",
       "      <td>[Married, Graduate, Property_Area, Applicant_I...</td>\n",
       "      <td>0.812</td>\n",
       "      <td>0.719</td>\n",
       "      <td>0.974</td>\n",
       "      <td>0.719</td>\n",
       "    </tr>\n",
       "    <tr>\n",
       "      <th>4</th>\n",
       "      <td>GNB_f2</td>\n",
       "      <td>7</td>\n",
       "      <td>[Credit_History, Property_Area, Coapplicant_In...</td>\n",
       "      <td>0.812</td>\n",
       "      <td>0.719</td>\n",
       "      <td>0.974</td>\n",
       "      <td>0.719</td>\n",
       "    </tr>\n",
       "    <tr>\n",
       "      <th>1</th>\n",
       "      <td>LRC_f1</td>\n",
       "      <td>11</td>\n",
       "      <td>[Married, Graduate, Property_Area, Applicant_I...</td>\n",
       "      <td>0.814</td>\n",
       "      <td>0.719</td>\n",
       "      <td>0.979</td>\n",
       "      <td>0.719</td>\n",
       "    </tr>\n",
       "    <tr>\n",
       "      <th>2</th>\n",
       "      <td>RFC_f1</td>\n",
       "      <td>11</td>\n",
       "      <td>[Married, Graduate, Property_Area, Applicant_I...</td>\n",
       "      <td>0.754</td>\n",
       "      <td>0.685</td>\n",
       "      <td>0.873</td>\n",
       "      <td>0.685</td>\n",
       "    </tr>\n",
       "  </tbody>\n",
       "</table>\n",
       "</div>"
      ],
      "text/plain": [
       "  model_name  feature_count  \\\n",
       "6     LRC_f2              7   \n",
       "3     SVC_f1             11   \n",
       "5     GNB_f3              7   \n",
       "0     GNB_f1             11   \n",
       "4     GNB_f2              7   \n",
       "1     LRC_f1             11   \n",
       "2     RFC_f1             11   \n",
       "\n",
       "                                       feature_names    ACC    BAC    REC  \\\n",
       "6  [Credit_History, Property_Area, Coapplicant_In...  0.817  0.723  0.982   \n",
       "3  [Married, Graduate, Property_Area, Applicant_I...  0.816  0.720  0.982   \n",
       "5  [Graduate, Property_Area, Applicant_Income_Cat...  0.816  0.720  0.982   \n",
       "0  [Married, Graduate, Property_Area, Applicant_I...  0.812  0.719  0.974   \n",
       "4  [Credit_History, Property_Area, Coapplicant_In...  0.812  0.719  0.974   \n",
       "1  [Married, Graduate, Property_Area, Applicant_I...  0.814  0.719  0.979   \n",
       "2  [Married, Graduate, Property_Area, Applicant_I...  0.754  0.685  0.873   \n",
       "\n",
       "     AUC  \n",
       "6  0.723  \n",
       "3  0.720  \n",
       "5  0.720  \n",
       "0  0.719  \n",
       "4  0.719  \n",
       "1  0.719  \n",
       "2  0.685  "
      ]
     },
     "execution_count": 101,
     "metadata": {},
     "output_type": "execute_result"
    }
   ],
   "source": [
    "acc_lr_f2, bac_lr_f2, rec_lr_f2, auc_lr_f2 = fit_algo(LR(random_state=23, solver='liblinear', C=0.5), df_finance_train[feature_set_2], label)\n",
    "model_evaluation('LRC_f2', len(feature_set_2), feature_set_2, acc_lr_f2, bac_lr_f2, rec_lr_f2, auc_lr_f2)"
   ]
  },
  {
   "cell_type": "code",
   "execution_count": 102,
   "id": "4daaadd4",
   "metadata": {},
   "outputs": [
    {
     "data": {
      "text/html": [
       "<div>\n",
       "<style scoped>\n",
       "    .dataframe tbody tr th:only-of-type {\n",
       "        vertical-align: middle;\n",
       "    }\n",
       "\n",
       "    .dataframe tbody tr th {\n",
       "        vertical-align: top;\n",
       "    }\n",
       "\n",
       "    .dataframe thead th {\n",
       "        text-align: right;\n",
       "    }\n",
       "</style>\n",
       "<table border=\"1\" class=\"dataframe\">\n",
       "  <thead>\n",
       "    <tr style=\"text-align: right;\">\n",
       "      <th></th>\n",
       "      <th>model_name</th>\n",
       "      <th>feature_count</th>\n",
       "      <th>feature_names</th>\n",
       "      <th>ACC</th>\n",
       "      <th>BAC</th>\n",
       "      <th>REC</th>\n",
       "      <th>AUC</th>\n",
       "    </tr>\n",
       "  </thead>\n",
       "  <tbody>\n",
       "    <tr>\n",
       "      <th>6</th>\n",
       "      <td>LRC_f2</td>\n",
       "      <td>7</td>\n",
       "      <td>[Credit_History, Property_Area, Coapplicant_In...</td>\n",
       "      <td>0.817</td>\n",
       "      <td>0.723</td>\n",
       "      <td>0.982</td>\n",
       "      <td>0.723</td>\n",
       "    </tr>\n",
       "    <tr>\n",
       "      <th>3</th>\n",
       "      <td>SVC_f1</td>\n",
       "      <td>11</td>\n",
       "      <td>[Married, Graduate, Property_Area, Applicant_I...</td>\n",
       "      <td>0.816</td>\n",
       "      <td>0.720</td>\n",
       "      <td>0.982</td>\n",
       "      <td>0.720</td>\n",
       "    </tr>\n",
       "    <tr>\n",
       "      <th>5</th>\n",
       "      <td>GNB_f3</td>\n",
       "      <td>7</td>\n",
       "      <td>[Graduate, Property_Area, Applicant_Income_Cat...</td>\n",
       "      <td>0.816</td>\n",
       "      <td>0.720</td>\n",
       "      <td>0.982</td>\n",
       "      <td>0.720</td>\n",
       "    </tr>\n",
       "    <tr>\n",
       "      <th>7</th>\n",
       "      <td>LRC_f3</td>\n",
       "      <td>7</td>\n",
       "      <td>[Graduate, Property_Area, Applicant_Income_Cat...</td>\n",
       "      <td>0.816</td>\n",
       "      <td>0.720</td>\n",
       "      <td>0.982</td>\n",
       "      <td>0.720</td>\n",
       "    </tr>\n",
       "    <tr>\n",
       "      <th>0</th>\n",
       "      <td>GNB_f1</td>\n",
       "      <td>11</td>\n",
       "      <td>[Married, Graduate, Property_Area, Applicant_I...</td>\n",
       "      <td>0.812</td>\n",
       "      <td>0.719</td>\n",
       "      <td>0.974</td>\n",
       "      <td>0.719</td>\n",
       "    </tr>\n",
       "    <tr>\n",
       "      <th>4</th>\n",
       "      <td>GNB_f2</td>\n",
       "      <td>7</td>\n",
       "      <td>[Credit_History, Property_Area, Coapplicant_In...</td>\n",
       "      <td>0.812</td>\n",
       "      <td>0.719</td>\n",
       "      <td>0.974</td>\n",
       "      <td>0.719</td>\n",
       "    </tr>\n",
       "    <tr>\n",
       "      <th>1</th>\n",
       "      <td>LRC_f1</td>\n",
       "      <td>11</td>\n",
       "      <td>[Married, Graduate, Property_Area, Applicant_I...</td>\n",
       "      <td>0.814</td>\n",
       "      <td>0.719</td>\n",
       "      <td>0.979</td>\n",
       "      <td>0.719</td>\n",
       "    </tr>\n",
       "    <tr>\n",
       "      <th>2</th>\n",
       "      <td>RFC_f1</td>\n",
       "      <td>11</td>\n",
       "      <td>[Married, Graduate, Property_Area, Applicant_I...</td>\n",
       "      <td>0.754</td>\n",
       "      <td>0.685</td>\n",
       "      <td>0.873</td>\n",
       "      <td>0.685</td>\n",
       "    </tr>\n",
       "  </tbody>\n",
       "</table>\n",
       "</div>"
      ],
      "text/plain": [
       "  model_name  feature_count  \\\n",
       "6     LRC_f2              7   \n",
       "3     SVC_f1             11   \n",
       "5     GNB_f3              7   \n",
       "7     LRC_f3              7   \n",
       "0     GNB_f1             11   \n",
       "4     GNB_f2              7   \n",
       "1     LRC_f1             11   \n",
       "2     RFC_f1             11   \n",
       "\n",
       "                                       feature_names    ACC    BAC    REC  \\\n",
       "6  [Credit_History, Property_Area, Coapplicant_In...  0.817  0.723  0.982   \n",
       "3  [Married, Graduate, Property_Area, Applicant_I...  0.816  0.720  0.982   \n",
       "5  [Graduate, Property_Area, Applicant_Income_Cat...  0.816  0.720  0.982   \n",
       "7  [Graduate, Property_Area, Applicant_Income_Cat...  0.816  0.720  0.982   \n",
       "0  [Married, Graduate, Property_Area, Applicant_I...  0.812  0.719  0.974   \n",
       "4  [Credit_History, Property_Area, Coapplicant_In...  0.812  0.719  0.974   \n",
       "1  [Married, Graduate, Property_Area, Applicant_I...  0.814  0.719  0.979   \n",
       "2  [Married, Graduate, Property_Area, Applicant_I...  0.754  0.685  0.873   \n",
       "\n",
       "     AUC  \n",
       "6  0.723  \n",
       "3  0.720  \n",
       "5  0.720  \n",
       "7  0.720  \n",
       "0  0.719  \n",
       "4  0.719  \n",
       "1  0.719  \n",
       "2  0.685  "
      ]
     },
     "execution_count": 102,
     "metadata": {},
     "output_type": "execute_result"
    }
   ],
   "source": [
    "acc_lr_f3, bac_lr_f3, rec_lr_f3, auc_lr_f3 = fit_algo(LR(random_state=23, solver='liblinear', C=0.5), df_finance_train[feature_set_3], label)\n",
    "model_evaluation('LRC_f3', len(feature_set_3), feature_set_3, acc_lr_f3, bac_lr_f3, rec_lr_f3, auc_lr_f3)"
   ]
  },
  {
   "cell_type": "markdown",
   "id": "75c252bb",
   "metadata": {},
   "source": [
    "Random Forest Classifier with f2 and f3"
   ]
  },
  {
   "cell_type": "code",
   "execution_count": 103,
   "id": "448dee58",
   "metadata": {},
   "outputs": [
    {
     "data": {
      "text/html": [
       "<div>\n",
       "<style scoped>\n",
       "    .dataframe tbody tr th:only-of-type {\n",
       "        vertical-align: middle;\n",
       "    }\n",
       "\n",
       "    .dataframe tbody tr th {\n",
       "        vertical-align: top;\n",
       "    }\n",
       "\n",
       "    .dataframe thead th {\n",
       "        text-align: right;\n",
       "    }\n",
       "</style>\n",
       "<table border=\"1\" class=\"dataframe\">\n",
       "  <thead>\n",
       "    <tr style=\"text-align: right;\">\n",
       "      <th></th>\n",
       "      <th>model_name</th>\n",
       "      <th>feature_count</th>\n",
       "      <th>feature_names</th>\n",
       "      <th>ACC</th>\n",
       "      <th>BAC</th>\n",
       "      <th>REC</th>\n",
       "      <th>AUC</th>\n",
       "    </tr>\n",
       "  </thead>\n",
       "  <tbody>\n",
       "    <tr>\n",
       "      <th>6</th>\n",
       "      <td>LRC_f2</td>\n",
       "      <td>7</td>\n",
       "      <td>[Credit_History, Property_Area, Coapplicant_In...</td>\n",
       "      <td>0.817</td>\n",
       "      <td>0.723</td>\n",
       "      <td>0.982</td>\n",
       "      <td>0.723</td>\n",
       "    </tr>\n",
       "    <tr>\n",
       "      <th>3</th>\n",
       "      <td>SVC_f1</td>\n",
       "      <td>11</td>\n",
       "      <td>[Married, Graduate, Property_Area, Applicant_I...</td>\n",
       "      <td>0.816</td>\n",
       "      <td>0.720</td>\n",
       "      <td>0.982</td>\n",
       "      <td>0.720</td>\n",
       "    </tr>\n",
       "    <tr>\n",
       "      <th>5</th>\n",
       "      <td>GNB_f3</td>\n",
       "      <td>7</td>\n",
       "      <td>[Graduate, Property_Area, Applicant_Income_Cat...</td>\n",
       "      <td>0.816</td>\n",
       "      <td>0.720</td>\n",
       "      <td>0.982</td>\n",
       "      <td>0.720</td>\n",
       "    </tr>\n",
       "    <tr>\n",
       "      <th>7</th>\n",
       "      <td>LRC_f3</td>\n",
       "      <td>7</td>\n",
       "      <td>[Graduate, Property_Area, Applicant_Income_Cat...</td>\n",
       "      <td>0.816</td>\n",
       "      <td>0.720</td>\n",
       "      <td>0.982</td>\n",
       "      <td>0.720</td>\n",
       "    </tr>\n",
       "    <tr>\n",
       "      <th>0</th>\n",
       "      <td>GNB_f1</td>\n",
       "      <td>11</td>\n",
       "      <td>[Married, Graduate, Property_Area, Applicant_I...</td>\n",
       "      <td>0.812</td>\n",
       "      <td>0.719</td>\n",
       "      <td>0.974</td>\n",
       "      <td>0.719</td>\n",
       "    </tr>\n",
       "    <tr>\n",
       "      <th>4</th>\n",
       "      <td>GNB_f2</td>\n",
       "      <td>7</td>\n",
       "      <td>[Credit_History, Property_Area, Coapplicant_In...</td>\n",
       "      <td>0.812</td>\n",
       "      <td>0.719</td>\n",
       "      <td>0.974</td>\n",
       "      <td>0.719</td>\n",
       "    </tr>\n",
       "    <tr>\n",
       "      <th>1</th>\n",
       "      <td>LRC_f1</td>\n",
       "      <td>11</td>\n",
       "      <td>[Married, Graduate, Property_Area, Applicant_I...</td>\n",
       "      <td>0.814</td>\n",
       "      <td>0.719</td>\n",
       "      <td>0.979</td>\n",
       "      <td>0.719</td>\n",
       "    </tr>\n",
       "    <tr>\n",
       "      <th>8</th>\n",
       "      <td>RFC_f2</td>\n",
       "      <td>7</td>\n",
       "      <td>[Credit_History, Property_Area, Coapplicant_In...</td>\n",
       "      <td>0.789</td>\n",
       "      <td>0.705</td>\n",
       "      <td>0.935</td>\n",
       "      <td>0.705</td>\n",
       "    </tr>\n",
       "    <tr>\n",
       "      <th>2</th>\n",
       "      <td>RFC_f1</td>\n",
       "      <td>11</td>\n",
       "      <td>[Married, Graduate, Property_Area, Applicant_I...</td>\n",
       "      <td>0.754</td>\n",
       "      <td>0.685</td>\n",
       "      <td>0.873</td>\n",
       "      <td>0.685</td>\n",
       "    </tr>\n",
       "  </tbody>\n",
       "</table>\n",
       "</div>"
      ],
      "text/plain": [
       "  model_name  feature_count  \\\n",
       "6     LRC_f2              7   \n",
       "3     SVC_f1             11   \n",
       "5     GNB_f3              7   \n",
       "7     LRC_f3              7   \n",
       "0     GNB_f1             11   \n",
       "4     GNB_f2              7   \n",
       "1     LRC_f1             11   \n",
       "8     RFC_f2              7   \n",
       "2     RFC_f1             11   \n",
       "\n",
       "                                       feature_names    ACC    BAC    REC  \\\n",
       "6  [Credit_History, Property_Area, Coapplicant_In...  0.817  0.723  0.982   \n",
       "3  [Married, Graduate, Property_Area, Applicant_I...  0.816  0.720  0.982   \n",
       "5  [Graduate, Property_Area, Applicant_Income_Cat...  0.816  0.720  0.982   \n",
       "7  [Graduate, Property_Area, Applicant_Income_Cat...  0.816  0.720  0.982   \n",
       "0  [Married, Graduate, Property_Area, Applicant_I...  0.812  0.719  0.974   \n",
       "4  [Credit_History, Property_Area, Coapplicant_In...  0.812  0.719  0.974   \n",
       "1  [Married, Graduate, Property_Area, Applicant_I...  0.814  0.719  0.979   \n",
       "8  [Credit_History, Property_Area, Coapplicant_In...  0.789  0.705  0.935   \n",
       "2  [Married, Graduate, Property_Area, Applicant_I...  0.754  0.685  0.873   \n",
       "\n",
       "     AUC  \n",
       "6  0.723  \n",
       "3  0.720  \n",
       "5  0.720  \n",
       "7  0.720  \n",
       "0  0.719  \n",
       "4  0.719  \n",
       "1  0.719  \n",
       "8  0.705  \n",
       "2  0.685  "
      ]
     },
     "execution_count": 103,
     "metadata": {},
     "output_type": "execute_result"
    }
   ],
   "source": [
    "acc_rf_f2, bac_rf_f2, rec_rf_f2, auc_rf_f2 = fit_algo(RFC(random_state=23), df_finance_train[feature_set_2], label)\n",
    "model_evaluation('RFC_f2', len(feature_set_2), feature_set_2, acc_rf_f2, bac_rf_f2, rec_rf_f2, auc_rf_f2)"
   ]
  },
  {
   "cell_type": "code",
   "execution_count": 104,
   "id": "9d4f37e3",
   "metadata": {},
   "outputs": [
    {
     "data": {
      "text/html": [
       "<div>\n",
       "<style scoped>\n",
       "    .dataframe tbody tr th:only-of-type {\n",
       "        vertical-align: middle;\n",
       "    }\n",
       "\n",
       "    .dataframe tbody tr th {\n",
       "        vertical-align: top;\n",
       "    }\n",
       "\n",
       "    .dataframe thead th {\n",
       "        text-align: right;\n",
       "    }\n",
       "</style>\n",
       "<table border=\"1\" class=\"dataframe\">\n",
       "  <thead>\n",
       "    <tr style=\"text-align: right;\">\n",
       "      <th></th>\n",
       "      <th>model_name</th>\n",
       "      <th>feature_count</th>\n",
       "      <th>feature_names</th>\n",
       "      <th>ACC</th>\n",
       "      <th>BAC</th>\n",
       "      <th>REC</th>\n",
       "      <th>AUC</th>\n",
       "    </tr>\n",
       "  </thead>\n",
       "  <tbody>\n",
       "    <tr>\n",
       "      <th>9</th>\n",
       "      <td>RFC_f3</td>\n",
       "      <td>7</td>\n",
       "      <td>[Graduate, Property_Area, Applicant_Income_Cat...</td>\n",
       "      <td>0.794</td>\n",
       "      <td>0.731</td>\n",
       "      <td>0.904</td>\n",
       "      <td>0.731</td>\n",
       "    </tr>\n",
       "    <tr>\n",
       "      <th>6</th>\n",
       "      <td>LRC_f2</td>\n",
       "      <td>7</td>\n",
       "      <td>[Credit_History, Property_Area, Coapplicant_In...</td>\n",
       "      <td>0.817</td>\n",
       "      <td>0.723</td>\n",
       "      <td>0.982</td>\n",
       "      <td>0.723</td>\n",
       "    </tr>\n",
       "    <tr>\n",
       "      <th>3</th>\n",
       "      <td>SVC_f1</td>\n",
       "      <td>11</td>\n",
       "      <td>[Married, Graduate, Property_Area, Applicant_I...</td>\n",
       "      <td>0.816</td>\n",
       "      <td>0.720</td>\n",
       "      <td>0.982</td>\n",
       "      <td>0.720</td>\n",
       "    </tr>\n",
       "    <tr>\n",
       "      <th>5</th>\n",
       "      <td>GNB_f3</td>\n",
       "      <td>7</td>\n",
       "      <td>[Graduate, Property_Area, Applicant_Income_Cat...</td>\n",
       "      <td>0.816</td>\n",
       "      <td>0.720</td>\n",
       "      <td>0.982</td>\n",
       "      <td>0.720</td>\n",
       "    </tr>\n",
       "    <tr>\n",
       "      <th>7</th>\n",
       "      <td>LRC_f3</td>\n",
       "      <td>7</td>\n",
       "      <td>[Graduate, Property_Area, Applicant_Income_Cat...</td>\n",
       "      <td>0.816</td>\n",
       "      <td>0.720</td>\n",
       "      <td>0.982</td>\n",
       "      <td>0.720</td>\n",
       "    </tr>\n",
       "    <tr>\n",
       "      <th>0</th>\n",
       "      <td>GNB_f1</td>\n",
       "      <td>11</td>\n",
       "      <td>[Married, Graduate, Property_Area, Applicant_I...</td>\n",
       "      <td>0.812</td>\n",
       "      <td>0.719</td>\n",
       "      <td>0.974</td>\n",
       "      <td>0.719</td>\n",
       "    </tr>\n",
       "    <tr>\n",
       "      <th>4</th>\n",
       "      <td>GNB_f2</td>\n",
       "      <td>7</td>\n",
       "      <td>[Credit_History, Property_Area, Coapplicant_In...</td>\n",
       "      <td>0.812</td>\n",
       "      <td>0.719</td>\n",
       "      <td>0.974</td>\n",
       "      <td>0.719</td>\n",
       "    </tr>\n",
       "    <tr>\n",
       "      <th>1</th>\n",
       "      <td>LRC_f1</td>\n",
       "      <td>11</td>\n",
       "      <td>[Married, Graduate, Property_Area, Applicant_I...</td>\n",
       "      <td>0.814</td>\n",
       "      <td>0.719</td>\n",
       "      <td>0.979</td>\n",
       "      <td>0.719</td>\n",
       "    </tr>\n",
       "    <tr>\n",
       "      <th>8</th>\n",
       "      <td>RFC_f2</td>\n",
       "      <td>7</td>\n",
       "      <td>[Credit_History, Property_Area, Coapplicant_In...</td>\n",
       "      <td>0.789</td>\n",
       "      <td>0.705</td>\n",
       "      <td>0.935</td>\n",
       "      <td>0.705</td>\n",
       "    </tr>\n",
       "    <tr>\n",
       "      <th>2</th>\n",
       "      <td>RFC_f1</td>\n",
       "      <td>11</td>\n",
       "      <td>[Married, Graduate, Property_Area, Applicant_I...</td>\n",
       "      <td>0.754</td>\n",
       "      <td>0.685</td>\n",
       "      <td>0.873</td>\n",
       "      <td>0.685</td>\n",
       "    </tr>\n",
       "  </tbody>\n",
       "</table>\n",
       "</div>"
      ],
      "text/plain": [
       "  model_name  feature_count  \\\n",
       "9     RFC_f3              7   \n",
       "6     LRC_f2              7   \n",
       "3     SVC_f1             11   \n",
       "5     GNB_f3              7   \n",
       "7     LRC_f3              7   \n",
       "0     GNB_f1             11   \n",
       "4     GNB_f2              7   \n",
       "1     LRC_f1             11   \n",
       "8     RFC_f2              7   \n",
       "2     RFC_f1             11   \n",
       "\n",
       "                                       feature_names    ACC    BAC    REC  \\\n",
       "9  [Graduate, Property_Area, Applicant_Income_Cat...  0.794  0.731  0.904   \n",
       "6  [Credit_History, Property_Area, Coapplicant_In...  0.817  0.723  0.982   \n",
       "3  [Married, Graduate, Property_Area, Applicant_I...  0.816  0.720  0.982   \n",
       "5  [Graduate, Property_Area, Applicant_Income_Cat...  0.816  0.720  0.982   \n",
       "7  [Graduate, Property_Area, Applicant_Income_Cat...  0.816  0.720  0.982   \n",
       "0  [Married, Graduate, Property_Area, Applicant_I...  0.812  0.719  0.974   \n",
       "4  [Credit_History, Property_Area, Coapplicant_In...  0.812  0.719  0.974   \n",
       "1  [Married, Graduate, Property_Area, Applicant_I...  0.814  0.719  0.979   \n",
       "8  [Credit_History, Property_Area, Coapplicant_In...  0.789  0.705  0.935   \n",
       "2  [Married, Graduate, Property_Area, Applicant_I...  0.754  0.685  0.873   \n",
       "\n",
       "     AUC  \n",
       "9  0.731  \n",
       "6  0.723  \n",
       "3  0.720  \n",
       "5  0.720  \n",
       "7  0.720  \n",
       "0  0.719  \n",
       "4  0.719  \n",
       "1  0.719  \n",
       "8  0.705  \n",
       "2  0.685  "
      ]
     },
     "execution_count": 104,
     "metadata": {},
     "output_type": "execute_result"
    }
   ],
   "source": [
    "acc_rf_f3, bac_rf_f3, rec_rf_f3, auc_rf_f3 = fit_algo(RFC(random_state=23), df_finance_train[feature_set_3], label)\n",
    "model_evaluation('RFC_f3', len(feature_set_3), feature_set_3, acc_rf_f3, bac_rf_f3, rec_rf_f3, auc_rf_f3)"
   ]
  },
  {
   "cell_type": "markdown",
   "id": "b4431b8e",
   "metadata": {},
   "source": [
    "Support Vector Classifier with f2 and f3"
   ]
  },
  {
   "cell_type": "code",
   "execution_count": 105,
   "id": "53a963e5",
   "metadata": {},
   "outputs": [
    {
     "data": {
      "text/html": [
       "<div>\n",
       "<style scoped>\n",
       "    .dataframe tbody tr th:only-of-type {\n",
       "        vertical-align: middle;\n",
       "    }\n",
       "\n",
       "    .dataframe tbody tr th {\n",
       "        vertical-align: top;\n",
       "    }\n",
       "\n",
       "    .dataframe thead th {\n",
       "        text-align: right;\n",
       "    }\n",
       "</style>\n",
       "<table border=\"1\" class=\"dataframe\">\n",
       "  <thead>\n",
       "    <tr style=\"text-align: right;\">\n",
       "      <th></th>\n",
       "      <th>model_name</th>\n",
       "      <th>feature_count</th>\n",
       "      <th>feature_names</th>\n",
       "      <th>ACC</th>\n",
       "      <th>BAC</th>\n",
       "      <th>REC</th>\n",
       "      <th>AUC</th>\n",
       "    </tr>\n",
       "  </thead>\n",
       "  <tbody>\n",
       "    <tr>\n",
       "      <th>9</th>\n",
       "      <td>RFC_f3</td>\n",
       "      <td>7</td>\n",
       "      <td>[Graduate, Property_Area, Applicant_Income_Cat...</td>\n",
       "      <td>0.794</td>\n",
       "      <td>0.731</td>\n",
       "      <td>0.904</td>\n",
       "      <td>0.731</td>\n",
       "    </tr>\n",
       "    <tr>\n",
       "      <th>6</th>\n",
       "      <td>LRC_f2</td>\n",
       "      <td>7</td>\n",
       "      <td>[Credit_History, Property_Area, Coapplicant_In...</td>\n",
       "      <td>0.817</td>\n",
       "      <td>0.723</td>\n",
       "      <td>0.982</td>\n",
       "      <td>0.723</td>\n",
       "    </tr>\n",
       "    <tr>\n",
       "      <th>3</th>\n",
       "      <td>SVC_f1</td>\n",
       "      <td>11</td>\n",
       "      <td>[Married, Graduate, Property_Area, Applicant_I...</td>\n",
       "      <td>0.816</td>\n",
       "      <td>0.720</td>\n",
       "      <td>0.982</td>\n",
       "      <td>0.720</td>\n",
       "    </tr>\n",
       "    <tr>\n",
       "      <th>5</th>\n",
       "      <td>GNB_f3</td>\n",
       "      <td>7</td>\n",
       "      <td>[Graduate, Property_Area, Applicant_Income_Cat...</td>\n",
       "      <td>0.816</td>\n",
       "      <td>0.720</td>\n",
       "      <td>0.982</td>\n",
       "      <td>0.720</td>\n",
       "    </tr>\n",
       "    <tr>\n",
       "      <th>7</th>\n",
       "      <td>LRC_f3</td>\n",
       "      <td>7</td>\n",
       "      <td>[Graduate, Property_Area, Applicant_Income_Cat...</td>\n",
       "      <td>0.816</td>\n",
       "      <td>0.720</td>\n",
       "      <td>0.982</td>\n",
       "      <td>0.720</td>\n",
       "    </tr>\n",
       "    <tr>\n",
       "      <th>10</th>\n",
       "      <td>SVC_f2</td>\n",
       "      <td>7</td>\n",
       "      <td>[Credit_History, Property_Area, Coapplicant_In...</td>\n",
       "      <td>0.816</td>\n",
       "      <td>0.720</td>\n",
       "      <td>0.982</td>\n",
       "      <td>0.720</td>\n",
       "    </tr>\n",
       "    <tr>\n",
       "      <th>0</th>\n",
       "      <td>GNB_f1</td>\n",
       "      <td>11</td>\n",
       "      <td>[Married, Graduate, Property_Area, Applicant_I...</td>\n",
       "      <td>0.812</td>\n",
       "      <td>0.719</td>\n",
       "      <td>0.974</td>\n",
       "      <td>0.719</td>\n",
       "    </tr>\n",
       "    <tr>\n",
       "      <th>4</th>\n",
       "      <td>GNB_f2</td>\n",
       "      <td>7</td>\n",
       "      <td>[Credit_History, Property_Area, Coapplicant_In...</td>\n",
       "      <td>0.812</td>\n",
       "      <td>0.719</td>\n",
       "      <td>0.974</td>\n",
       "      <td>0.719</td>\n",
       "    </tr>\n",
       "    <tr>\n",
       "      <th>1</th>\n",
       "      <td>LRC_f1</td>\n",
       "      <td>11</td>\n",
       "      <td>[Married, Graduate, Property_Area, Applicant_I...</td>\n",
       "      <td>0.814</td>\n",
       "      <td>0.719</td>\n",
       "      <td>0.979</td>\n",
       "      <td>0.719</td>\n",
       "    </tr>\n",
       "    <tr>\n",
       "      <th>8</th>\n",
       "      <td>RFC_f2</td>\n",
       "      <td>7</td>\n",
       "      <td>[Credit_History, Property_Area, Coapplicant_In...</td>\n",
       "      <td>0.789</td>\n",
       "      <td>0.705</td>\n",
       "      <td>0.935</td>\n",
       "      <td>0.705</td>\n",
       "    </tr>\n",
       "    <tr>\n",
       "      <th>2</th>\n",
       "      <td>RFC_f1</td>\n",
       "      <td>11</td>\n",
       "      <td>[Married, Graduate, Property_Area, Applicant_I...</td>\n",
       "      <td>0.754</td>\n",
       "      <td>0.685</td>\n",
       "      <td>0.873</td>\n",
       "      <td>0.685</td>\n",
       "    </tr>\n",
       "  </tbody>\n",
       "</table>\n",
       "</div>"
      ],
      "text/plain": [
       "   model_name  feature_count  \\\n",
       "9      RFC_f3              7   \n",
       "6      LRC_f2              7   \n",
       "3      SVC_f1             11   \n",
       "5      GNB_f3              7   \n",
       "7      LRC_f3              7   \n",
       "10     SVC_f2              7   \n",
       "0      GNB_f1             11   \n",
       "4      GNB_f2              7   \n",
       "1      LRC_f1             11   \n",
       "8      RFC_f2              7   \n",
       "2      RFC_f1             11   \n",
       "\n",
       "                                        feature_names    ACC    BAC    REC  \\\n",
       "9   [Graduate, Property_Area, Applicant_Income_Cat...  0.794  0.731  0.904   \n",
       "6   [Credit_History, Property_Area, Coapplicant_In...  0.817  0.723  0.982   \n",
       "3   [Married, Graduate, Property_Area, Applicant_I...  0.816  0.720  0.982   \n",
       "5   [Graduate, Property_Area, Applicant_Income_Cat...  0.816  0.720  0.982   \n",
       "7   [Graduate, Property_Area, Applicant_Income_Cat...  0.816  0.720  0.982   \n",
       "10  [Credit_History, Property_Area, Coapplicant_In...  0.816  0.720  0.982   \n",
       "0   [Married, Graduate, Property_Area, Applicant_I...  0.812  0.719  0.974   \n",
       "4   [Credit_History, Property_Area, Coapplicant_In...  0.812  0.719  0.974   \n",
       "1   [Married, Graduate, Property_Area, Applicant_I...  0.814  0.719  0.979   \n",
       "8   [Credit_History, Property_Area, Coapplicant_In...  0.789  0.705  0.935   \n",
       "2   [Married, Graduate, Property_Area, Applicant_I...  0.754  0.685  0.873   \n",
       "\n",
       "      AUC  \n",
       "9   0.731  \n",
       "6   0.723  \n",
       "3   0.720  \n",
       "5   0.720  \n",
       "7   0.720  \n",
       "10  0.720  \n",
       "0   0.719  \n",
       "4   0.719  \n",
       "1   0.719  \n",
       "8   0.705  \n",
       "2   0.685  "
      ]
     },
     "execution_count": 105,
     "metadata": {},
     "output_type": "execute_result"
    }
   ],
   "source": [
    "acc_svc_f2, bac_svc_f2, rec_svc_f2, auc_svc_f2 = fit_algo(SVC(random_state=23, kernel='linear'), df_finance_train[feature_set_2], label)\n",
    "model_evaluation('SVC_f2', len(feature_set_2), feature_set_2, acc_svc_f2, bac_svc_f2, rec_svc_f2, auc_svc_f2)"
   ]
  },
  {
   "cell_type": "code",
   "execution_count": 106,
   "id": "57672c37",
   "metadata": {},
   "outputs": [
    {
     "data": {
      "text/html": [
       "<div>\n",
       "<style scoped>\n",
       "    .dataframe tbody tr th:only-of-type {\n",
       "        vertical-align: middle;\n",
       "    }\n",
       "\n",
       "    .dataframe tbody tr th {\n",
       "        vertical-align: top;\n",
       "    }\n",
       "\n",
       "    .dataframe thead th {\n",
       "        text-align: right;\n",
       "    }\n",
       "</style>\n",
       "<table border=\"1\" class=\"dataframe\">\n",
       "  <thead>\n",
       "    <tr style=\"text-align: right;\">\n",
       "      <th></th>\n",
       "      <th>model_name</th>\n",
       "      <th>feature_count</th>\n",
       "      <th>feature_names</th>\n",
       "      <th>ACC</th>\n",
       "      <th>BAC</th>\n",
       "      <th>REC</th>\n",
       "      <th>AUC</th>\n",
       "    </tr>\n",
       "  </thead>\n",
       "  <tbody>\n",
       "    <tr>\n",
       "      <th>9</th>\n",
       "      <td>RFC_f3</td>\n",
       "      <td>7</td>\n",
       "      <td>[Graduate, Property_Area, Applicant_Income_Cat...</td>\n",
       "      <td>0.794</td>\n",
       "      <td>0.731</td>\n",
       "      <td>0.904</td>\n",
       "      <td>0.731</td>\n",
       "    </tr>\n",
       "    <tr>\n",
       "      <th>6</th>\n",
       "      <td>LRC_f2</td>\n",
       "      <td>7</td>\n",
       "      <td>[Credit_History, Property_Area, Coapplicant_In...</td>\n",
       "      <td>0.817</td>\n",
       "      <td>0.723</td>\n",
       "      <td>0.982</td>\n",
       "      <td>0.723</td>\n",
       "    </tr>\n",
       "    <tr>\n",
       "      <th>3</th>\n",
       "      <td>SVC_f1</td>\n",
       "      <td>11</td>\n",
       "      <td>[Married, Graduate, Property_Area, Applicant_I...</td>\n",
       "      <td>0.816</td>\n",
       "      <td>0.720</td>\n",
       "      <td>0.982</td>\n",
       "      <td>0.720</td>\n",
       "    </tr>\n",
       "    <tr>\n",
       "      <th>5</th>\n",
       "      <td>GNB_f3</td>\n",
       "      <td>7</td>\n",
       "      <td>[Graduate, Property_Area, Applicant_Income_Cat...</td>\n",
       "      <td>0.816</td>\n",
       "      <td>0.720</td>\n",
       "      <td>0.982</td>\n",
       "      <td>0.720</td>\n",
       "    </tr>\n",
       "    <tr>\n",
       "      <th>7</th>\n",
       "      <td>LRC_f3</td>\n",
       "      <td>7</td>\n",
       "      <td>[Graduate, Property_Area, Applicant_Income_Cat...</td>\n",
       "      <td>0.816</td>\n",
       "      <td>0.720</td>\n",
       "      <td>0.982</td>\n",
       "      <td>0.720</td>\n",
       "    </tr>\n",
       "    <tr>\n",
       "      <th>10</th>\n",
       "      <td>SVC_f2</td>\n",
       "      <td>7</td>\n",
       "      <td>[Credit_History, Property_Area, Coapplicant_In...</td>\n",
       "      <td>0.816</td>\n",
       "      <td>0.720</td>\n",
       "      <td>0.982</td>\n",
       "      <td>0.720</td>\n",
       "    </tr>\n",
       "    <tr>\n",
       "      <th>11</th>\n",
       "      <td>SVC_f3</td>\n",
       "      <td>7</td>\n",
       "      <td>[Graduate, Property_Area, Applicant_Income_Cat...</td>\n",
       "      <td>0.816</td>\n",
       "      <td>0.720</td>\n",
       "      <td>0.982</td>\n",
       "      <td>0.720</td>\n",
       "    </tr>\n",
       "    <tr>\n",
       "      <th>0</th>\n",
       "      <td>GNB_f1</td>\n",
       "      <td>11</td>\n",
       "      <td>[Married, Graduate, Property_Area, Applicant_I...</td>\n",
       "      <td>0.812</td>\n",
       "      <td>0.719</td>\n",
       "      <td>0.974</td>\n",
       "      <td>0.719</td>\n",
       "    </tr>\n",
       "    <tr>\n",
       "      <th>4</th>\n",
       "      <td>GNB_f2</td>\n",
       "      <td>7</td>\n",
       "      <td>[Credit_History, Property_Area, Coapplicant_In...</td>\n",
       "      <td>0.812</td>\n",
       "      <td>0.719</td>\n",
       "      <td>0.974</td>\n",
       "      <td>0.719</td>\n",
       "    </tr>\n",
       "    <tr>\n",
       "      <th>1</th>\n",
       "      <td>LRC_f1</td>\n",
       "      <td>11</td>\n",
       "      <td>[Married, Graduate, Property_Area, Applicant_I...</td>\n",
       "      <td>0.814</td>\n",
       "      <td>0.719</td>\n",
       "      <td>0.979</td>\n",
       "      <td>0.719</td>\n",
       "    </tr>\n",
       "    <tr>\n",
       "      <th>8</th>\n",
       "      <td>RFC_f2</td>\n",
       "      <td>7</td>\n",
       "      <td>[Credit_History, Property_Area, Coapplicant_In...</td>\n",
       "      <td>0.789</td>\n",
       "      <td>0.705</td>\n",
       "      <td>0.935</td>\n",
       "      <td>0.705</td>\n",
       "    </tr>\n",
       "    <tr>\n",
       "      <th>2</th>\n",
       "      <td>RFC_f1</td>\n",
       "      <td>11</td>\n",
       "      <td>[Married, Graduate, Property_Area, Applicant_I...</td>\n",
       "      <td>0.754</td>\n",
       "      <td>0.685</td>\n",
       "      <td>0.873</td>\n",
       "      <td>0.685</td>\n",
       "    </tr>\n",
       "  </tbody>\n",
       "</table>\n",
       "</div>"
      ],
      "text/plain": [
       "   model_name  feature_count  \\\n",
       "9      RFC_f3              7   \n",
       "6      LRC_f2              7   \n",
       "3      SVC_f1             11   \n",
       "5      GNB_f3              7   \n",
       "7      LRC_f3              7   \n",
       "10     SVC_f2              7   \n",
       "11     SVC_f3              7   \n",
       "0      GNB_f1             11   \n",
       "4      GNB_f2              7   \n",
       "1      LRC_f1             11   \n",
       "8      RFC_f2              7   \n",
       "2      RFC_f1             11   \n",
       "\n",
       "                                        feature_names    ACC    BAC    REC  \\\n",
       "9   [Graduate, Property_Area, Applicant_Income_Cat...  0.794  0.731  0.904   \n",
       "6   [Credit_History, Property_Area, Coapplicant_In...  0.817  0.723  0.982   \n",
       "3   [Married, Graduate, Property_Area, Applicant_I...  0.816  0.720  0.982   \n",
       "5   [Graduate, Property_Area, Applicant_Income_Cat...  0.816  0.720  0.982   \n",
       "7   [Graduate, Property_Area, Applicant_Income_Cat...  0.816  0.720  0.982   \n",
       "10  [Credit_History, Property_Area, Coapplicant_In...  0.816  0.720  0.982   \n",
       "11  [Graduate, Property_Area, Applicant_Income_Cat...  0.816  0.720  0.982   \n",
       "0   [Married, Graduate, Property_Area, Applicant_I...  0.812  0.719  0.974   \n",
       "4   [Credit_History, Property_Area, Coapplicant_In...  0.812  0.719  0.974   \n",
       "1   [Married, Graduate, Property_Area, Applicant_I...  0.814  0.719  0.979   \n",
       "8   [Credit_History, Property_Area, Coapplicant_In...  0.789  0.705  0.935   \n",
       "2   [Married, Graduate, Property_Area, Applicant_I...  0.754  0.685  0.873   \n",
       "\n",
       "      AUC  \n",
       "9   0.731  \n",
       "6   0.723  \n",
       "3   0.720  \n",
       "5   0.720  \n",
       "7   0.720  \n",
       "10  0.720  \n",
       "11  0.720  \n",
       "0   0.719  \n",
       "4   0.719  \n",
       "1   0.719  \n",
       "8   0.705  \n",
       "2   0.685  "
      ]
     },
     "execution_count": 106,
     "metadata": {},
     "output_type": "execute_result"
    }
   ],
   "source": [
    "acc_svc_f3, bac_svc_f3, rec_svc_f3, auc_svc_f3 = fit_algo(SVC(random_state=23, kernel='linear'), df_finance_train[feature_set_3], label)\n",
    "model_evaluation('SVC_f3', len(feature_set_3), feature_set_3, acc_svc_f3, bac_svc_f3, rec_svc_f3, auc_svc_f3)"
   ]
  },
  {
   "cell_type": "markdown",
   "id": "548fe1f7",
   "metadata": {},
   "source": [
    "The evaluation DataFrame is already arranged in descending order with respect to the Balanced Accuracy of various algorithms. Although, Random Forest with feature set 3 gives the best balanced accuracy and auc, it has a very low recall. Also, the difference between the second best performing algorithm(LR) and RFC in their balanced accuracy is a mere 0.001, which for a small testing set of size 367 is pretty insignificant. Therefore, we can choose Logistic Regression with feature set 2 as our predicting algorithms, tune it's hyperparamters further and see what we can do next."
   ]
  },
  {
   "cell_type": "markdown",
   "id": "526189d7",
   "metadata": {},
   "source": [
    "Hyper parameter tuning of Logistic Regression."
   ]
  },
  {
   "cell_type": "code",
   "execution_count": 107,
   "id": "fdfe7ba6",
   "metadata": {},
   "outputs": [
    {
     "data": {
      "text/plain": [
       "GridSearchCV(cv=10, estimator=LogisticRegression(random_state=23),\n",
       "             param_grid={'C': [0.001, 0.01, 0.1, 0.5, 1, 5, 10],\n",
       "                         'class_weight': [None, 'balanced'],\n",
       "                         'solver': ['liblinear', 'newton-cg']},\n",
       "             scoring='balanced_accuracy')"
      ]
     },
     "execution_count": 107,
     "metadata": {},
     "output_type": "execute_result"
    }
   ],
   "source": [
    "param_grid_lr = { 'C': [0.001, 0.01, 0.1, 0.5, 1, 5, 10],\n",
    "              'class_weight': [None, 'balanced'],\n",
    "              'solver': ['liblinear', 'newton-cg']\n",
    "}\n",
    "\n",
    "grid_search_lr = GridSearchCV(LR(random_state=23), param_grid=param_grid_lr, cv=10, scoring='balanced_accuracy')\n",
    "grid_search_lr.fit(df_finance_train[feature_set_2], label)"
   ]
  },
  {
   "cell_type": "code",
   "execution_count": 108,
   "id": "69ad8337",
   "metadata": {},
   "outputs": [
    {
     "data": {
      "text/plain": [
       "{'C': 0.1, 'class_weight': 'balanced', 'solver': 'liblinear'}"
      ]
     },
     "execution_count": 108,
     "metadata": {},
     "output_type": "execute_result"
    }
   ],
   "source": [
    "grid_search_lr.best_params_"
   ]
  },
  {
   "cell_type": "markdown",
   "id": "b7a74ce5",
   "metadata": {},
   "source": [
    "Now we have the best hyperparametes. Let's run the Logistic Regression algorithm with feature set 2 to see if our model has improved."
   ]
  },
  {
   "cell_type": "code",
   "execution_count": 109,
   "id": "d9c2c0ef",
   "metadata": {},
   "outputs": [
    {
     "data": {
      "text/html": [
       "<div>\n",
       "<style scoped>\n",
       "    .dataframe tbody tr th:only-of-type {\n",
       "        vertical-align: middle;\n",
       "    }\n",
       "\n",
       "    .dataframe tbody tr th {\n",
       "        vertical-align: top;\n",
       "    }\n",
       "\n",
       "    .dataframe thead th {\n",
       "        text-align: right;\n",
       "    }\n",
       "</style>\n",
       "<table border=\"1\" class=\"dataframe\">\n",
       "  <thead>\n",
       "    <tr style=\"text-align: right;\">\n",
       "      <th></th>\n",
       "      <th>model_name</th>\n",
       "      <th>feature_count</th>\n",
       "      <th>feature_names</th>\n",
       "      <th>ACC</th>\n",
       "      <th>BAC</th>\n",
       "      <th>REC</th>\n",
       "      <th>AUC</th>\n",
       "    </tr>\n",
       "  </thead>\n",
       "  <tbody>\n",
       "    <tr>\n",
       "      <th>9</th>\n",
       "      <td>RFC_f3</td>\n",
       "      <td>7</td>\n",
       "      <td>[Graduate, Property_Area, Applicant_Income_Cat...</td>\n",
       "      <td>0.794</td>\n",
       "      <td>0.731</td>\n",
       "      <td>0.904</td>\n",
       "      <td>0.731</td>\n",
       "    </tr>\n",
       "    <tr>\n",
       "      <th>12</th>\n",
       "      <td>LR_f2_tuned</td>\n",
       "      <td>7</td>\n",
       "      <td>[Credit_History, Property_Area, Coapplicant_In...</td>\n",
       "      <td>0.784</td>\n",
       "      <td>0.725</td>\n",
       "      <td>0.886</td>\n",
       "      <td>0.725</td>\n",
       "    </tr>\n",
       "    <tr>\n",
       "      <th>6</th>\n",
       "      <td>LRC_f2</td>\n",
       "      <td>7</td>\n",
       "      <td>[Credit_History, Property_Area, Coapplicant_In...</td>\n",
       "      <td>0.817</td>\n",
       "      <td>0.723</td>\n",
       "      <td>0.982</td>\n",
       "      <td>0.723</td>\n",
       "    </tr>\n",
       "    <tr>\n",
       "      <th>3</th>\n",
       "      <td>SVC_f1</td>\n",
       "      <td>11</td>\n",
       "      <td>[Married, Graduate, Property_Area, Applicant_I...</td>\n",
       "      <td>0.816</td>\n",
       "      <td>0.720</td>\n",
       "      <td>0.982</td>\n",
       "      <td>0.720</td>\n",
       "    </tr>\n",
       "    <tr>\n",
       "      <th>5</th>\n",
       "      <td>GNB_f3</td>\n",
       "      <td>7</td>\n",
       "      <td>[Graduate, Property_Area, Applicant_Income_Cat...</td>\n",
       "      <td>0.816</td>\n",
       "      <td>0.720</td>\n",
       "      <td>0.982</td>\n",
       "      <td>0.720</td>\n",
       "    </tr>\n",
       "    <tr>\n",
       "      <th>7</th>\n",
       "      <td>LRC_f3</td>\n",
       "      <td>7</td>\n",
       "      <td>[Graduate, Property_Area, Applicant_Income_Cat...</td>\n",
       "      <td>0.816</td>\n",
       "      <td>0.720</td>\n",
       "      <td>0.982</td>\n",
       "      <td>0.720</td>\n",
       "    </tr>\n",
       "    <tr>\n",
       "      <th>10</th>\n",
       "      <td>SVC_f2</td>\n",
       "      <td>7</td>\n",
       "      <td>[Credit_History, Property_Area, Coapplicant_In...</td>\n",
       "      <td>0.816</td>\n",
       "      <td>0.720</td>\n",
       "      <td>0.982</td>\n",
       "      <td>0.720</td>\n",
       "    </tr>\n",
       "    <tr>\n",
       "      <th>11</th>\n",
       "      <td>SVC_f3</td>\n",
       "      <td>7</td>\n",
       "      <td>[Graduate, Property_Area, Applicant_Income_Cat...</td>\n",
       "      <td>0.816</td>\n",
       "      <td>0.720</td>\n",
       "      <td>0.982</td>\n",
       "      <td>0.720</td>\n",
       "    </tr>\n",
       "    <tr>\n",
       "      <th>0</th>\n",
       "      <td>GNB_f1</td>\n",
       "      <td>11</td>\n",
       "      <td>[Married, Graduate, Property_Area, Applicant_I...</td>\n",
       "      <td>0.812</td>\n",
       "      <td>0.719</td>\n",
       "      <td>0.974</td>\n",
       "      <td>0.719</td>\n",
       "    </tr>\n",
       "    <tr>\n",
       "      <th>4</th>\n",
       "      <td>GNB_f2</td>\n",
       "      <td>7</td>\n",
       "      <td>[Credit_History, Property_Area, Coapplicant_In...</td>\n",
       "      <td>0.812</td>\n",
       "      <td>0.719</td>\n",
       "      <td>0.974</td>\n",
       "      <td>0.719</td>\n",
       "    </tr>\n",
       "    <tr>\n",
       "      <th>1</th>\n",
       "      <td>LRC_f1</td>\n",
       "      <td>11</td>\n",
       "      <td>[Married, Graduate, Property_Area, Applicant_I...</td>\n",
       "      <td>0.814</td>\n",
       "      <td>0.719</td>\n",
       "      <td>0.979</td>\n",
       "      <td>0.719</td>\n",
       "    </tr>\n",
       "    <tr>\n",
       "      <th>8</th>\n",
       "      <td>RFC_f2</td>\n",
       "      <td>7</td>\n",
       "      <td>[Credit_History, Property_Area, Coapplicant_In...</td>\n",
       "      <td>0.789</td>\n",
       "      <td>0.705</td>\n",
       "      <td>0.935</td>\n",
       "      <td>0.705</td>\n",
       "    </tr>\n",
       "    <tr>\n",
       "      <th>2</th>\n",
       "      <td>RFC_f1</td>\n",
       "      <td>11</td>\n",
       "      <td>[Married, Graduate, Property_Area, Applicant_I...</td>\n",
       "      <td>0.754</td>\n",
       "      <td>0.685</td>\n",
       "      <td>0.873</td>\n",
       "      <td>0.685</td>\n",
       "    </tr>\n",
       "  </tbody>\n",
       "</table>\n",
       "</div>"
      ],
      "text/plain": [
       "     model_name  feature_count  \\\n",
       "9        RFC_f3              7   \n",
       "12  LR_f2_tuned              7   \n",
       "6        LRC_f2              7   \n",
       "3        SVC_f1             11   \n",
       "5        GNB_f3              7   \n",
       "7        LRC_f3              7   \n",
       "10       SVC_f2              7   \n",
       "11       SVC_f3              7   \n",
       "0        GNB_f1             11   \n",
       "4        GNB_f2              7   \n",
       "1        LRC_f1             11   \n",
       "8        RFC_f2              7   \n",
       "2        RFC_f1             11   \n",
       "\n",
       "                                        feature_names    ACC    BAC    REC  \\\n",
       "9   [Graduate, Property_Area, Applicant_Income_Cat...  0.794  0.731  0.904   \n",
       "12  [Credit_History, Property_Area, Coapplicant_In...  0.784  0.725  0.886   \n",
       "6   [Credit_History, Property_Area, Coapplicant_In...  0.817  0.723  0.982   \n",
       "3   [Married, Graduate, Property_Area, Applicant_I...  0.816  0.720  0.982   \n",
       "5   [Graduate, Property_Area, Applicant_Income_Cat...  0.816  0.720  0.982   \n",
       "7   [Graduate, Property_Area, Applicant_Income_Cat...  0.816  0.720  0.982   \n",
       "10  [Credit_History, Property_Area, Coapplicant_In...  0.816  0.720  0.982   \n",
       "11  [Graduate, Property_Area, Applicant_Income_Cat...  0.816  0.720  0.982   \n",
       "0   [Married, Graduate, Property_Area, Applicant_I...  0.812  0.719  0.974   \n",
       "4   [Credit_History, Property_Area, Coapplicant_In...  0.812  0.719  0.974   \n",
       "1   [Married, Graduate, Property_Area, Applicant_I...  0.814  0.719  0.979   \n",
       "8   [Credit_History, Property_Area, Coapplicant_In...  0.789  0.705  0.935   \n",
       "2   [Married, Graduate, Property_Area, Applicant_I...  0.754  0.685  0.873   \n",
       "\n",
       "      AUC  \n",
       "9   0.731  \n",
       "12  0.725  \n",
       "6   0.723  \n",
       "3   0.720  \n",
       "5   0.720  \n",
       "7   0.720  \n",
       "10  0.720  \n",
       "11  0.720  \n",
       "0   0.719  \n",
       "4   0.719  \n",
       "1   0.719  \n",
       "8   0.705  \n",
       "2   0.685  "
      ]
     },
     "execution_count": 109,
     "metadata": {},
     "output_type": "execute_result"
    }
   ],
   "source": [
    "acc_lr_f2_, bac_lr_f2_, rec_lr_f2_, auc_lr_f2_ = fit_algo(LR(random_state=23, C=0.1, class_weight='balanced', solver='liblinear'), df_finance_train[feature_set_2], label)\n",
    "model_evaluation('LR_f2_tuned', len(feature_set_2), feature_set_2, acc_lr_f2_, bac_lr_f2_, rec_lr_f2_, auc_lr_f2_)"
   ]
  },
  {
   "cell_type": "markdown",
   "id": "a6d5d4cf",
   "metadata": {},
   "source": [
    "Although the Balanced accuracy scores for the tuned model went up, the recall score came down significantly. Therefore, let's also try to tune the hyperparameters of Random forest classifier with feature_set_3 and see if we can get an even better balanced accuracy."
   ]
  },
  {
   "cell_type": "code",
   "execution_count": 113,
   "id": "f0de7536",
   "metadata": {},
   "outputs": [
    {
     "data": {
      "text/plain": [
       "{'bootstrap': True,\n",
       " 'class_weight': 'balanced',\n",
       " 'criterion': 'entropy',\n",
       " 'max_depth': 10,\n",
       " 'min_samples_split': 6}"
      ]
     },
     "execution_count": 113,
     "metadata": {},
     "output_type": "execute_result"
    }
   ],
   "source": [
    "param_grid_rfc = {'criterion': ['gini', 'entropy'],\n",
    "                  'bootstrap': [True, False],\n",
    "                  'class_weight': [None, 'balanced'],\n",
    "                  'max_depth': [None, 10, 50, 100, 500],\n",
    "                  'min_samples_split': [3,4,5,6],\n",
    "}\n",
    "\n",
    "grid_search_rfc = GridSearchCV(RFC(random_state=23), param_grid=param_grid_rfc, cv=10, scoring='balanced_accuracy')\n",
    "grid_search_rfc.fit(df_finance_train[feature_set_3], label)\n",
    "grid_search_rfc.best_params_"
   ]
  },
  {
   "cell_type": "markdown",
   "id": "9c1b3531",
   "metadata": {},
   "source": [
    "We have the best hyperparameters for Random Forest. Let's run the algorithm one last time."
   ]
  },
  {
   "cell_type": "code",
   "execution_count": 114,
   "id": "f3f32741",
   "metadata": {},
   "outputs": [
    {
     "data": {
      "text/html": [
       "<div>\n",
       "<style scoped>\n",
       "    .dataframe tbody tr th:only-of-type {\n",
       "        vertical-align: middle;\n",
       "    }\n",
       "\n",
       "    .dataframe tbody tr th {\n",
       "        vertical-align: top;\n",
       "    }\n",
       "\n",
       "    .dataframe thead th {\n",
       "        text-align: right;\n",
       "    }\n",
       "</style>\n",
       "<table border=\"1\" class=\"dataframe\">\n",
       "  <thead>\n",
       "    <tr style=\"text-align: right;\">\n",
       "      <th></th>\n",
       "      <th>model_name</th>\n",
       "      <th>feature_count</th>\n",
       "      <th>feature_names</th>\n",
       "      <th>ACC</th>\n",
       "      <th>BAC</th>\n",
       "      <th>REC</th>\n",
       "      <th>AUC</th>\n",
       "    </tr>\n",
       "  </thead>\n",
       "  <tbody>\n",
       "    <tr>\n",
       "      <th>9</th>\n",
       "      <td>RFC_f3</td>\n",
       "      <td>7</td>\n",
       "      <td>[Graduate, Property_Area, Applicant_Income_Cat...</td>\n",
       "      <td>0.794</td>\n",
       "      <td>0.731</td>\n",
       "      <td>0.904</td>\n",
       "      <td>0.731</td>\n",
       "    </tr>\n",
       "    <tr>\n",
       "      <th>13</th>\n",
       "      <td>RFC_f3_tuned</td>\n",
       "      <td>7</td>\n",
       "      <td>[Graduate, Property_Area, Applicant_Income_Cat...</td>\n",
       "      <td>0.784</td>\n",
       "      <td>0.728</td>\n",
       "      <td>0.881</td>\n",
       "      <td>0.728</td>\n",
       "    </tr>\n",
       "    <tr>\n",
       "      <th>14</th>\n",
       "      <td>RFC_f3_tuned</td>\n",
       "      <td>7</td>\n",
       "      <td>[Graduate, Property_Area, Applicant_Income_Cat...</td>\n",
       "      <td>0.784</td>\n",
       "      <td>0.728</td>\n",
       "      <td>0.881</td>\n",
       "      <td>0.728</td>\n",
       "    </tr>\n",
       "    <tr>\n",
       "      <th>12</th>\n",
       "      <td>LR_f2_tuned</td>\n",
       "      <td>7</td>\n",
       "      <td>[Credit_History, Property_Area, Coapplicant_In...</td>\n",
       "      <td>0.784</td>\n",
       "      <td>0.725</td>\n",
       "      <td>0.886</td>\n",
       "      <td>0.725</td>\n",
       "    </tr>\n",
       "    <tr>\n",
       "      <th>6</th>\n",
       "      <td>LRC_f2</td>\n",
       "      <td>7</td>\n",
       "      <td>[Credit_History, Property_Area, Coapplicant_In...</td>\n",
       "      <td>0.817</td>\n",
       "      <td>0.723</td>\n",
       "      <td>0.982</td>\n",
       "      <td>0.723</td>\n",
       "    </tr>\n",
       "    <tr>\n",
       "      <th>3</th>\n",
       "      <td>SVC_f1</td>\n",
       "      <td>11</td>\n",
       "      <td>[Married, Graduate, Property_Area, Applicant_I...</td>\n",
       "      <td>0.816</td>\n",
       "      <td>0.720</td>\n",
       "      <td>0.982</td>\n",
       "      <td>0.720</td>\n",
       "    </tr>\n",
       "    <tr>\n",
       "      <th>5</th>\n",
       "      <td>GNB_f3</td>\n",
       "      <td>7</td>\n",
       "      <td>[Graduate, Property_Area, Applicant_Income_Cat...</td>\n",
       "      <td>0.816</td>\n",
       "      <td>0.720</td>\n",
       "      <td>0.982</td>\n",
       "      <td>0.720</td>\n",
       "    </tr>\n",
       "    <tr>\n",
       "      <th>7</th>\n",
       "      <td>LRC_f3</td>\n",
       "      <td>7</td>\n",
       "      <td>[Graduate, Property_Area, Applicant_Income_Cat...</td>\n",
       "      <td>0.816</td>\n",
       "      <td>0.720</td>\n",
       "      <td>0.982</td>\n",
       "      <td>0.720</td>\n",
       "    </tr>\n",
       "    <tr>\n",
       "      <th>10</th>\n",
       "      <td>SVC_f2</td>\n",
       "      <td>7</td>\n",
       "      <td>[Credit_History, Property_Area, Coapplicant_In...</td>\n",
       "      <td>0.816</td>\n",
       "      <td>0.720</td>\n",
       "      <td>0.982</td>\n",
       "      <td>0.720</td>\n",
       "    </tr>\n",
       "    <tr>\n",
       "      <th>11</th>\n",
       "      <td>SVC_f3</td>\n",
       "      <td>7</td>\n",
       "      <td>[Graduate, Property_Area, Applicant_Income_Cat...</td>\n",
       "      <td>0.816</td>\n",
       "      <td>0.720</td>\n",
       "      <td>0.982</td>\n",
       "      <td>0.720</td>\n",
       "    </tr>\n",
       "    <tr>\n",
       "      <th>0</th>\n",
       "      <td>GNB_f1</td>\n",
       "      <td>11</td>\n",
       "      <td>[Married, Graduate, Property_Area, Applicant_I...</td>\n",
       "      <td>0.812</td>\n",
       "      <td>0.719</td>\n",
       "      <td>0.974</td>\n",
       "      <td>0.719</td>\n",
       "    </tr>\n",
       "    <tr>\n",
       "      <th>4</th>\n",
       "      <td>GNB_f2</td>\n",
       "      <td>7</td>\n",
       "      <td>[Credit_History, Property_Area, Coapplicant_In...</td>\n",
       "      <td>0.812</td>\n",
       "      <td>0.719</td>\n",
       "      <td>0.974</td>\n",
       "      <td>0.719</td>\n",
       "    </tr>\n",
       "    <tr>\n",
       "      <th>1</th>\n",
       "      <td>LRC_f1</td>\n",
       "      <td>11</td>\n",
       "      <td>[Married, Graduate, Property_Area, Applicant_I...</td>\n",
       "      <td>0.814</td>\n",
       "      <td>0.719</td>\n",
       "      <td>0.979</td>\n",
       "      <td>0.719</td>\n",
       "    </tr>\n",
       "    <tr>\n",
       "      <th>8</th>\n",
       "      <td>RFC_f2</td>\n",
       "      <td>7</td>\n",
       "      <td>[Credit_History, Property_Area, Coapplicant_In...</td>\n",
       "      <td>0.789</td>\n",
       "      <td>0.705</td>\n",
       "      <td>0.935</td>\n",
       "      <td>0.705</td>\n",
       "    </tr>\n",
       "    <tr>\n",
       "      <th>2</th>\n",
       "      <td>RFC_f1</td>\n",
       "      <td>11</td>\n",
       "      <td>[Married, Graduate, Property_Area, Applicant_I...</td>\n",
       "      <td>0.754</td>\n",
       "      <td>0.685</td>\n",
       "      <td>0.873</td>\n",
       "      <td>0.685</td>\n",
       "    </tr>\n",
       "  </tbody>\n",
       "</table>\n",
       "</div>"
      ],
      "text/plain": [
       "      model_name  feature_count  \\\n",
       "9         RFC_f3              7   \n",
       "13  RFC_f3_tuned              7   \n",
       "14  RFC_f3_tuned              7   \n",
       "12   LR_f2_tuned              7   \n",
       "6         LRC_f2              7   \n",
       "3         SVC_f1             11   \n",
       "5         GNB_f3              7   \n",
       "7         LRC_f3              7   \n",
       "10        SVC_f2              7   \n",
       "11        SVC_f3              7   \n",
       "0         GNB_f1             11   \n",
       "4         GNB_f2              7   \n",
       "1         LRC_f1             11   \n",
       "8         RFC_f2              7   \n",
       "2         RFC_f1             11   \n",
       "\n",
       "                                        feature_names    ACC    BAC    REC  \\\n",
       "9   [Graduate, Property_Area, Applicant_Income_Cat...  0.794  0.731  0.904   \n",
       "13  [Graduate, Property_Area, Applicant_Income_Cat...  0.784  0.728  0.881   \n",
       "14  [Graduate, Property_Area, Applicant_Income_Cat...  0.784  0.728  0.881   \n",
       "12  [Credit_History, Property_Area, Coapplicant_In...  0.784  0.725  0.886   \n",
       "6   [Credit_History, Property_Area, Coapplicant_In...  0.817  0.723  0.982   \n",
       "3   [Married, Graduate, Property_Area, Applicant_I...  0.816  0.720  0.982   \n",
       "5   [Graduate, Property_Area, Applicant_Income_Cat...  0.816  0.720  0.982   \n",
       "7   [Graduate, Property_Area, Applicant_Income_Cat...  0.816  0.720  0.982   \n",
       "10  [Credit_History, Property_Area, Coapplicant_In...  0.816  0.720  0.982   \n",
       "11  [Graduate, Property_Area, Applicant_Income_Cat...  0.816  0.720  0.982   \n",
       "0   [Married, Graduate, Property_Area, Applicant_I...  0.812  0.719  0.974   \n",
       "4   [Credit_History, Property_Area, Coapplicant_In...  0.812  0.719  0.974   \n",
       "1   [Married, Graduate, Property_Area, Applicant_I...  0.814  0.719  0.979   \n",
       "8   [Credit_History, Property_Area, Coapplicant_In...  0.789  0.705  0.935   \n",
       "2   [Married, Graduate, Property_Area, Applicant_I...  0.754  0.685  0.873   \n",
       "\n",
       "      AUC  \n",
       "9   0.731  \n",
       "13  0.728  \n",
       "14  0.728  \n",
       "12  0.725  \n",
       "6   0.723  \n",
       "3   0.720  \n",
       "5   0.720  \n",
       "7   0.720  \n",
       "10  0.720  \n",
       "11  0.720  \n",
       "0   0.719  \n",
       "4   0.719  \n",
       "1   0.719  \n",
       "8   0.705  \n",
       "2   0.685  "
      ]
     },
     "execution_count": 114,
     "metadata": {},
     "output_type": "execute_result"
    }
   ],
   "source": [
    "model_rfc_tuned = RFC(random_state=23, bootstrap=True, class_weight='balanced', criterion='entropy', max_depth=None, min_samples_split=3)\n",
    "acc_rf_f3_, bac_rf_f3_, rec_rf_f3_, auc_rf_f3_ = fit_algo(model_rfc_tuned, df_finance_train[feature_set_3], label)\n",
    "model_evaluation('RFC_f3_tuned', len(feature_set_3), feature_set_3, acc_rf_f3_, bac_rf_f3_, rec_rf_f3_, auc_rf_f3_)"
   ]
  },
  {
   "cell_type": "markdown",
   "id": "7e354add",
   "metadata": {},
   "source": [
    " Finally,  have managed to increase the balanced accuracy score but the loss in recall when compared to the gain in balanced accuracy is quite significant. Therefore, I would prefer using the Logistic Regression model with feature set 2 for making our predictions."
   ]
  },
  {
   "cell_type": "markdown",
   "id": "449094b2",
   "metadata": {},
   "source": [
    "Making predictions\n",
    "Checking the missing values in the test set."
   ]
  },
  {
   "cell_type": "code",
   "execution_count": 115,
   "id": "a72c2e74",
   "metadata": {},
   "outputs": [],
   "source": [
    "finance_test = pd.read_csv(\"finance_test_data.csv\")"
   ]
  },
  {
   "cell_type": "code",
   "execution_count": 116,
   "id": "e32afda8",
   "metadata": {},
   "outputs": [
    {
     "data": {
      "text/plain": [
       "Loan_ID               0\n",
       "Gender               11\n",
       "Married               0\n",
       "Dependents           10\n",
       "Education             0\n",
       "Self_Employed        23\n",
       "ApplicantIncome       0\n",
       "CoapplicantIncome     0\n",
       "LoanAmount            5\n",
       "Loan_Amount_Term      6\n",
       "Credit_History       29\n",
       "Property_Area         0\n",
       "dtype: int64"
      ]
     },
     "execution_count": 116,
     "metadata": {},
     "output_type": "execute_result"
    }
   ],
   "source": [
    "finance_test.isna().sum()"
   ]
  },
  {
   "cell_type": "code",
   "execution_count": 117,
   "id": "285134b1",
   "metadata": {},
   "outputs": [
    {
     "data": {
      "text/plain": [
       "['Credit_History',\n",
       " 'Property_Area',\n",
       " 'Coapplicant_Income_exists',\n",
       " 'Graduate',\n",
       " 'Dependents',\n",
       " 'Married',\n",
       " 'Loan_Term_Years_encoded']"
      ]
     },
     "execution_count": 117,
     "metadata": {},
     "output_type": "execute_result"
    }
   ],
   "source": [
    "# We will be using feature_set_2 to make predictions\n",
    "\n",
    "feature_set_2"
   ]
  },
  {
   "cell_type": "markdown",
   "id": "772ebcaa",
   "metadata": {},
   "source": [
    "We need to Impute the missing values of Credit_history, Dependents, Loan_Amount_term\n",
    "1. Imputing Dependents - using the same proportion of 0,1,2,3 as was in the training set."
   ]
  },
  {
   "cell_type": "code",
   "execution_count": 120,
   "id": "7c06b634",
   "metadata": {},
   "outputs": [],
   "source": [
    "finance_test.Dependents = finance_test.Dependents.replace('3+','3')\n",
    "np.random.seed(23)\n",
    "finance_test.Dependents = finance_test.Dependents.fillna(pd.Series(np.random.choice(['0', '1', '2', '3'], p=[0.58, 0.17, 0.17, 0.08], size=len(finance_test))))"
   ]
  },
  {
   "cell_type": "markdown",
   "id": "6910e0d5",
   "metadata": {},
   "source": [
    "2. Imputing Loan_Amount_Term with the top two values: 360.0 and 180.0"
   ]
  },
  {
   "cell_type": "code",
   "execution_count": 121,
   "id": "83053670",
   "metadata": {},
   "outputs": [],
   "source": [
    "np.random.seed(23)\n",
    "finance_test['Loan_Amount_Term'] = finance_test.Loan_Amount_Term.fillna(pd.Series(np.random.choice([360.0, 180.0], p=[0.84, 0.16], size=len(finance_test))))\n",
    "finance_test['Loan_Term_Years'] = finance_test['Loan_Amount_Term'].apply(lambda x: x//12)"
   ]
  },
  {
   "cell_type": "markdown",
   "id": "b340862a",
   "metadata": {},
   "source": [
    "3. Imputing Credit_History with the same proportions of 0 and 1 as was in the training set."
   ]
  },
  {
   "cell_type": "code",
   "execution_count": 122,
   "id": "02692295",
   "metadata": {},
   "outputs": [
    {
     "data": {
      "text/plain": [
       "1.0    0.842199\n",
       "0.0    0.157801\n",
       "Name: Credit_History, dtype: float64"
      ]
     },
     "execution_count": 122,
     "metadata": {},
     "output_type": "execute_result"
    }
   ],
   "source": [
    "df_finance_train.Credit_History.value_counts(dropna=False, normalize=True)"
   ]
  },
  {
   "cell_type": "code",
   "execution_count": 123,
   "id": "70f07283",
   "metadata": {},
   "outputs": [],
   "source": [
    "finance_test['Credit_History'] = finance_test.Credit_History.fillna(pd.Series(np.random.choice([0, 1], p=[0.16, 0.84], size=len(finance_test))))"
   ]
  },
  {
   "cell_type": "markdown",
   "id": "c3e0c8c9",
   "metadata": {},
   "source": [
    "4. Imputing LoanAmount with the median from the training set"
   ]
  },
  {
   "cell_type": "code",
   "execution_count": 124,
   "id": "89be3a25",
   "metadata": {},
   "outputs": [],
   "source": [
    "finance_test['LoanAmount'] = finance_test.LoanAmount.fillna(finance_train.LoanAmount.median())\n",
    "\n",
    "# We need to also Label Encode the Loan Amount but since it's not a part of feature_set_2, we will skip this"
   ]
  },
  {
   "cell_type": "markdown",
   "id": "3a69d406",
   "metadata": {},
   "source": [
    "5. Imputing Self_Employed in the same proportions of \"yes\" and \"no\" as the training set."
   ]
  },
  {
   "cell_type": "code",
   "execution_count": 125,
   "id": "8070a57f",
   "metadata": {},
   "outputs": [],
   "source": [
    "finance_test['Self_Employed'] = finance_test.Self_Employed.fillna(pd.Series(np.random.choice(['Yes', 'No'], p=[0.14, 0.86], size=len(finance_test))))"
   ]
  },
  {
   "cell_type": "markdown",
   "id": "a540cbd2",
   "metadata": {},
   "source": [
    "Creating an empty DataFrame to which we can add our encoded features one by one."
   ]
  },
  {
   "cell_type": "code",
   "execution_count": 126,
   "id": "c9480d12",
   "metadata": {},
   "outputs": [],
   "source": [
    "df_finance_submit = pd.DataFrame()"
   ]
  },
  {
   "cell_type": "markdown",
   "id": "1d6726c1",
   "metadata": {},
   "source": [
    "Adding all the features present in feature_set_2 and encoding them"
   ]
  },
  {
   "cell_type": "code",
   "execution_count": 127,
   "id": "83353884",
   "metadata": {},
   "outputs": [],
   "source": [
    "# 1. Credit History\n",
    "df_finance_submit['Credit_History'] = finance_test['Credit_History']\n",
    "\n",
    "\n",
    "# 2. Property Area with the same weights to properties as the training set.\n",
    "df_finance_submit['Property_Area'] = finance_test.Property_Area.replace({'Semiurban': 3,\n",
    "                                                                         'Urban': 2,\n",
    "                                                                         'Rural': 1})\n",
    "\n",
    "\n",
    "# 3. Coapplicant Income exists or not. 1 for Yes and 0 for No\n",
    "df_finance_submit['Coapplicant_Income_exists'] = finance_test['CoapplicantIncome']\n",
    "df_finance_submit['Coapplicant_Income_exists'] = np.where(df_finance_submit.Coapplicant_Income_exists == 0, 0, 1)\n",
    "\n",
    "\n",
    "# 4. Education status.\n",
    "df_finance_submit['Graduate'] = finance_test['Education'].replace({'Graduate': 1,\n",
    "                                                                  'Not Graduate' : 0 })\n",
    "\n",
    "# 5. Marriage status\n",
    "df_finance_submit['Married'] = finance_test['Married'].replace({'Yes': 1,\n",
    "                                                                'No': 0 })\n",
    "\n",
    "# 6. Dependents. \n",
    "df_finance_submit['Dependents'] = finance_test['Dependents'].replace({'1': 3, '0': 2, '2': 1, '3': 0})"
   ]
  },
  {
   "cell_type": "code",
   "execution_count": 128,
   "id": "64d03b3f",
   "metadata": {
    "scrolled": true
   },
   "outputs": [
    {
     "data": {
      "text/html": [
       "<div>\n",
       "<style scoped>\n",
       "    .dataframe tbody tr th:only-of-type {\n",
       "        vertical-align: middle;\n",
       "    }\n",
       "\n",
       "    .dataframe tbody tr th {\n",
       "        vertical-align: top;\n",
       "    }\n",
       "\n",
       "    .dataframe thead th {\n",
       "        text-align: right;\n",
       "    }\n",
       "</style>\n",
       "<table border=\"1\" class=\"dataframe\">\n",
       "  <thead>\n",
       "    <tr style=\"text-align: right;\">\n",
       "      <th></th>\n",
       "      <th>Credit_History</th>\n",
       "      <th>Property_Area</th>\n",
       "      <th>Coapplicant_Income_exists</th>\n",
       "      <th>Graduate</th>\n",
       "      <th>Married</th>\n",
       "      <th>Dependents</th>\n",
       "      <th>Loan_Term_Years_encoded</th>\n",
       "    </tr>\n",
       "  </thead>\n",
       "  <tbody>\n",
       "    <tr>\n",
       "      <th>0</th>\n",
       "      <td>1.0</td>\n",
       "      <td>2</td>\n",
       "      <td>0</td>\n",
       "      <td>1</td>\n",
       "      <td>1</td>\n",
       "      <td>2</td>\n",
       "      <td>10</td>\n",
       "    </tr>\n",
       "    <tr>\n",
       "      <th>1</th>\n",
       "      <td>1.0</td>\n",
       "      <td>2</td>\n",
       "      <td>1</td>\n",
       "      <td>1</td>\n",
       "      <td>1</td>\n",
       "      <td>3</td>\n",
       "      <td>10</td>\n",
       "    </tr>\n",
       "    <tr>\n",
       "      <th>2</th>\n",
       "      <td>1.0</td>\n",
       "      <td>2</td>\n",
       "      <td>1</td>\n",
       "      <td>1</td>\n",
       "      <td>1</td>\n",
       "      <td>1</td>\n",
       "      <td>10</td>\n",
       "    </tr>\n",
       "    <tr>\n",
       "      <th>3</th>\n",
       "      <td>1.0</td>\n",
       "      <td>2</td>\n",
       "      <td>1</td>\n",
       "      <td>1</td>\n",
       "      <td>1</td>\n",
       "      <td>1</td>\n",
       "      <td>10</td>\n",
       "    </tr>\n",
       "    <tr>\n",
       "      <th>4</th>\n",
       "      <td>1.0</td>\n",
       "      <td>2</td>\n",
       "      <td>0</td>\n",
       "      <td>0</td>\n",
       "      <td>0</td>\n",
       "      <td>2</td>\n",
       "      <td>10</td>\n",
       "    </tr>\n",
       "  </tbody>\n",
       "</table>\n",
       "</div>"
      ],
      "text/plain": [
       "   Credit_History  Property_Area  Coapplicant_Income_exists  Graduate  \\\n",
       "0             1.0              2                          0         1   \n",
       "1             1.0              2                          1         1   \n",
       "2             1.0              2                          1         1   \n",
       "3             1.0              2                          1         1   \n",
       "4             1.0              2                          0         0   \n",
       "\n",
       "   Married  Dependents  Loan_Term_Years_encoded  \n",
       "0        1           2                       10  \n",
       "1        1           3                       10  \n",
       "2        1           1                       10  \n",
       "3        1           1                       10  \n",
       "4        0           2                       10  "
      ]
     },
     "execution_count": 128,
     "metadata": {},
     "output_type": "execute_result"
    }
   ],
   "source": [
    "# 7. Loan_Term years after label encoding it\n",
    "\n",
    "encode = LabelEncoder()\n",
    "df_finance_submit['Loan_Term_Years_encoded'] = pd.Series(encode.fit_transform(finance_test['Loan_Term_Years']))\n",
    "df_finance_submit.head()"
   ]
  },
  {
   "cell_type": "code",
   "execution_count": 129,
   "id": "94ab30e9",
   "metadata": {},
   "outputs": [
    {
     "data": {
      "text/plain": [
       "array([1, 1, 1, 1, 1, 1, 1, 0, 1, 1, 1, 1, 0, 0, 1, 1, 1, 1, 1, 1, 1, 1,\n",
       "       1, 1, 1, 0, 1, 1, 0, 1])"
      ]
     },
     "execution_count": 129,
     "metadata": {},
     "output_type": "execute_result"
    }
   ],
   "source": [
    "final_model = LR(solver='liblinear', random_state=23, C=0.5).fit(df_finance_train[feature_set_2], label)\n",
    "final_predictions = final_model.predict(df_finance_submit[feature_set_2])\n",
    "final_predictions[:30]"
   ]
  },
  {
   "cell_type": "code",
   "execution_count": 130,
   "id": "92f1e77f",
   "metadata": {},
   "outputs": [
    {
     "data": {
      "text/html": [
       "<div>\n",
       "<style scoped>\n",
       "    .dataframe tbody tr th:only-of-type {\n",
       "        vertical-align: middle;\n",
       "    }\n",
       "\n",
       "    .dataframe tbody tr th {\n",
       "        vertical-align: top;\n",
       "    }\n",
       "\n",
       "    .dataframe thead th {\n",
       "        text-align: right;\n",
       "    }\n",
       "</style>\n",
       "<table border=\"1\" class=\"dataframe\">\n",
       "  <thead>\n",
       "    <tr style=\"text-align: right;\">\n",
       "      <th></th>\n",
       "      <th>Loan_ID</th>\n",
       "      <th>Loan_Status</th>\n",
       "    </tr>\n",
       "  </thead>\n",
       "  <tbody>\n",
       "    <tr>\n",
       "      <th>357</th>\n",
       "      <td>LP002952</td>\n",
       "      <td>1</td>\n",
       "    </tr>\n",
       "    <tr>\n",
       "      <th>358</th>\n",
       "      <td>LP002954</td>\n",
       "      <td>1</td>\n",
       "    </tr>\n",
       "    <tr>\n",
       "      <th>359</th>\n",
       "      <td>LP002962</td>\n",
       "      <td>1</td>\n",
       "    </tr>\n",
       "    <tr>\n",
       "      <th>360</th>\n",
       "      <td>LP002965</td>\n",
       "      <td>1</td>\n",
       "    </tr>\n",
       "    <tr>\n",
       "      <th>361</th>\n",
       "      <td>LP002969</td>\n",
       "      <td>1</td>\n",
       "    </tr>\n",
       "    <tr>\n",
       "      <th>362</th>\n",
       "      <td>LP002971</td>\n",
       "      <td>1</td>\n",
       "    </tr>\n",
       "    <tr>\n",
       "      <th>363</th>\n",
       "      <td>LP002975</td>\n",
       "      <td>1</td>\n",
       "    </tr>\n",
       "    <tr>\n",
       "      <th>364</th>\n",
       "      <td>LP002980</td>\n",
       "      <td>1</td>\n",
       "    </tr>\n",
       "    <tr>\n",
       "      <th>365</th>\n",
       "      <td>LP002986</td>\n",
       "      <td>1</td>\n",
       "    </tr>\n",
       "    <tr>\n",
       "      <th>366</th>\n",
       "      <td>LP002989</td>\n",
       "      <td>1</td>\n",
       "    </tr>\n",
       "  </tbody>\n",
       "</table>\n",
       "</div>"
      ],
      "text/plain": [
       "      Loan_ID  Loan_Status\n",
       "357  LP002952            1\n",
       "358  LP002954            1\n",
       "359  LP002962            1\n",
       "360  LP002965            1\n",
       "361  LP002969            1\n",
       "362  LP002971            1\n",
       "363  LP002975            1\n",
       "364  LP002980            1\n",
       "365  LP002986            1\n",
       "366  LP002989            1"
      ]
     },
     "execution_count": 130,
     "metadata": {},
     "output_type": "execute_result"
    }
   ],
   "source": [
    "#Creating a DataFrame to store only the necessary columns to match the schema for the final submission.\n",
    "\n",
    "final_submission = pd.DataFrame()\n",
    "\n",
    "final_submission['Loan_ID'] = finance_test['Loan_ID']\n",
    "final_submission['Loan_Status'] = final_predictions\n",
    "\n",
    "final_submission.tail(10)"
   ]
  },
  {
   "cell_type": "code",
   "execution_count": null,
   "id": "88dff61d",
   "metadata": {},
   "outputs": [],
   "source": []
  }
 ],
 "metadata": {
  "kernelspec": {
   "display_name": "Python 3 (ipykernel)",
   "language": "python",
   "name": "python3"
  },
  "language_info": {
   "codemirror_mode": {
    "name": "ipython",
    "version": 3
   },
   "file_extension": ".py",
   "mimetype": "text/x-python",
   "name": "python",
   "nbconvert_exporter": "python",
   "pygments_lexer": "ipython3",
   "version": "3.9.12"
  }
 },
 "nbformat": 4,
 "nbformat_minor": 5
}
